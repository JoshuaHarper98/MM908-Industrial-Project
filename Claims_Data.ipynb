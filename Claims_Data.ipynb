{
  "nbformat": 4,
  "nbformat_minor": 0,
  "metadata": {
    "colab": {
      "name": "Claims Data.ipynb",
      "provenance": [],
      "collapsed_sections": [
        "i-dU3eWZ2nS8",
        "k6YD9hHXUdxk"
      ],
      "machine_shape": "hm",
      "mount_file_id": "1A08tH25x4GDJtDvHB5UzoDXAD8dOYA0y",
      "authorship_tag": "ABX9TyPgeV5kxMr34xDIjwbD6yJn",
      "include_colab_link": true
    },
    "kernelspec": {
      "name": "python3",
      "display_name": "Python 3"
    },
    "language_info": {
      "name": "python"
    }
  },
  "cells": [
    {
      "cell_type": "markdown",
      "metadata": {
        "id": "view-in-github",
        "colab_type": "text"
      },
      "source": [
        "<a href=\"https://colab.research.google.com/github/JoshuaHarper98/MM908-Industrial-Project/blob/main/Claims_Data.ipynb\" target=\"_parent\"><img src=\"https://colab.research.google.com/assets/colab-badge.svg\" alt=\"Open In Colab\"/></a>"
      ]
    },
    {
      "cell_type": "markdown",
      "metadata": {
        "id": "i-dU3eWZ2nS8"
      },
      "source": [
        "# Load Dependencies "
      ]
    },
    {
      "cell_type": "code",
      "metadata": {
        "id": "kRsjbbincIxh"
      },
      "source": [
        "import sys\n",
        "sys.path.append('/content/gdrive/My Drive/Colab Notebooks')"
      ],
      "execution_count": null,
      "outputs": []
    },
    {
      "cell_type": "code",
      "metadata": {
        "id": "qo3GRHjib45z"
      },
      "source": [
        "import pandas as pd\n",
        "import numpy as np\n",
        "import math\n",
        "import re\n",
        "import matplotlib.pyplot as plt\n",
        "from matplotlib.ticker import StrMethodFormatter\n",
        "import seaborn as sns\n",
        "import torch\n",
        "import spacy\n",
        "from spacy.lang.en.stop_words import STOP_WORDS\n",
        "from gensim import matutils\n",
        "from collections import defaultdict\n",
        "import itertools\n",
        "import multiprocessing\n",
        "from time import time"
      ],
      "execution_count": null,
      "outputs": []
    },
    {
      "cell_type": "code",
      "metadata": {
        "id": "JByyBPrshcgS"
      },
      "source": [
        "pd.options.display.float_format = '{:.2f}'.format"
      ],
      "execution_count": null,
      "outputs": []
    },
    {
      "cell_type": "markdown",
      "metadata": {
        "id": "k6YD9hHXUdxk"
      },
      "source": [
        "# Loading the data\n"
      ]
    },
    {
      "cell_type": "code",
      "metadata": {
        "id": "RgjRLWgMqB8O"
      },
      "source": [
        "stopwords = set(STOP_WORDS)"
      ],
      "execution_count": null,
      "outputs": []
    },
    {
      "cell_type": "code",
      "metadata": {
        "id": "Kj6PQde-cCPH"
      },
      "source": [
        "preprocessed = pd.read_pickle(\"/content/drive/MyDrive/Data/preprocessed_final.pkl\")"
      ],
      "execution_count": null,
      "outputs": []
    },
    {
      "cell_type": "code",
      "metadata": {
        "id": "gr6WQYWxdZ-W"
      },
      "source": [
        "preprocessed['length'] = [len(text) for text in preprocessed.tokens.values]"
      ],
      "execution_count": null,
      "outputs": []
    },
    {
      "cell_type": "code",
      "metadata": {
        "id": "X-RzjJKjyVIw"
      },
      "source": [
        "preprocessed = preprocessed[preprocessed.length > 3]"
      ],
      "execution_count": null,
      "outputs": []
    },
    {
      "cell_type": "code",
      "metadata": {
        "id": "o_q7_DXzz5nt"
      },
      "source": [
        "preprocessed['lemmas'] = preprocessed['lemmas'].map(lambda x: list(map(str.lower, x)))"
      ],
      "execution_count": null,
      "outputs": []
    },
    {
      "cell_type": "code",
      "metadata": {
        "id": "RQbSPut9cfFz"
      },
      "source": [
        "data = preprocessed[['lemmas', 'Claim', 'Number_of_Claims', 'tokens', 'Product_Code', 'POLICYID', 'length']]\n",
        "data = data.rename(columns = {'lemmas' : 'text'})"
      ],
      "execution_count": null,
      "outputs": []
    },
    {
      "cell_type": "markdown",
      "metadata": {
        "id": "TKM1BBmR47d9"
      },
      "source": [
        "# PRMD\n"
      ]
    },
    {
      "cell_type": "code",
      "metadata": {
        "id": "ueZMsGY_aqsr"
      },
      "source": [
        "PRMD_data = pd.read_csv(\"/content/drive/MyDrive/Data/PRMD_data.csv\")"
      ],
      "execution_count": null,
      "outputs": []
    },
    {
      "cell_type": "code",
      "metadata": {
        "colab": {
          "base_uri": "https://localhost:8080/",
          "height": 419
        },
        "id": "1wSt_57Kelbh",
        "outputId": "8ad2da03-823d-47b5-d5ef-be5b19685f2a"
      },
      "source": [
        "PRMD_data"
      ],
      "execution_count": null,
      "outputs": [
        {
          "output_type": "execute_result",
          "data": {
            "text/html": [
              "<div>\n",
              "<style scoped>\n",
              "    .dataframe tbody tr th:only-of-type {\n",
              "        vertical-align: middle;\n",
              "    }\n",
              "\n",
              "    .dataframe tbody tr th {\n",
              "        vertical-align: top;\n",
              "    }\n",
              "\n",
              "    .dataframe thead th {\n",
              "        text-align: right;\n",
              "    }\n",
              "</style>\n",
              "<table border=\"1\" class=\"dataframe\">\n",
              "  <thead>\n",
              "    <tr style=\"text-align: right;\">\n",
              "      <th></th>\n",
              "      <th>Unnamed: 0</th>\n",
              "      <th>CLAIM_ID</th>\n",
              "      <th>POLICY_ID</th>\n",
              "      <th>Number_of_Claims</th>\n",
              "      <th>Total_Claim_Cost</th>\n",
              "      <th>Average_Claim_Cost</th>\n",
              "    </tr>\n",
              "  </thead>\n",
              "  <tbody>\n",
              "    <tr>\n",
              "      <th>0</th>\n",
              "      <td>1</td>\n",
              "      <td>14608</td>\n",
              "      <td>401102451.00</td>\n",
              "      <td>7</td>\n",
              "      <td>7766.08</td>\n",
              "      <td>1109.44</td>\n",
              "    </tr>\n",
              "    <tr>\n",
              "      <th>1</th>\n",
              "      <td>2</td>\n",
              "      <td>14844</td>\n",
              "      <td>401102892.00</td>\n",
              "      <td>1</td>\n",
              "      <td>0.00</td>\n",
              "      <td>0.00</td>\n",
              "    </tr>\n",
              "    <tr>\n",
              "      <th>2</th>\n",
              "      <td>3</td>\n",
              "      <td>15966</td>\n",
              "      <td>401102696.00</td>\n",
              "      <td>3</td>\n",
              "      <td>6292.00</td>\n",
              "      <td>2097.33</td>\n",
              "    </tr>\n",
              "    <tr>\n",
              "      <th>3</th>\n",
              "      <td>4</td>\n",
              "      <td>17281</td>\n",
              "      <td>401102177.00</td>\n",
              "      <td>1</td>\n",
              "      <td>0.00</td>\n",
              "      <td>0.00</td>\n",
              "    </tr>\n",
              "    <tr>\n",
              "      <th>4</th>\n",
              "      <td>5</td>\n",
              "      <td>17437</td>\n",
              "      <td>401102384.00</td>\n",
              "      <td>4</td>\n",
              "      <td>5446.28</td>\n",
              "      <td>1361.57</td>\n",
              "    </tr>\n",
              "    <tr>\n",
              "      <th>...</th>\n",
              "      <td>...</td>\n",
              "      <td>...</td>\n",
              "      <td>...</td>\n",
              "      <td>...</td>\n",
              "      <td>...</td>\n",
              "      <td>...</td>\n",
              "    </tr>\n",
              "    <tr>\n",
              "      <th>18328</th>\n",
              "      <td>18329</td>\n",
              "      <td>1609921</td>\n",
              "      <td>401143565.00</td>\n",
              "      <td>1</td>\n",
              "      <td>5252.00</td>\n",
              "      <td>5252.00</td>\n",
              "    </tr>\n",
              "    <tr>\n",
              "      <th>18329</th>\n",
              "      <td>18330</td>\n",
              "      <td>1609925</td>\n",
              "      <td>198373.00</td>\n",
              "      <td>2</td>\n",
              "      <td>6751.00</td>\n",
              "      <td>3375.50</td>\n",
              "    </tr>\n",
              "    <tr>\n",
              "      <th>18330</th>\n",
              "      <td>18331</td>\n",
              "      <td>1610101</td>\n",
              "      <td>401303926.00</td>\n",
              "      <td>1</td>\n",
              "      <td>849.00</td>\n",
              "      <td>849.00</td>\n",
              "    </tr>\n",
              "    <tr>\n",
              "      <th>18331</th>\n",
              "      <td>18332</td>\n",
              "      <td>1610131</td>\n",
              "      <td>401123543.00</td>\n",
              "      <td>1</td>\n",
              "      <td>0.00</td>\n",
              "      <td>0.00</td>\n",
              "    </tr>\n",
              "    <tr>\n",
              "      <th>18332</th>\n",
              "      <td>18333</td>\n",
              "      <td>1611488</td>\n",
              "      <td>198375.00</td>\n",
              "      <td>1</td>\n",
              "      <td>0.00</td>\n",
              "      <td>0.00</td>\n",
              "    </tr>\n",
              "  </tbody>\n",
              "</table>\n",
              "<p>18333 rows × 6 columns</p>\n",
              "</div>"
            ],
            "text/plain": [
              "       Unnamed: 0  CLAIM_ID  ...  Total_Claim_Cost  Average_Claim_Cost\n",
              "0               1     14608  ...           7766.08             1109.44\n",
              "1               2     14844  ...              0.00                0.00\n",
              "2               3     15966  ...           6292.00             2097.33\n",
              "3               4     17281  ...              0.00                0.00\n",
              "4               5     17437  ...           5446.28             1361.57\n",
              "...           ...       ...  ...               ...                 ...\n",
              "18328       18329   1609921  ...           5252.00             5252.00\n",
              "18329       18330   1609925  ...           6751.00             3375.50\n",
              "18330       18331   1610101  ...            849.00              849.00\n",
              "18331       18332   1610131  ...              0.00                0.00\n",
              "18332       18333   1611488  ...              0.00                0.00\n",
              "\n",
              "[18333 rows x 6 columns]"
            ]
          },
          "metadata": {
            "tags": []
          },
          "execution_count": 11
        }
      ]
    },
    {
      "cell_type": "code",
      "metadata": {
        "id": "QeavCID_bUsM"
      },
      "source": [
        "PRMD_data = PRMD_data.dropna() "
      ],
      "execution_count": null,
      "outputs": []
    },
    {
      "cell_type": "code",
      "metadata": {
        "id": "zS0efURObl1C",
        "colab": {
          "base_uri": "https://localhost:8080/"
        },
        "outputId": "322ffef1-c05b-41f9-9ba7-ea857936c9ae"
      },
      "source": [
        "PRMD_data['POLICY_ID'] = PRMD_data['POLICY_ID'].astype(np.int64)"
      ],
      "execution_count": null,
      "outputs": [
        {
          "output_type": "stream",
          "text": [
            "/usr/local/lib/python3.7/dist-packages/ipykernel_launcher.py:1: SettingWithCopyWarning: \n",
            "A value is trying to be set on a copy of a slice from a DataFrame.\n",
            "Try using .loc[row_indexer,col_indexer] = value instead\n",
            "\n",
            "See the caveats in the documentation: https://pandas.pydata.org/pandas-docs/stable/user_guide/indexing.html#returning-a-view-versus-a-copy\n",
            "  \"\"\"Entry point for launching an IPython kernel.\n"
          ],
          "name": "stderr"
        }
      ]
    },
    {
      "cell_type": "code",
      "metadata": {
        "id": "yRnB60hodV6E"
      },
      "source": [
        "PRMD_df = pd.merge(data, PRMD_data,\n",
        "                   how='inner', left_on='POLICYID', right_on='POLICY_ID')"
      ],
      "execution_count": null,
      "outputs": []
    },
    {
      "cell_type": "code",
      "metadata": {
        "id": "scU03z5rexOW"
      },
      "source": [
        "PRMD_df = PRMD_df.drop(['POLICY_ID', 'Unnamed: 0'], axis=1)"
      ],
      "execution_count": null,
      "outputs": []
    },
    {
      "cell_type": "code",
      "metadata": {
        "colab": {
          "base_uri": "https://localhost:8080/",
          "height": 419
        },
        "id": "3ai61LuRe7IS",
        "outputId": "6c4e77d0-1b51-47cc-f7bf-1a4926ca170e"
      },
      "source": [
        "PRMD_df.sort_values(by= 'Total_Claim_Cost') "
      ],
      "execution_count": null,
      "outputs": [
        {
          "output_type": "execute_result",
          "data": {
            "text/html": [
              "<div>\n",
              "<style scoped>\n",
              "    .dataframe tbody tr th:only-of-type {\n",
              "        vertical-align: middle;\n",
              "    }\n",
              "\n",
              "    .dataframe tbody tr th {\n",
              "        vertical-align: top;\n",
              "    }\n",
              "\n",
              "    .dataframe thead th {\n",
              "        text-align: right;\n",
              "    }\n",
              "</style>\n",
              "<table border=\"1\" class=\"dataframe\">\n",
              "  <thead>\n",
              "    <tr style=\"text-align: right;\">\n",
              "      <th></th>\n",
              "      <th>text</th>\n",
              "      <th>Claim</th>\n",
              "      <th>Number_of_Claims_x</th>\n",
              "      <th>tokens</th>\n",
              "      <th>Product_Code</th>\n",
              "      <th>POLICYID</th>\n",
              "      <th>length</th>\n",
              "      <th>CLAIM_ID</th>\n",
              "      <th>Number_of_Claims_y</th>\n",
              "      <th>Total_Claim_Cost</th>\n",
              "      <th>Average_Claim_Cost</th>\n",
              "    </tr>\n",
              "  </thead>\n",
              "  <tbody>\n",
              "    <tr>\n",
              "      <th>7602</th>\n",
              "      <td>[author, of, change, douglas, mchugh, february...</td>\n",
              "      <td>Yes</td>\n",
              "      <td>18</td>\n",
              "      <td>[author, change, douglas, mchugh, february, cr...</td>\n",
              "      <td>PML</td>\n",
              "      <td>401179290</td>\n",
              "      <td>1074</td>\n",
              "      <td>47061</td>\n",
              "      <td>17</td>\n",
              "      <td>-540158.79</td>\n",
              "      <td>-31774.05</td>\n",
              "    </tr>\n",
              "    <tr>\n",
              "      <th>9332</th>\n",
              "      <td>[issue, total, pd, bi, eml, sum, insured, exce...</td>\n",
              "      <td>Yes</td>\n",
              "      <td>1</td>\n",
              "      <td>[issue, total, eml, sum, insured, exceeds, aut...</td>\n",
              "      <td>PML</td>\n",
              "      <td>401193607</td>\n",
              "      <td>944</td>\n",
              "      <td>225870</td>\n",
              "      <td>1</td>\n",
              "      <td>-189164.80</td>\n",
              "      <td>-189164.80</td>\n",
              "    </tr>\n",
              "    <tr>\n",
              "      <th>6075</th>\n",
              "      <td>[client, denbigh, building, plastics, ltd, ren...</td>\n",
              "      <td>Yes</td>\n",
              "      <td>1</td>\n",
              "      <td>[client, denbigh, building, plastics, ltd, ren...</td>\n",
              "      <td>CSI</td>\n",
              "      <td>401163986</td>\n",
              "      <td>305</td>\n",
              "      <td>273903</td>\n",
              "      <td>1</td>\n",
              "      <td>-51661.90</td>\n",
              "      <td>-51661.90</td>\n",
              "    </tr>\n",
              "    <tr>\n",
              "      <th>12471</th>\n",
              "      <td>[issue, total, pd, bi, eml, sum, insured, exce...</td>\n",
              "      <td>Yes</td>\n",
              "      <td>2</td>\n",
              "      <td>[issue, total, eml, sum, insured, exceeds, aut...</td>\n",
              "      <td>CCI</td>\n",
              "      <td>401339775</td>\n",
              "      <td>315</td>\n",
              "      <td>1350498</td>\n",
              "      <td>2</td>\n",
              "      <td>-33749.25</td>\n",
              "      <td>-16874.62</td>\n",
              "    </tr>\n",
              "    <tr>\n",
              "      <th>13780</th>\n",
              "      <td>[reduction, in, premium, agree, to, 110, k, ex...</td>\n",
              "      <td>Yes</td>\n",
              "      <td>6</td>\n",
              "      <td>[reduction, premium, agree, k, ipt, overall, t...</td>\n",
              "      <td>CCI</td>\n",
              "      <td>401355362</td>\n",
              "      <td>2540</td>\n",
              "      <td>501864</td>\n",
              "      <td>4</td>\n",
              "      <td>-13729.20</td>\n",
              "      <td>-3432.30</td>\n",
              "    </tr>\n",
              "    <tr>\n",
              "      <th>...</th>\n",
              "      <td>...</td>\n",
              "      <td>...</td>\n",
              "      <td>...</td>\n",
              "      <td>...</td>\n",
              "      <td>...</td>\n",
              "      <td>...</td>\n",
              "      <td>...</td>\n",
              "      <td>...</td>\n",
              "      <td>...</td>\n",
              "      <td>...</td>\n",
              "      <td>...</td>\n",
              "    </tr>\n",
              "    <tr>\n",
              "      <th>132</th>\n",
              "      <td>[issue, bi, eml, enter, be, outside, authority...</td>\n",
              "      <td>Yes</td>\n",
              "      <td>2</td>\n",
              "      <td>[issue, eml, enter, outside, authority, eml, e...</td>\n",
              "      <td>PML</td>\n",
              "      <td>401100318</td>\n",
              "      <td>212</td>\n",
              "      <td>39528</td>\n",
              "      <td>2</td>\n",
              "      <td>10767311.68</td>\n",
              "      <td>5383655.84</td>\n",
              "    </tr>\n",
              "    <tr>\n",
              "      <th>12841</th>\n",
              "      <td>[issue, total, pd, bi, eml, sum, insured, exce...</td>\n",
              "      <td>Yes</td>\n",
              "      <td>2</td>\n",
              "      <td>[issue, total, eml, sum, insured, exceeds, aut...</td>\n",
              "      <td>PML</td>\n",
              "      <td>401345461</td>\n",
              "      <td>400</td>\n",
              "      <td>1057553</td>\n",
              "      <td>2</td>\n",
              "      <td>12406487.20</td>\n",
              "      <td>6203243.60</td>\n",
              "    </tr>\n",
              "    <tr>\n",
              "      <th>14545</th>\n",
              "      <td>[issue, total, pd, bi, eml, sum, insured, exce...</td>\n",
              "      <td>Yes</td>\n",
              "      <td>9</td>\n",
              "      <td>[issue, total, eml, sum, insured, exceeds, aut...</td>\n",
              "      <td>CCI</td>\n",
              "      <td>401364543</td>\n",
              "      <td>153</td>\n",
              "      <td>841362</td>\n",
              "      <td>1</td>\n",
              "      <td>13615084.02</td>\n",
              "      <td>13615084.02</td>\n",
              "    </tr>\n",
              "    <tr>\n",
              "      <th>9431</th>\n",
              "      <td>[issue, bi, eml, enter, be, outside, authority...</td>\n",
              "      <td>Yes</td>\n",
              "      <td>1</td>\n",
              "      <td>[issue, eml, enter, outside, authority, eml, e...</td>\n",
              "      <td>PML</td>\n",
              "      <td>401194314</td>\n",
              "      <td>612</td>\n",
              "      <td>42621</td>\n",
              "      <td>1</td>\n",
              "      <td>15402744.55</td>\n",
              "      <td>15402744.55</td>\n",
              "    </tr>\n",
              "    <tr>\n",
              "      <th>840</th>\n",
              "      <td>[issue, public, liability, limit, of, indemnit...</td>\n",
              "      <td>Yes</td>\n",
              "      <td>27</td>\n",
              "      <td>[issue, public, liability, limit, indemnity, e...</td>\n",
              "      <td>CCI</td>\n",
              "      <td>401110742</td>\n",
              "      <td>543</td>\n",
              "      <td>289437</td>\n",
              "      <td>4</td>\n",
              "      <td>16119976.11</td>\n",
              "      <td>4029994.03</td>\n",
              "    </tr>\n",
              "  </tbody>\n",
              "</table>\n",
              "<p>17973 rows × 11 columns</p>\n",
              "</div>"
            ],
            "text/plain": [
              "                                                    text  ... Average_Claim_Cost\n",
              "7602   [author, of, change, douglas, mchugh, february...  ...          -31774.05\n",
              "9332   [issue, total, pd, bi, eml, sum, insured, exce...  ...         -189164.80\n",
              "6075   [client, denbigh, building, plastics, ltd, ren...  ...          -51661.90\n",
              "12471  [issue, total, pd, bi, eml, sum, insured, exce...  ...          -16874.62\n",
              "13780  [reduction, in, premium, agree, to, 110, k, ex...  ...           -3432.30\n",
              "...                                                  ...  ...                ...\n",
              "132    [issue, bi, eml, enter, be, outside, authority...  ...         5383655.84\n",
              "12841  [issue, total, pd, bi, eml, sum, insured, exce...  ...         6203243.60\n",
              "14545  [issue, total, pd, bi, eml, sum, insured, exce...  ...        13615084.02\n",
              "9431   [issue, bi, eml, enter, be, outside, authority...  ...        15402744.55\n",
              "840    [issue, public, liability, limit, of, indemnit...  ...         4029994.03\n",
              "\n",
              "[17973 rows x 11 columns]"
            ]
          },
          "metadata": {
            "tags": []
          },
          "execution_count": 16
        }
      ]
    },
    {
      "cell_type": "code",
      "metadata": {
        "colab": {
          "base_uri": "https://localhost:8080/"
        },
        "id": "n8ks_kKNMcWP",
        "outputId": "de433a7d-30b9-4306-83e8-7a29cdca2903"
      },
      "source": [
        "PRMD_df.Number_of_Claims_y.sum()"
      ],
      "execution_count": null,
      "outputs": [
        {
          "output_type": "execute_result",
          "data": {
            "text/plain": [
              "44296"
            ]
          },
          "metadata": {
            "tags": []
          },
          "execution_count": 17
        }
      ]
    },
    {
      "cell_type": "code",
      "metadata": {
        "id": "YTtwl3umtVve"
      },
      "source": [
        "PRMD_df.text[9431]"
      ],
      "execution_count": null,
      "outputs": []
    },
    {
      "cell_type": "code",
      "metadata": {
        "colab": {
          "base_uri": "https://localhost:8080/"
        },
        "id": "1mgcr2ldt-FK",
        "outputId": "3ca95f63-f29f-4536-b273-b51f855ff929"
      },
      "source": [
        "PRMD_df.Total_Claim_Cost.describe()"
      ],
      "execution_count": null,
      "outputs": [
        {
          "output_type": "execute_result",
          "data": {
            "text/plain": [
              "count      17973.00\n",
              "mean       33058.35\n",
              "std       318900.97\n",
              "min      -540158.79\n",
              "25%          538.00\n",
              "50%         3177.91\n",
              "75%        11337.46\n",
              "max     16119976.11\n",
              "Name: Total_Claim_Cost, dtype: float64"
            ]
          },
          "metadata": {
            "tags": []
          },
          "execution_count": 17
        }
      ]
    },
    {
      "cell_type": "code",
      "metadata": {
        "colab": {
          "base_uri": "https://localhost:8080/"
        },
        "id": "BcB6teNUt-xm",
        "outputId": "104966a6-3b70-46bf-91a7-1c5c2edc4137"
      },
      "source": [
        "PRMD_df.Average_Claim_Cost.describe()"
      ],
      "execution_count": null,
      "outputs": [
        {
          "output_type": "execute_result",
          "data": {
            "text/plain": [
              "count      17973.00\n",
              "mean       18272.41\n",
              "std       218183.70\n",
              "min      -189164.80\n",
              "25%          449.37\n",
              "50%         2081.94\n",
              "75%         6214.00\n",
              "max     15402744.55\n",
              "Name: Average_Claim_Cost, dtype: float64"
            ]
          },
          "metadata": {
            "tags": []
          },
          "execution_count": 18
        }
      ]
    },
    {
      "cell_type": "code",
      "metadata": {
        "colab": {
          "base_uri": "https://localhost:8080/",
          "height": 391
        },
        "id": "GNMqny1vtb1-",
        "outputId": "3227f11c-2ea6-4df7-ec58-e0f72d7f6b2e"
      },
      "source": [
        "PRMD_df"
      ],
      "execution_count": null,
      "outputs": [
        {
          "output_type": "execute_result",
          "data": {
            "text/html": [
              "<div>\n",
              "<style scoped>\n",
              "    .dataframe tbody tr th:only-of-type {\n",
              "        vertical-align: middle;\n",
              "    }\n",
              "\n",
              "    .dataframe tbody tr th {\n",
              "        vertical-align: top;\n",
              "    }\n",
              "\n",
              "    .dataframe thead th {\n",
              "        text-align: right;\n",
              "    }\n",
              "</style>\n",
              "<table border=\"1\" class=\"dataframe\">\n",
              "  <thead>\n",
              "    <tr style=\"text-align: right;\">\n",
              "      <th></th>\n",
              "      <th>text</th>\n",
              "      <th>Claim</th>\n",
              "      <th>Number_of_Claims_x</th>\n",
              "      <th>tokens</th>\n",
              "      <th>Product_Code</th>\n",
              "      <th>POLICYID</th>\n",
              "      <th>length</th>\n",
              "      <th>CLAIM_ID</th>\n",
              "      <th>Number_of_Claims_y</th>\n",
              "      <th>Total_Claim_Cost</th>\n",
              "      <th>Average_Claim_Cost</th>\n",
              "    </tr>\n",
              "  </thead>\n",
              "  <tbody>\n",
              "    <tr>\n",
              "      <th>0</th>\n",
              "      <td>[use, be, large, portfolio, of, property, but,...</td>\n",
              "      <td>Yes</td>\n",
              "      <td>1</td>\n",
              "      <td>[large, portfolio, property, leave, block, ret...</td>\n",
              "      <td>CPO</td>\n",
              "      <td>100867</td>\n",
              "      <td>73</td>\n",
              "      <td>879543</td>\n",
              "      <td>1</td>\n",
              "      <td>0.00</td>\n",
              "      <td>0.00</td>\n",
              "    </tr>\n",
              "    <tr>\n",
              "      <th>1</th>\n",
              "      <td>[strategy, property, owners, commercial, resid...</td>\n",
              "      <td>Yes</td>\n",
              "      <td>1</td>\n",
              "      <td>[strategy, property, owners, commercial, resid...</td>\n",
              "      <td>CPO</td>\n",
              "      <td>101123</td>\n",
              "      <td>400</td>\n",
              "      <td>1198641</td>\n",
              "      <td>1</td>\n",
              "      <td>2221.76</td>\n",
              "      <td>2221.76</td>\n",
              "    </tr>\n",
              "    <tr>\n",
              "      <th>2</th>\n",
              "      <td>[simplified, renewal, rationale, full, rationa...</td>\n",
              "      <td>Yes</td>\n",
              "      <td>1</td>\n",
              "      <td>[simplify, renewal, rationale, rationale, chan...</td>\n",
              "      <td>CPO</td>\n",
              "      <td>101611</td>\n",
              "      <td>241</td>\n",
              "      <td>620175</td>\n",
              "      <td>1</td>\n",
              "      <td>100.00</td>\n",
              "      <td>100.00</td>\n",
              "    </tr>\n",
              "    <tr>\n",
              "      <th>3</th>\n",
              "      <td>[rationale, city, of, liverpool, inv, co, ltd,...</td>\n",
              "      <td>Yes</td>\n",
              "      <td>6</td>\n",
              "      <td>[rationale, city, liverpool, inv, ltd, renewal...</td>\n",
              "      <td>CPO</td>\n",
              "      <td>101630</td>\n",
              "      <td>729</td>\n",
              "      <td>249301</td>\n",
              "      <td>4</td>\n",
              "      <td>11995.39</td>\n",
              "      <td>2998.85</td>\n",
              "    </tr>\n",
              "    <tr>\n",
              "      <th>4</th>\n",
              "      <td>[issue, liability, total, technical, premium, ...</td>\n",
              "      <td>Yes</td>\n",
              "      <td>1</td>\n",
              "      <td>[issue, liability, total, technical, premium, ...</td>\n",
              "      <td>CPO</td>\n",
              "      <td>101695</td>\n",
              "      <td>302</td>\n",
              "      <td>1525904</td>\n",
              "      <td>1</td>\n",
              "      <td>2878.00</td>\n",
              "      <td>2878.00</td>\n",
              "    </tr>\n",
              "    <tr>\n",
              "      <th>...</th>\n",
              "      <td>...</td>\n",
              "      <td>...</td>\n",
              "      <td>...</td>\n",
              "      <td>...</td>\n",
              "      <td>...</td>\n",
              "      <td>...</td>\n",
              "      <td>...</td>\n",
              "      <td>...</td>\n",
              "      <td>...</td>\n",
              "      <td>...</td>\n",
              "      <td>...</td>\n",
              "    </tr>\n",
              "    <tr>\n",
              "      <th>17968</th>\n",
              "      <td>[boughton, social, club, limited]</td>\n",
              "      <td>Yes</td>\n",
              "      <td>1</td>\n",
              "      <td>[boughton, social, club, limited]</td>\n",
              "      <td>CCI</td>\n",
              "      <td>401599856</td>\n",
              "      <td>4</td>\n",
              "      <td>1556771</td>\n",
              "      <td>1</td>\n",
              "      <td>0.00</td>\n",
              "      <td>0.00</td>\n",
              "    </tr>\n",
              "    <tr>\n",
              "      <th>17969</th>\n",
              "      <td>[small, heath, amateur, gardeners, social, clu...</td>\n",
              "      <td>Yes</td>\n",
              "      <td>2</td>\n",
              "      <td>[small, heath, amateur, gardeners, social, clu...</td>\n",
              "      <td>CCI</td>\n",
              "      <td>401599858</td>\n",
              "      <td>24</td>\n",
              "      <td>1466102</td>\n",
              "      <td>2</td>\n",
              "      <td>30875.00</td>\n",
              "      <td>15437.50</td>\n",
              "    </tr>\n",
              "    <tr>\n",
              "      <th>17970</th>\n",
              "      <td>[issue, bi, additional, cover, specified, dise...</td>\n",
              "      <td>Yes</td>\n",
              "      <td>1</td>\n",
              "      <td>[issue, additional, cover, specify, diseases, ...</td>\n",
              "      <td>PML</td>\n",
              "      <td>401599900</td>\n",
              "      <td>63</td>\n",
              "      <td>1565864</td>\n",
              "      <td>1</td>\n",
              "      <td>60000.00</td>\n",
              "      <td>60000.00</td>\n",
              "    </tr>\n",
              "    <tr>\n",
              "      <th>17971</th>\n",
              "      <td>[issue, hazard, group, overridden, total, pd, ...</td>\n",
              "      <td>Yes</td>\n",
              "      <td>2</td>\n",
              "      <td>[issue, hazard, group, overridden, total, eml,...</td>\n",
              "      <td>PML</td>\n",
              "      <td>401599912</td>\n",
              "      <td>152</td>\n",
              "      <td>1333901</td>\n",
              "      <td>2</td>\n",
              "      <td>24716.17</td>\n",
              "      <td>12358.08</td>\n",
              "    </tr>\n",
              "    <tr>\n",
              "      <th>17972</th>\n",
              "      <td>[nb, agreed, at, ipt, on, rr, excess, and, pro...</td>\n",
              "      <td>Yes</td>\n",
              "      <td>1</td>\n",
              "      <td>[agree, ipt, excess, property, owners, ipt, to...</td>\n",
              "      <td>CMT</td>\n",
              "      <td>401599935</td>\n",
              "      <td>289</td>\n",
              "      <td>1469511</td>\n",
              "      <td>1</td>\n",
              "      <td>7052.01</td>\n",
              "      <td>7052.01</td>\n",
              "    </tr>\n",
              "  </tbody>\n",
              "</table>\n",
              "<p>17973 rows × 11 columns</p>\n",
              "</div>"
            ],
            "text/plain": [
              "                                                    text  ... Average_Claim_Cost\n",
              "0      [use, be, large, portfolio, of, property, but,...  ...               0.00\n",
              "1      [strategy, property, owners, commercial, resid...  ...            2221.76\n",
              "2      [simplified, renewal, rationale, full, rationa...  ...             100.00\n",
              "3      [rationale, city, of, liverpool, inv, co, ltd,...  ...            2998.85\n",
              "4      [issue, liability, total, technical, premium, ...  ...            2878.00\n",
              "...                                                  ...  ...                ...\n",
              "17968                  [boughton, social, club, limited]  ...               0.00\n",
              "17969  [small, heath, amateur, gardeners, social, clu...  ...           15437.50\n",
              "17970  [issue, bi, additional, cover, specified, dise...  ...           60000.00\n",
              "17971  [issue, hazard, group, overridden, total, pd, ...  ...           12358.08\n",
              "17972  [nb, agreed, at, ipt, on, rr, excess, and, pro...  ...            7052.01\n",
              "\n",
              "[17973 rows x 11 columns]"
            ]
          },
          "metadata": {
            "tags": []
          },
          "execution_count": 19
        }
      ]
    },
    {
      "cell_type": "code",
      "metadata": {
        "colab": {
          "base_uri": "https://localhost:8080/"
        },
        "id": "r5vym4oMtEb5",
        "outputId": "5d38bff7-e64e-40ec-981b-a255c46c471c"
      },
      "source": [
        "'large' in PRMD_df.tokens[0]"
      ],
      "execution_count": null,
      "outputs": [
        {
          "output_type": "execute_result",
          "data": {
            "text/plain": [
              "True"
            ]
          },
          "metadata": {
            "tags": []
          },
          "execution_count": 20
        }
      ]
    },
    {
      "cell_type": "code",
      "metadata": {
        "id": "kzJtIbxsuXQj"
      },
      "source": [
        "z = ['large', 'test']"
      ],
      "execution_count": null,
      "outputs": []
    },
    {
      "cell_type": "code",
      "metadata": {
        "id": "TLdB0ydHn-Wd"
      },
      "source": [
        "x = []"
      ],
      "execution_count": null,
      "outputs": []
    },
    {
      "cell_type": "code",
      "metadata": {
        "id": "IahM8Ee0vsea"
      },
      "source": [
        "for i in range(0, len(PRMD_df)): \n",
        "  x.append('large' in PRMD_df.tokens[i])"
      ],
      "execution_count": null,
      "outputs": []
    },
    {
      "cell_type": "code",
      "metadata": {
        "colab": {
          "base_uri": "https://localhost:8080/"
        },
        "id": "blIV2rVwwNh7",
        "outputId": "80b4c2ef-9d0d-4e6f-a8dc-935f963b2cdc"
      },
      "source": [
        "x[0:10]"
      ],
      "execution_count": null,
      "outputs": [
        {
          "output_type": "execute_result",
          "data": {
            "text/plain": [
              "[True, True, False, True, True, False, False, False, False, False]"
            ]
          },
          "metadata": {
            "tags": []
          },
          "execution_count": 25
        }
      ]
    },
    {
      "cell_type": "code",
      "metadata": {
        "id": "mojjpVX9ogqm"
      },
      "source": [
        "from gensim.corpora import Dictionary, HashDictionary, MmCorpus, WikiCorpus\n",
        "from gensim.models import TfidfModel"
      ],
      "execution_count": null,
      "outputs": []
    },
    {
      "cell_type": "code",
      "metadata": {
        "id": "QMsmYHJ-RkO5"
      },
      "source": [
        "dct = Dictionary(PRMD_df.tokens)\n",
        "dct.filter_extremes(no_below = 10)\n",
        "corpus = [dct.doc2bow(line) for line in PRMD_df.tokens]"
      ],
      "execution_count": null,
      "outputs": []
    },
    {
      "cell_type": "code",
      "metadata": {
        "id": "b-RAMUNxqL5G"
      },
      "source": [
        "total_word_count = defaultdict(int)\n",
        "for word_id, word_count in itertools.chain.from_iterable(corpus):\n",
        "    total_word_count[word_id] += word_count"
      ],
      "execution_count": null,
      "outputs": []
    },
    {
      "cell_type": "code",
      "metadata": {
        "id": "XQT3xUBTzPLi"
      },
      "source": [
        "df = pd.DataFrame.from_dict(total_word_count , orient='index', columns=['Frequency'])"
      ],
      "execution_count": null,
      "outputs": []
    },
    {
      "cell_type": "code",
      "metadata": {
        "id": "ogtKYdzgzjSV"
      },
      "source": [
        "df = df.sort_values(by='Frequency', ascending=False)"
      ],
      "execution_count": null,
      "outputs": []
    },
    {
      "cell_type": "code",
      "metadata": {
        "id": "g8bL0tld2Apz"
      },
      "source": [
        "df = df.head(25)"
      ],
      "execution_count": null,
      "outputs": []
    },
    {
      "cell_type": "code",
      "metadata": {
        "id": "VHK9dbq3qWh5",
        "colab": {
          "base_uri": "https://localhost:8080/",
          "height": 766
        },
        "outputId": "e364eb20-a95e-4337-882b-981e4da4267c"
      },
      "source": [
        "df"
      ],
      "execution_count": null,
      "outputs": [
        {
          "output_type": "execute_result",
          "data": {
            "text/html": [
              "<div>\n",
              "<style scoped>\n",
              "    .dataframe tbody tr th:only-of-type {\n",
              "        vertical-align: middle;\n",
              "    }\n",
              "\n",
              "    .dataframe tbody tr th {\n",
              "        vertical-align: top;\n",
              "    }\n",
              "\n",
              "    .dataframe thead th {\n",
              "        text-align: right;\n",
              "    }\n",
              "</style>\n",
              "<table border=\"1\" class=\"dataframe\">\n",
              "  <thead>\n",
              "    <tr style=\"text-align: right;\">\n",
              "      <th></th>\n",
              "      <th>Frequency</th>\n",
              "    </tr>\n",
              "  </thead>\n",
              "  <tbody>\n",
              "    <tr>\n",
              "      <th>1010</th>\n",
              "      <td>102592</td>\n",
              "    </tr>\n",
              "    <tr>\n",
              "      <th>419</th>\n",
              "      <td>54229</td>\n",
              "    </tr>\n",
              "    <tr>\n",
              "      <th>927</th>\n",
              "      <td>47237</td>\n",
              "    </tr>\n",
              "    <tr>\n",
              "      <th>903</th>\n",
              "      <td>46268</td>\n",
              "    </tr>\n",
              "    <tr>\n",
              "      <th>292</th>\n",
              "      <td>40714</td>\n",
              "    </tr>\n",
              "    <tr>\n",
              "      <th>107</th>\n",
              "      <td>39242</td>\n",
              "    </tr>\n",
              "    <tr>\n",
              "      <th>1210</th>\n",
              "      <td>35535</td>\n",
              "    </tr>\n",
              "    <tr>\n",
              "      <th>114</th>\n",
              "      <td>33284</td>\n",
              "    </tr>\n",
              "    <tr>\n",
              "      <th>424</th>\n",
              "      <td>33180</td>\n",
              "    </tr>\n",
              "    <tr>\n",
              "      <th>241</th>\n",
              "      <td>33084</td>\n",
              "    </tr>\n",
              "    <tr>\n",
              "      <th>50</th>\n",
              "      <td>29663</td>\n",
              "    </tr>\n",
              "    <tr>\n",
              "      <th>125</th>\n",
              "      <td>28523</td>\n",
              "    </tr>\n",
              "    <tr>\n",
              "      <th>222</th>\n",
              "      <td>27654</td>\n",
              "    </tr>\n",
              "    <tr>\n",
              "      <th>548</th>\n",
              "      <td>27254</td>\n",
              "    </tr>\n",
              "    <tr>\n",
              "      <th>0</th>\n",
              "      <td>26845</td>\n",
              "    </tr>\n",
              "    <tr>\n",
              "      <th>61</th>\n",
              "      <td>24921</td>\n",
              "    </tr>\n",
              "    <tr>\n",
              "      <th>93</th>\n",
              "      <td>22963</td>\n",
              "    </tr>\n",
              "    <tr>\n",
              "      <th>156</th>\n",
              "      <td>22946</td>\n",
              "    </tr>\n",
              "    <tr>\n",
              "      <th>35</th>\n",
              "      <td>22565</td>\n",
              "    </tr>\n",
              "    <tr>\n",
              "      <th>1906</th>\n",
              "      <td>21519</td>\n",
              "    </tr>\n",
              "    <tr>\n",
              "      <th>288</th>\n",
              "      <td>21480</td>\n",
              "    </tr>\n",
              "    <tr>\n",
              "      <th>145</th>\n",
              "      <td>21348</td>\n",
              "    </tr>\n",
              "    <tr>\n",
              "      <th>88</th>\n",
              "      <td>21150</td>\n",
              "    </tr>\n",
              "    <tr>\n",
              "      <th>13</th>\n",
              "      <td>21001</td>\n",
              "    </tr>\n",
              "    <tr>\n",
              "      <th>357</th>\n",
              "      <td>20991</td>\n",
              "    </tr>\n",
              "  </tbody>\n",
              "</table>\n",
              "</div>"
            ],
            "text/plain": [
              "      Frequency\n",
              "1010     102592\n",
              "419       54229\n",
              "927       47237\n",
              "903       46268\n",
              "292       40714\n",
              "107       39242\n",
              "1210      35535\n",
              "114       33284\n",
              "424       33180\n",
              "241       33084\n",
              "50        29663\n",
              "125       28523\n",
              "222       27654\n",
              "548       27254\n",
              "0         26845\n",
              "61        24921\n",
              "93        22963\n",
              "156       22946\n",
              "35        22565\n",
              "1906      21519\n",
              "288       21480\n",
              "145       21348\n",
              "88        21150\n",
              "13        21001\n",
              "357       20991"
            ]
          },
          "metadata": {
            "tags": []
          },
          "execution_count": 34
        }
      ]
    },
    {
      "cell_type": "code",
      "metadata": {
        "id": "8u_pmSFcxYJi"
      },
      "source": [
        "words_no_claims = pd.DataFrame([dct[1010], dct[419], dct[927], dct[903], dct[292], dct[107], dct[1210], dct[114], dct[424], dct[241],\n",
        "                      dct[50], dct[125], dct[222], dct[548], dct[0], dct[61], dct[93], dct[156], dct[35], dct[1906],\n",
        "                      dct[288], dct[145], dct[88], dct[13], dct[357]],\n",
        "                      columns = ['Word'])"
      ],
      "execution_count": null,
      "outputs": []
    },
    {
      "cell_type": "code",
      "metadata": {
        "id": "YtIxluuJqbQN"
      },
      "source": [
        "df = df.reset_index(drop=True)"
      ],
      "execution_count": null,
      "outputs": []
    },
    {
      "cell_type": "code",
      "metadata": {
        "id": "Mk92B85K1Nwn"
      },
      "source": [
        "df2 = pd.concat([df, words_no_claims], axis=1, ignore_index=True)"
      ],
      "execution_count": null,
      "outputs": []
    },
    {
      "cell_type": "code",
      "metadata": {
        "id": "OAXRmuqSq8Em"
      },
      "source": [
        "symbols = ['Frequency', 'Words']\n",
        "\n",
        "df2.columns = symbols"
      ],
      "execution_count": null,
      "outputs": []
    },
    {
      "cell_type": "code",
      "metadata": {
        "colab": {
          "base_uri": "https://localhost:8080/",
          "height": 606
        },
        "id": "J-oZ7tjprCDw",
        "outputId": "09609898-ae25-4be5-bd85-efdf65fbc742"
      },
      "source": [
        "fig = plt.figure(figsize=(15, 10))\n",
        "sns.barplot(y=\"Words\", x=\"Frequency\", data=df2)\n",
        "fig.show()"
      ],
      "execution_count": null,
      "outputs": [
        {
          "output_type": "display_data",
          "data": {
            "image/png": "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\n",
            "text/plain": [
              "<Figure size 1080x720 with 1 Axes>"
            ]
          },
          "metadata": {
            "tags": [],
            "needs_background": "light"
          }
        }
      ]
    },
    {
      "cell_type": "code",
      "metadata": {
        "id": "2q0StICNu2_y"
      },
      "source": [
        "model = TfidfModel(corpus)\n",
        "scores = model[corpus]"
      ],
      "execution_count": null,
      "outputs": []
    },
    {
      "cell_type": "code",
      "metadata": {
        "id": "oHXiZ_WLx9RK"
      },
      "source": [
        "test = []\n",
        "top_terms = []"
      ],
      "execution_count": null,
      "outputs": []
    },
    {
      "cell_type": "code",
      "metadata": {
        "id": "ToLQe9QAu6U6"
      },
      "source": [
        "for i in range(0, len(corpus)):\n",
        "  tf_obj = model[corpus[i]]\n",
        "  for obj in sorted(tf_obj, key=lambda x: x[1], reverse=True)[:1]:\n",
        "     top_terms.append(\"{0:s} ({1:01.03f})\".format(dct[obj[0]], obj[1]))\n",
        "  test.append(top_terms)"
      ],
      "execution_count": null,
      "outputs": []
    },
    {
      "cell_type": "code",
      "metadata": {
        "id": "uAB0EfC40k8V"
      },
      "source": [
        "t = test[0]"
      ],
      "execution_count": null,
      "outputs": []
    },
    {
      "cell_type": "code",
      "metadata": {
        "colab": {
          "base_uri": "https://localhost:8080/"
        },
        "id": "asQ583yN0mPk",
        "outputId": "ff2b0190-beae-4e9f-a6f8-3f7de2949617"
      },
      "source": [
        "len(t)"
      ],
      "execution_count": null,
      "outputs": [
        {
          "output_type": "execute_result",
          "data": {
            "text/plain": [
              "17973"
            ]
          },
          "metadata": {
            "tags": []
          },
          "execution_count": 44
        }
      ]
    },
    {
      "cell_type": "code",
      "metadata": {
        "id": "i9bOgf-_y3OA"
      },
      "source": [
        "weights = pd.DataFrame({'Top_Word' : t})"
      ],
      "execution_count": null,
      "outputs": []
    },
    {
      "cell_type": "code",
      "metadata": {
        "id": "I8jUAOsK1co-"
      },
      "source": [
        "PRMD_tfidf = pd.concat([PRMD_df, weights], axis = 1)"
      ],
      "execution_count": null,
      "outputs": []
    },
    {
      "cell_type": "code",
      "metadata": {
        "colab": {
          "base_uri": "https://localhost:8080/",
          "height": 391
        },
        "id": "QxV-ZS1X1yni",
        "outputId": "8040797b-adb1-49f1-cc67-1a1fd26b7b93"
      },
      "source": [
        "PRMD_tfidf"
      ],
      "execution_count": null,
      "outputs": [
        {
          "output_type": "execute_result",
          "data": {
            "text/html": [
              "<div>\n",
              "<style scoped>\n",
              "    .dataframe tbody tr th:only-of-type {\n",
              "        vertical-align: middle;\n",
              "    }\n",
              "\n",
              "    .dataframe tbody tr th {\n",
              "        vertical-align: top;\n",
              "    }\n",
              "\n",
              "    .dataframe thead th {\n",
              "        text-align: right;\n",
              "    }\n",
              "</style>\n",
              "<table border=\"1\" class=\"dataframe\">\n",
              "  <thead>\n",
              "    <tr style=\"text-align: right;\">\n",
              "      <th></th>\n",
              "      <th>text</th>\n",
              "      <th>Claim</th>\n",
              "      <th>Number_of_Claims_x</th>\n",
              "      <th>tokens</th>\n",
              "      <th>Product_Code</th>\n",
              "      <th>POLICYID</th>\n",
              "      <th>length</th>\n",
              "      <th>CLAIM_ID</th>\n",
              "      <th>Number_of_Claims_y</th>\n",
              "      <th>Total_Claim_Cost</th>\n",
              "      <th>Average_Claim_Cost</th>\n",
              "      <th>Top_Word</th>\n",
              "    </tr>\n",
              "  </thead>\n",
              "  <tbody>\n",
              "    <tr>\n",
              "      <th>0</th>\n",
              "      <td>[use, be, large, portfolio, of, property, but,...</td>\n",
              "      <td>Yes</td>\n",
              "      <td>1</td>\n",
              "      <td>[large, portfolio, property, leave, block, ret...</td>\n",
              "      <td>CPO</td>\n",
              "      <td>100867</td>\n",
              "      <td>73</td>\n",
              "      <td>879543</td>\n",
              "      <td>1</td>\n",
              "      <td>0.00</td>\n",
              "      <td>0.00</td>\n",
              "      <td>tyne (0.534)</td>\n",
              "    </tr>\n",
              "    <tr>\n",
              "      <th>1</th>\n",
              "      <td>[strategy, property, owners, commercial, resid...</td>\n",
              "      <td>Yes</td>\n",
              "      <td>1</td>\n",
              "      <td>[strategy, property, owners, commercial, resid...</td>\n",
              "      <td>CPO</td>\n",
              "      <td>101123</td>\n",
              "      <td>400</td>\n",
              "      <td>1198641</td>\n",
              "      <td>1</td>\n",
              "      <td>2221.76</td>\n",
              "      <td>2221.76</td>\n",
              "      <td>tea (0.348)</td>\n",
              "    </tr>\n",
              "    <tr>\n",
              "      <th>2</th>\n",
              "      <td>[simplified, renewal, rationale, full, rationa...</td>\n",
              "      <td>Yes</td>\n",
              "      <td>1</td>\n",
              "      <td>[simplify, renewal, rationale, rationale, chan...</td>\n",
              "      <td>CPO</td>\n",
              "      <td>101611</td>\n",
              "      <td>241</td>\n",
              "      <td>620175</td>\n",
              "      <td>1</td>\n",
              "      <td>100.00</td>\n",
              "      <td>100.00</td>\n",
              "      <td>girate (0.253)</td>\n",
              "    </tr>\n",
              "    <tr>\n",
              "      <th>3</th>\n",
              "      <td>[rationale, city, of, liverpool, inv, co, ltd,...</td>\n",
              "      <td>Yes</td>\n",
              "      <td>6</td>\n",
              "      <td>[rationale, city, liverpool, inv, ltd, renewal...</td>\n",
              "      <td>CPO</td>\n",
              "      <td>101630</td>\n",
              "      <td>729</td>\n",
              "      <td>249301</td>\n",
              "      <td>4</td>\n",
              "      <td>11995.39</td>\n",
              "      <td>2998.85</td>\n",
              "      <td>embassy (0.459)</td>\n",
              "    </tr>\n",
              "    <tr>\n",
              "      <th>4</th>\n",
              "      <td>[issue, liability, total, technical, premium, ...</td>\n",
              "      <td>Yes</td>\n",
              "      <td>1</td>\n",
              "      <td>[issue, liability, total, technical, premium, ...</td>\n",
              "      <td>CPO</td>\n",
              "      <td>101695</td>\n",
              "      <td>302</td>\n",
              "      <td>1525904</td>\n",
              "      <td>1</td>\n",
              "      <td>2878.00</td>\n",
              "      <td>2878.00</td>\n",
              "      <td>acc (0.417)</td>\n",
              "    </tr>\n",
              "    <tr>\n",
              "      <th>...</th>\n",
              "      <td>...</td>\n",
              "      <td>...</td>\n",
              "      <td>...</td>\n",
              "      <td>...</td>\n",
              "      <td>...</td>\n",
              "      <td>...</td>\n",
              "      <td>...</td>\n",
              "      <td>...</td>\n",
              "      <td>...</td>\n",
              "      <td>...</td>\n",
              "      <td>...</td>\n",
              "      <td>...</td>\n",
              "    </tr>\n",
              "    <tr>\n",
              "      <th>17968</th>\n",
              "      <td>[boughton, social, club, limited]</td>\n",
              "      <td>Yes</td>\n",
              "      <td>1</td>\n",
              "      <td>[boughton, social, club, limited]</td>\n",
              "      <td>CCI</td>\n",
              "      <td>401599856</td>\n",
              "      <td>4</td>\n",
              "      <td>1556771</td>\n",
              "      <td>1</td>\n",
              "      <td>0.00</td>\n",
              "      <td>0.00</td>\n",
              "      <td>social (0.712)</td>\n",
              "    </tr>\n",
              "    <tr>\n",
              "      <th>17969</th>\n",
              "      <td>[small, heath, amateur, gardeners, social, clu...</td>\n",
              "      <td>Yes</td>\n",
              "      <td>2</td>\n",
              "      <td>[small, heath, amateur, gardeners, social, clu...</td>\n",
              "      <td>CCI</td>\n",
              "      <td>401599858</td>\n",
              "      <td>24</td>\n",
              "      <td>1466102</td>\n",
              "      <td>2</td>\n",
              "      <td>30875.00</td>\n",
              "      <td>15437.50</td>\n",
              "      <td>gardeners (0.522)</td>\n",
              "    </tr>\n",
              "    <tr>\n",
              "      <th>17970</th>\n",
              "      <td>[issue, bi, additional, cover, specified, dise...</td>\n",
              "      <td>Yes</td>\n",
              "      <td>1</td>\n",
              "      <td>[issue, additional, cover, specify, diseases, ...</td>\n",
              "      <td>PML</td>\n",
              "      <td>401599900</td>\n",
              "      <td>63</td>\n",
              "      <td>1565864</td>\n",
              "      <td>1</td>\n",
              "      <td>60000.00</td>\n",
              "      <td>60000.00</td>\n",
              "      <td>telecommunications (0.368)</td>\n",
              "    </tr>\n",
              "    <tr>\n",
              "      <th>17971</th>\n",
              "      <td>[issue, hazard, group, overridden, total, pd, ...</td>\n",
              "      <td>Yes</td>\n",
              "      <td>2</td>\n",
              "      <td>[issue, hazard, group, overridden, total, eml,...</td>\n",
              "      <td>PML</td>\n",
              "      <td>401599912</td>\n",
              "      <td>152</td>\n",
              "      <td>1333901</td>\n",
              "      <td>2</td>\n",
              "      <td>24716.17</td>\n",
              "      <td>12358.08</td>\n",
              "      <td>subsidence (0.539)</td>\n",
              "    </tr>\n",
              "    <tr>\n",
              "      <th>17972</th>\n",
              "      <td>[nb, agreed, at, ipt, on, rr, excess, and, pro...</td>\n",
              "      <td>Yes</td>\n",
              "      <td>1</td>\n",
              "      <td>[agree, ipt, excess, property, owners, ipt, to...</td>\n",
              "      <td>CMT</td>\n",
              "      <td>401599935</td>\n",
              "      <td>289</td>\n",
              "      <td>1469511</td>\n",
              "      <td>1</td>\n",
              "      <td>7052.01</td>\n",
              "      <td>7052.01</td>\n",
              "      <td>bruce (0.310)</td>\n",
              "    </tr>\n",
              "  </tbody>\n",
              "</table>\n",
              "<p>17973 rows × 12 columns</p>\n",
              "</div>"
            ],
            "text/plain": [
              "                                                    text  ...                    Top_Word\n",
              "0      [use, be, large, portfolio, of, property, but,...  ...                tyne (0.534)\n",
              "1      [strategy, property, owners, commercial, resid...  ...                 tea (0.348)\n",
              "2      [simplified, renewal, rationale, full, rationa...  ...              girate (0.253)\n",
              "3      [rationale, city, of, liverpool, inv, co, ltd,...  ...             embassy (0.459)\n",
              "4      [issue, liability, total, technical, premium, ...  ...                 acc (0.417)\n",
              "...                                                  ...  ...                         ...\n",
              "17968                  [boughton, social, club, limited]  ...              social (0.712)\n",
              "17969  [small, heath, amateur, gardeners, social, clu...  ...           gardeners (0.522)\n",
              "17970  [issue, bi, additional, cover, specified, dise...  ...  telecommunications (0.368)\n",
              "17971  [issue, hazard, group, overridden, total, pd, ...  ...          subsidence (0.539)\n",
              "17972  [nb, agreed, at, ipt, on, rr, excess, and, pro...  ...               bruce (0.310)\n",
              "\n",
              "[17973 rows x 12 columns]"
            ]
          },
          "metadata": {
            "tags": []
          },
          "execution_count": 47
        }
      ]
    },
    {
      "cell_type": "code",
      "metadata": {
        "id": "fvzurD-H6hWJ"
      },
      "source": [
        "td = { \n",
        "    dct.get(_id): value for doc in scores\n",
        "    for _id, value in doc\n",
        "    }\n",
        "\n",
        "sorted_td = sorted(td.items(), key=lambda kv: kv[1], reverse=True) "
      ],
      "execution_count": null,
      "outputs": []
    },
    {
      "cell_type": "code",
      "metadata": {
        "id": "_quAefTK6__P"
      },
      "source": [
        "sorted_td = pd.DataFrame(sorted_td[0:25], columns=['Word','Weight'])"
      ],
      "execution_count": null,
      "outputs": []
    },
    {
      "cell_type": "code",
      "metadata": {
        "colab": {
          "base_uri": "https://localhost:8080/",
          "height": 606
        },
        "id": "0hjIVWxq7Ek4",
        "outputId": "52fd58c2-b1f5-43c0-e05e-e75c0c88018c"
      },
      "source": [
        "fig = plt.figure(figsize=(15, 10))\n",
        "sns.barplot(y=\"Word\", x=\"Weight\", data=sorted_td)\n",
        "fig.show()"
      ],
      "execution_count": null,
      "outputs": [
        {
          "output_type": "display_data",
          "data": {
            "image/png": "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\n",
            "text/plain": [
              "<Figure size 1080x720 with 1 Axes>"
            ]
          },
          "metadata": {
            "tags": [],
            "needs_background": "light"
          }
        }
      ]
    },
    {
      "cell_type": "code",
      "metadata": {
        "colab": {
          "base_uri": "https://localhost:8080/",
          "height": 307
        },
        "id": "8w4wOJue4yFw",
        "outputId": "430714c1-85b8-441e-8e8b-24a6949ac20e"
      },
      "source": [
        "sns.scatterplot(data = PRMD_tfidf, x = 'Top_Word', y = 'Total_Claim_Cost')"
      ],
      "execution_count": null,
      "outputs": [
        {
          "output_type": "execute_result",
          "data": {
            "text/plain": [
              "<matplotlib.axes._subplots.AxesSubplot at 0x7ff67d232090>"
            ]
          },
          "metadata": {
            "tags": []
          },
          "execution_count": 51
        },
        {
          "output_type": "display_data",
          "data": {
            "image/png": "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\n",
            "text/plain": [
              "<Figure size 432x288 with 1 Axes>"
            ]
          },
          "metadata": {
            "tags": [],
            "needs_background": "light"
          }
        }
      ]
    },
    {
      "cell_type": "code",
      "metadata": {
        "colab": {
          "base_uri": "https://localhost:8080/",
          "height": 766
        },
        "id": "EVf7zRN96US3",
        "outputId": "26009a48-5614-4a6b-83e3-4a2b431812c5"
      },
      "source": [
        "PRMD_tfidf.sort_values(by= 'Total_Claim_Cost', ascending=False).head(25)"
      ],
      "execution_count": null,
      "outputs": [
        {
          "output_type": "execute_result",
          "data": {
            "text/html": [
              "<div>\n",
              "<style scoped>\n",
              "    .dataframe tbody tr th:only-of-type {\n",
              "        vertical-align: middle;\n",
              "    }\n",
              "\n",
              "    .dataframe tbody tr th {\n",
              "        vertical-align: top;\n",
              "    }\n",
              "\n",
              "    .dataframe thead th {\n",
              "        text-align: right;\n",
              "    }\n",
              "</style>\n",
              "<table border=\"1\" class=\"dataframe\">\n",
              "  <thead>\n",
              "    <tr style=\"text-align: right;\">\n",
              "      <th></th>\n",
              "      <th>text</th>\n",
              "      <th>Claim</th>\n",
              "      <th>Number_of_Claims_x</th>\n",
              "      <th>tokens</th>\n",
              "      <th>Product_Code</th>\n",
              "      <th>POLICYID</th>\n",
              "      <th>length</th>\n",
              "      <th>CLAIM_ID</th>\n",
              "      <th>Number_of_Claims_y</th>\n",
              "      <th>Total_Claim_Cost</th>\n",
              "      <th>Average_Claim_Cost</th>\n",
              "      <th>Top_Word</th>\n",
              "    </tr>\n",
              "  </thead>\n",
              "  <tbody>\n",
              "    <tr>\n",
              "      <th>840</th>\n",
              "      <td>[issue, public, liability, limit, of, indemnit...</td>\n",
              "      <td>Yes</td>\n",
              "      <td>27</td>\n",
              "      <td>[issue, public, liability, limit, indemnity, e...</td>\n",
              "      <td>CCI</td>\n",
              "      <td>401110742</td>\n",
              "      <td>543</td>\n",
              "      <td>289437</td>\n",
              "      <td>4</td>\n",
              "      <td>16119976.11</td>\n",
              "      <td>4029994.03</td>\n",
              "      <td>specify (0.282)</td>\n",
              "    </tr>\n",
              "    <tr>\n",
              "      <th>9431</th>\n",
              "      <td>[issue, bi, eml, enter, be, outside, authority...</td>\n",
              "      <td>Yes</td>\n",
              "      <td>1</td>\n",
              "      <td>[issue, eml, enter, outside, authority, eml, e...</td>\n",
              "      <td>PML</td>\n",
              "      <td>401194314</td>\n",
              "      <td>612</td>\n",
              "      <td>42621</td>\n",
              "      <td>1</td>\n",
              "      <td>15402744.55</td>\n",
              "      <td>15402744.55</td>\n",
              "      <td>enter (0.664)</td>\n",
              "    </tr>\n",
              "    <tr>\n",
              "      <th>14545</th>\n",
              "      <td>[issue, total, pd, bi, eml, sum, insured, exce...</td>\n",
              "      <td>Yes</td>\n",
              "      <td>9</td>\n",
              "      <td>[issue, total, eml, sum, insured, exceeds, aut...</td>\n",
              "      <td>CCI</td>\n",
              "      <td>401364543</td>\n",
              "      <td>153</td>\n",
              "      <td>841362</td>\n",
              "      <td>1</td>\n",
              "      <td>13615084.02</td>\n",
              "      <td>13615084.02</td>\n",
              "      <td>bakery (0.305)</td>\n",
              "    </tr>\n",
              "    <tr>\n",
              "      <th>12841</th>\n",
              "      <td>[issue, total, pd, bi, eml, sum, insured, exce...</td>\n",
              "      <td>Yes</td>\n",
              "      <td>2</td>\n",
              "      <td>[issue, total, eml, sum, insured, exceeds, aut...</td>\n",
              "      <td>PML</td>\n",
              "      <td>401345461</td>\n",
              "      <td>400</td>\n",
              "      <td>1057553</td>\n",
              "      <td>2</td>\n",
              "      <td>12406487.20</td>\n",
              "      <td>6203243.60</td>\n",
              "      <td>enter (0.567)</td>\n",
              "    </tr>\n",
              "    <tr>\n",
              "      <th>132</th>\n",
              "      <td>[issue, bi, eml, enter, be, outside, authority...</td>\n",
              "      <td>Yes</td>\n",
              "      <td>2</td>\n",
              "      <td>[issue, eml, enter, outside, authority, eml, e...</td>\n",
              "      <td>PML</td>\n",
              "      <td>401100318</td>\n",
              "      <td>212</td>\n",
              "      <td>39528</td>\n",
              "      <td>2</td>\n",
              "      <td>10767311.68</td>\n",
              "      <td>5383655.84</td>\n",
              "      <td>enter (0.673)</td>\n",
              "    </tr>\n",
              "    <tr>\n",
              "      <th>8862</th>\n",
              "      <td>[issue, terrorismdeductible, select, exceeds, ...</td>\n",
              "      <td>Yes</td>\n",
              "      <td>6</td>\n",
              "      <td>[issue, terrorismdeductible, select, exceeds, ...</td>\n",
              "      <td>PML</td>\n",
              "      <td>401189570</td>\n",
              "      <td>627</td>\n",
              "      <td>41551</td>\n",
              "      <td>5</td>\n",
              "      <td>10669584.81</td>\n",
              "      <td>2133916.96</td>\n",
              "      <td>eml (0.788)</td>\n",
              "    </tr>\n",
              "    <tr>\n",
              "      <th>8525</th>\n",
              "      <td>[creator, douglas, mchugh, december, policy, b...</td>\n",
              "      <td>Yes</td>\n",
              "      <td>1</td>\n",
              "      <td>[creator, douglas, mchugh, december, policy, a...</td>\n",
              "      <td>PML</td>\n",
              "      <td>401186740</td>\n",
              "      <td>679</td>\n",
              "      <td>135307</td>\n",
              "      <td>1</td>\n",
              "      <td>10470764.11</td>\n",
              "      <td>10470764.11</td>\n",
              "      <td>eml (0.631)</td>\n",
              "    </tr>\n",
              "    <tr>\n",
              "      <th>9458</th>\n",
              "      <td>[in, order, process, cancel, rewrite, and, fal...</td>\n",
              "      <td>Yes</td>\n",
              "      <td>8</td>\n",
              "      <td>[order, process, cancel, rewrite, fall, foul, ...</td>\n",
              "      <td>PML</td>\n",
              "      <td>401194506</td>\n",
              "      <td>511</td>\n",
              "      <td>60225</td>\n",
              "      <td>8</td>\n",
              "      <td>8849242.88</td>\n",
              "      <td>1106155.36</td>\n",
              "      <td>enter (0.707)</td>\n",
              "    </tr>\n",
              "    <tr>\n",
              "      <th>8856</th>\n",
              "      <td>[creator, amy, merison, december, underwriter,...</td>\n",
              "      <td>Yes</td>\n",
              "      <td>3</td>\n",
              "      <td>[creator, amy, merison, december, underwriter,...</td>\n",
              "      <td>PML</td>\n",
              "      <td>401189513</td>\n",
              "      <td>543</td>\n",
              "      <td>69675</td>\n",
              "      <td>3</td>\n",
              "      <td>8567041.23</td>\n",
              "      <td>2855680.41</td>\n",
              "      <td>enter (0.699)</td>\n",
              "    </tr>\n",
              "    <tr>\n",
              "      <th>17412</th>\n",
              "      <td>[issue, location, exist, in, territory, exceed...</td>\n",
              "      <td>Yes</td>\n",
              "      <td>2</td>\n",
              "      <td>[issue, location, exist, territory, exceed, au...</td>\n",
              "      <td>PML</td>\n",
              "      <td>401505101</td>\n",
              "      <td>681</td>\n",
              "      <td>1257770</td>\n",
              "      <td>2</td>\n",
              "      <td>6709320.70</td>\n",
              "      <td>3354660.35</td>\n",
              "      <td>java (0.445)</td>\n",
              "    </tr>\n",
              "    <tr>\n",
              "      <th>6308</th>\n",
              "      <td>[issue, subsidence, grade, flag, be, red, exce...</td>\n",
              "      <td>Yes</td>\n",
              "      <td>2</td>\n",
              "      <td>[issue, subsidence, grade, flag, red, exceeds,...</td>\n",
              "      <td>CPO</td>\n",
              "      <td>401166195</td>\n",
              "      <td>382</td>\n",
              "      <td>112262</td>\n",
              "      <td>2</td>\n",
              "      <td>5252359.84</td>\n",
              "      <td>2626179.92</td>\n",
              "      <td>format (0.366)</td>\n",
              "    </tr>\n",
              "    <tr>\n",
              "      <th>15405</th>\n",
              "      <td>[issue, products, liability, limit, of, indemn...</td>\n",
              "      <td>Yes</td>\n",
              "      <td>75</td>\n",
              "      <td>[issue, products, liability, limit, indemnity,...</td>\n",
              "      <td>CCI</td>\n",
              "      <td>401382802</td>\n",
              "      <td>7956</td>\n",
              "      <td>355197</td>\n",
              "      <td>12</td>\n",
              "      <td>4922959.84</td>\n",
              "      <td>410246.65</td>\n",
              "      <td>harveya (0.543)</td>\n",
              "    </tr>\n",
              "    <tr>\n",
              "      <th>1781</th>\n",
              "      <td>[issue, pd, eml, enter, be, outside, authority...</td>\n",
              "      <td>Yes</td>\n",
              "      <td>1</td>\n",
              "      <td>[issue, eml, enter, outside, authority, eml, e...</td>\n",
              "      <td>PML</td>\n",
              "      <td>401120387</td>\n",
              "      <td>523</td>\n",
              "      <td>865543</td>\n",
              "      <td>1</td>\n",
              "      <td>4907668.49</td>\n",
              "      <td>4907668.49</td>\n",
              "      <td>enter (0.607)</td>\n",
              "    </tr>\n",
              "    <tr>\n",
              "      <th>2726</th>\n",
              "      <td>[issue, pd, eml, enter, be, outside, authority...</td>\n",
              "      <td>Yes</td>\n",
              "      <td>1</td>\n",
              "      <td>[issue, eml, enter, outside, authority, eml, e...</td>\n",
              "      <td>PML</td>\n",
              "      <td>401130709</td>\n",
              "      <td>214</td>\n",
              "      <td>283772</td>\n",
              "      <td>1</td>\n",
              "      <td>4703894.15</td>\n",
              "      <td>4703894.15</td>\n",
              "      <td>enter (0.572)</td>\n",
              "    </tr>\n",
              "    <tr>\n",
              "      <th>10721</th>\n",
              "      <td>[issue, location, exist, in, territory, exceed...</td>\n",
              "      <td>Yes</td>\n",
              "      <td>18</td>\n",
              "      <td>[issue, location, exist, territory, exceed, au...</td>\n",
              "      <td>PML</td>\n",
              "      <td>401304890</td>\n",
              "      <td>98</td>\n",
              "      <td>240586</td>\n",
              "      <td>18</td>\n",
              "      <td>4298255.12</td>\n",
              "      <td>238791.95</td>\n",
              "      <td>eur (0.531)</td>\n",
              "    </tr>\n",
              "    <tr>\n",
              "      <th>2618</th>\n",
              "      <td>[creator, douglas, mchugh, december, schedule,...</td>\n",
              "      <td>Yes</td>\n",
              "      <td>20</td>\n",
              "      <td>[creator, douglas, mchugh, december, schedule,...</td>\n",
              "      <td>PML</td>\n",
              "      <td>401129568</td>\n",
              "      <td>225</td>\n",
              "      <td>103010</td>\n",
              "      <td>20</td>\n",
              "      <td>4154673.02</td>\n",
              "      <td>207733.65</td>\n",
              "      <td>gbp (0.519)</td>\n",
              "    </tr>\n",
              "    <tr>\n",
              "      <th>2253</th>\n",
              "      <td>[strategy, manufacturing, joiners, specialise,...</td>\n",
              "      <td>Yes</td>\n",
              "      <td>33</td>\n",
              "      <td>[strategy, manufacturing, joiners, specialise,...</td>\n",
              "      <td>CCI</td>\n",
              "      <td>401125388</td>\n",
              "      <td>833</td>\n",
              "      <td>1315224</td>\n",
              "      <td>1</td>\n",
              "      <td>3845822.60</td>\n",
              "      <td>3845822.60</td>\n",
              "      <td>eml (0.357)</td>\n",
              "    </tr>\n",
              "    <tr>\n",
              "      <th>3106</th>\n",
              "      <td>[issue, surface, water, grade, flag, overridde...</td>\n",
              "      <td>Yes</td>\n",
              "      <td>3</td>\n",
              "      <td>[issue, surface, water, grade, flag, overridde...</td>\n",
              "      <td>CCI</td>\n",
              "      <td>401134905</td>\n",
              "      <td>805</td>\n",
              "      <td>125836</td>\n",
              "      <td>3</td>\n",
              "      <td>3561047.87</td>\n",
              "      <td>1187015.96</td>\n",
              "      <td>morgans (0.386)</td>\n",
              "    </tr>\n",
              "    <tr>\n",
              "      <th>1832</th>\n",
              "      <td>[claim, number, loss, date, loss, because, fir...</td>\n",
              "      <td>Yes</td>\n",
              "      <td>1</td>\n",
              "      <td>[claim, number, loss, date, loss, fire, total,...</td>\n",
              "      <td>CCI</td>\n",
              "      <td>401121040</td>\n",
              "      <td>18</td>\n",
              "      <td>169343</td>\n",
              "      <td>1</td>\n",
              "      <td>3550853.08</td>\n",
              "      <td>3550853.08</td>\n",
              "      <td>dissatisfied (0.718)</td>\n",
              "    </tr>\n",
              "    <tr>\n",
              "      <th>6773</th>\n",
              "      <td>[issue, property, owners, liability, asbestos,...</td>\n",
              "      <td>Yes</td>\n",
              "      <td>70</td>\n",
              "      <td>[issue, property, owners, liability, asbestos,...</td>\n",
              "      <td>CPO</td>\n",
              "      <td>401171060</td>\n",
              "      <td>3103</td>\n",
              "      <td>67749</td>\n",
              "      <td>52</td>\n",
              "      <td>3344329.83</td>\n",
              "      <td>64314.04</td>\n",
              "      <td>enter (0.535)</td>\n",
              "    </tr>\n",
              "    <tr>\n",
              "      <th>15111</th>\n",
              "      <td>[hold, since, previously, under, lta, but, hav...</td>\n",
              "      <td>Yes</td>\n",
              "      <td>1</td>\n",
              "      <td>[hold, previously, lta, expire, change, etc, r...</td>\n",
              "      <td>CPO</td>\n",
              "      <td>401380241</td>\n",
              "      <td>612</td>\n",
              "      <td>1012158</td>\n",
              "      <td>1</td>\n",
              "      <td>3219300.50</td>\n",
              "      <td>3219300.50</td>\n",
              "      <td>aberdeen (0.493)</td>\n",
              "    </tr>\n",
              "    <tr>\n",
              "      <th>5623</th>\n",
              "      <td>[issue, property, owners, liability, terrorism...</td>\n",
              "      <td>Yes</td>\n",
              "      <td>218</td>\n",
              "      <td>[issue, property, owners, liability, terrorism...</td>\n",
              "      <td>CPO</td>\n",
              "      <td>401159885</td>\n",
              "      <td>1042</td>\n",
              "      <td>89272</td>\n",
              "      <td>214</td>\n",
              "      <td>3122059.39</td>\n",
              "      <td>14589.06</td>\n",
              "      <td>eml (0.472)</td>\n",
              "    </tr>\n",
              "    <tr>\n",
              "      <th>13990</th>\n",
              "      <td>[issue, bi, eml, enter, be, outside, authority...</td>\n",
              "      <td>Yes</td>\n",
              "      <td>3</td>\n",
              "      <td>[issue, eml, enter, outside, authority, total,...</td>\n",
              "      <td>CCI</td>\n",
              "      <td>401357314</td>\n",
              "      <td>195</td>\n",
              "      <td>859503</td>\n",
              "      <td>2</td>\n",
              "      <td>2969005.25</td>\n",
              "      <td>1484502.62</td>\n",
              "      <td>jackie (0.472)</td>\n",
              "    </tr>\n",
              "    <tr>\n",
              "      <th>10580</th>\n",
              "      <td>[grade, front, look, like, have, already, clas...</td>\n",
              "      <td>Yes</td>\n",
              "      <td>1</td>\n",
              "      <td>[grade, look, like, classify, changed, content...</td>\n",
              "      <td>CCI</td>\n",
              "      <td>401303473</td>\n",
              "      <td>887</td>\n",
              "      <td>217651</td>\n",
              "      <td>1</td>\n",
              "      <td>2936362.17</td>\n",
              "      <td>2936362.17</td>\n",
              "      <td>hotel (0.312)</td>\n",
              "    </tr>\n",
              "    <tr>\n",
              "      <th>14586</th>\n",
              "      <td>[claim, number, loss, date, loss, because, esc...</td>\n",
              "      <td>Yes</td>\n",
              "      <td>546</td>\n",
              "      <td>[claim, number, loss, date, loss, escape, wate...</td>\n",
              "      <td>CPO</td>\n",
              "      <td>401365156</td>\n",
              "      <td>576</td>\n",
              "      <td>545016</td>\n",
              "      <td>546</td>\n",
              "      <td>2852552.81</td>\n",
              "      <td>5224.46</td>\n",
              "      <td>eml (0.550)</td>\n",
              "    </tr>\n",
              "  </tbody>\n",
              "</table>\n",
              "</div>"
            ],
            "text/plain": [
              "                                                    text  ...              Top_Word\n",
              "840    [issue, public, liability, limit, of, indemnit...  ...       specify (0.282)\n",
              "9431   [issue, bi, eml, enter, be, outside, authority...  ...         enter (0.664)\n",
              "14545  [issue, total, pd, bi, eml, sum, insured, exce...  ...        bakery (0.305)\n",
              "12841  [issue, total, pd, bi, eml, sum, insured, exce...  ...         enter (0.567)\n",
              "132    [issue, bi, eml, enter, be, outside, authority...  ...         enter (0.673)\n",
              "8862   [issue, terrorismdeductible, select, exceeds, ...  ...           eml (0.788)\n",
              "8525   [creator, douglas, mchugh, december, policy, b...  ...           eml (0.631)\n",
              "9458   [in, order, process, cancel, rewrite, and, fal...  ...         enter (0.707)\n",
              "8856   [creator, amy, merison, december, underwriter,...  ...         enter (0.699)\n",
              "17412  [issue, location, exist, in, territory, exceed...  ...          java (0.445)\n",
              "6308   [issue, subsidence, grade, flag, be, red, exce...  ...        format (0.366)\n",
              "15405  [issue, products, liability, limit, of, indemn...  ...       harveya (0.543)\n",
              "1781   [issue, pd, eml, enter, be, outside, authority...  ...         enter (0.607)\n",
              "2726   [issue, pd, eml, enter, be, outside, authority...  ...         enter (0.572)\n",
              "10721  [issue, location, exist, in, territory, exceed...  ...           eur (0.531)\n",
              "2618   [creator, douglas, mchugh, december, schedule,...  ...           gbp (0.519)\n",
              "2253   [strategy, manufacturing, joiners, specialise,...  ...           eml (0.357)\n",
              "3106   [issue, surface, water, grade, flag, overridde...  ...       morgans (0.386)\n",
              "1832   [claim, number, loss, date, loss, because, fir...  ...  dissatisfied (0.718)\n",
              "6773   [issue, property, owners, liability, asbestos,...  ...         enter (0.535)\n",
              "15111  [hold, since, previously, under, lta, but, hav...  ...      aberdeen (0.493)\n",
              "5623   [issue, property, owners, liability, terrorism...  ...           eml (0.472)\n",
              "13990  [issue, bi, eml, enter, be, outside, authority...  ...        jackie (0.472)\n",
              "10580  [grade, front, look, like, have, already, clas...  ...         hotel (0.312)\n",
              "14586  [claim, number, loss, date, loss, because, esc...  ...           eml (0.550)\n",
              "\n",
              "[25 rows x 12 columns]"
            ]
          },
          "metadata": {
            "tags": []
          },
          "execution_count": 52
        }
      ]
    },
    {
      "cell_type": "markdown",
      "metadata": {
        "id": "p90gdYbE5Dzs"
      },
      "source": [
        "# LPL\n"
      ]
    },
    {
      "cell_type": "code",
      "metadata": {
        "id": "jyVTxpAw5Dzt"
      },
      "source": [
        "LPL_data = pd.read_csv(\"/content/drive/MyDrive/Data/LPL_data.csv\")"
      ],
      "execution_count": null,
      "outputs": []
    },
    {
      "cell_type": "code",
      "metadata": {
        "colab": {
          "base_uri": "https://localhost:8080/",
          "height": 419
        },
        "id": "ymOBAhCq5Dzt",
        "outputId": "12cae9cf-61c4-4440-f7ca-3843c31f64fb"
      },
      "source": [
        "LPL_data"
      ],
      "execution_count": null,
      "outputs": [
        {
          "output_type": "execute_result",
          "data": {
            "text/html": [
              "<div>\n",
              "<style scoped>\n",
              "    .dataframe tbody tr th:only-of-type {\n",
              "        vertical-align: middle;\n",
              "    }\n",
              "\n",
              "    .dataframe tbody tr th {\n",
              "        vertical-align: top;\n",
              "    }\n",
              "\n",
              "    .dataframe thead th {\n",
              "        text-align: right;\n",
              "    }\n",
              "</style>\n",
              "<table border=\"1\" class=\"dataframe\">\n",
              "  <thead>\n",
              "    <tr style=\"text-align: right;\">\n",
              "      <th></th>\n",
              "      <th>Unnamed: 0</th>\n",
              "      <th>CLAIM_ID</th>\n",
              "      <th>POLICY_ID</th>\n",
              "      <th>Number_of_Claims</th>\n",
              "      <th>Total_Claim_Cost</th>\n",
              "      <th>Average_Claim_Cost</th>\n",
              "    </tr>\n",
              "  </thead>\n",
              "  <tbody>\n",
              "    <tr>\n",
              "      <th>0</th>\n",
              "      <td>1</td>\n",
              "      <td>30167</td>\n",
              "      <td>401194598.00</td>\n",
              "      <td>61</td>\n",
              "      <td>219878.99</td>\n",
              "      <td>3604.57</td>\n",
              "    </tr>\n",
              "    <tr>\n",
              "      <th>1</th>\n",
              "      <td>2</td>\n",
              "      <td>30342</td>\n",
              "      <td>401104056.00</td>\n",
              "      <td>1</td>\n",
              "      <td>0.00</td>\n",
              "      <td>0.00</td>\n",
              "    </tr>\n",
              "    <tr>\n",
              "      <th>2</th>\n",
              "      <td>3</td>\n",
              "      <td>30573</td>\n",
              "      <td>401191736.00</td>\n",
              "      <td>1</td>\n",
              "      <td>0.00</td>\n",
              "      <td>0.00</td>\n",
              "    </tr>\n",
              "    <tr>\n",
              "      <th>3</th>\n",
              "      <td>4</td>\n",
              "      <td>31417</td>\n",
              "      <td>401199024.00</td>\n",
              "      <td>3</td>\n",
              "      <td>1172.75</td>\n",
              "      <td>390.92</td>\n",
              "    </tr>\n",
              "    <tr>\n",
              "      <th>4</th>\n",
              "      <td>5</td>\n",
              "      <td>31491</td>\n",
              "      <td>401194595.00</td>\n",
              "      <td>2</td>\n",
              "      <td>0.00</td>\n",
              "      <td>0.00</td>\n",
              "    </tr>\n",
              "    <tr>\n",
              "      <th>...</th>\n",
              "      <td>...</td>\n",
              "      <td>...</td>\n",
              "      <td>...</td>\n",
              "      <td>...</td>\n",
              "      <td>...</td>\n",
              "      <td>...</td>\n",
              "    </tr>\n",
              "    <tr>\n",
              "      <th>8578</th>\n",
              "      <td>8579</td>\n",
              "      <td>1609933</td>\n",
              "      <td>401315107.00</td>\n",
              "      <td>1</td>\n",
              "      <td>0.00</td>\n",
              "      <td>0.00</td>\n",
              "    </tr>\n",
              "    <tr>\n",
              "      <th>8579</th>\n",
              "      <td>8580</td>\n",
              "      <td>1609939</td>\n",
              "      <td>401139142.00</td>\n",
              "      <td>1</td>\n",
              "      <td>0.00</td>\n",
              "      <td>0.00</td>\n",
              "    </tr>\n",
              "    <tr>\n",
              "      <th>8580</th>\n",
              "      <td>8581</td>\n",
              "      <td>1609948</td>\n",
              "      <td>401354739.00</td>\n",
              "      <td>1</td>\n",
              "      <td>0.00</td>\n",
              "      <td>0.00</td>\n",
              "    </tr>\n",
              "    <tr>\n",
              "      <th>8581</th>\n",
              "      <td>8582</td>\n",
              "      <td>1612382</td>\n",
              "      <td>401317004.00</td>\n",
              "      <td>1</td>\n",
              "      <td>0.00</td>\n",
              "      <td>0.00</td>\n",
              "    </tr>\n",
              "    <tr>\n",
              "      <th>8582</th>\n",
              "      <td>8583</td>\n",
              "      <td>1613162</td>\n",
              "      <td>288709.00</td>\n",
              "      <td>1</td>\n",
              "      <td>0.00</td>\n",
              "      <td>0.00</td>\n",
              "    </tr>\n",
              "  </tbody>\n",
              "</table>\n",
              "<p>8583 rows × 6 columns</p>\n",
              "</div>"
            ],
            "text/plain": [
              "      Unnamed: 0  CLAIM_ID  ...  Total_Claim_Cost  Average_Claim_Cost\n",
              "0              1     30167  ...         219878.99             3604.57\n",
              "1              2     30342  ...              0.00                0.00\n",
              "2              3     30573  ...              0.00                0.00\n",
              "3              4     31417  ...           1172.75              390.92\n",
              "4              5     31491  ...              0.00                0.00\n",
              "...          ...       ...  ...               ...                 ...\n",
              "8578        8579   1609933  ...              0.00                0.00\n",
              "8579        8580   1609939  ...              0.00                0.00\n",
              "8580        8581   1609948  ...              0.00                0.00\n",
              "8581        8582   1612382  ...              0.00                0.00\n",
              "8582        8583   1613162  ...              0.00                0.00\n",
              "\n",
              "[8583 rows x 6 columns]"
            ]
          },
          "metadata": {
            "tags": []
          },
          "execution_count": 19
        }
      ]
    },
    {
      "cell_type": "code",
      "metadata": {
        "id": "FazXEJoZ5Dzu"
      },
      "source": [
        "LPL_data = LPL_data.dropna() "
      ],
      "execution_count": null,
      "outputs": []
    },
    {
      "cell_type": "code",
      "metadata": {
        "id": "aGbwNwz95Dzu"
      },
      "source": [
        "LPL_data['POLICY_ID'] = LPL_data['POLICY_ID'].astype(np.int64)"
      ],
      "execution_count": null,
      "outputs": []
    },
    {
      "cell_type": "code",
      "metadata": {
        "id": "ehjMrN8o5Dzu"
      },
      "source": [
        "LPL_data = pd.merge(data, LPL_data,\n",
        "                   how='inner', left_on='POLICYID', right_on='POLICY_ID')"
      ],
      "execution_count": null,
      "outputs": []
    },
    {
      "cell_type": "code",
      "metadata": {
        "id": "aPntvzZC5Dzu"
      },
      "source": [
        "LPL_data = LPL_data.drop(['POLICY_ID', 'Unnamed: 0'], axis=1)"
      ],
      "execution_count": null,
      "outputs": []
    },
    {
      "cell_type": "code",
      "metadata": {
        "colab": {
          "base_uri": "https://localhost:8080/",
          "height": 419
        },
        "id": "NTfYH4JL5Dzv",
        "outputId": "220d498d-ee8d-4315-82d2-4446ad86f6f6"
      },
      "source": [
        "LPL_data.sort_values(by= 'Total_Claim_Cost') "
      ],
      "execution_count": null,
      "outputs": [
        {
          "output_type": "execute_result",
          "data": {
            "text/html": [
              "<div>\n",
              "<style scoped>\n",
              "    .dataframe tbody tr th:only-of-type {\n",
              "        vertical-align: middle;\n",
              "    }\n",
              "\n",
              "    .dataframe tbody tr th {\n",
              "        vertical-align: top;\n",
              "    }\n",
              "\n",
              "    .dataframe thead th {\n",
              "        text-align: right;\n",
              "    }\n",
              "</style>\n",
              "<table border=\"1\" class=\"dataframe\">\n",
              "  <thead>\n",
              "    <tr style=\"text-align: right;\">\n",
              "      <th></th>\n",
              "      <th>text</th>\n",
              "      <th>Claim</th>\n",
              "      <th>Number_of_Claims_x</th>\n",
              "      <th>tokens</th>\n",
              "      <th>Product_Code</th>\n",
              "      <th>POLICYID</th>\n",
              "      <th>length</th>\n",
              "      <th>CLAIM_ID</th>\n",
              "      <th>Number_of_Claims_y</th>\n",
              "      <th>Total_Claim_Cost</th>\n",
              "      <th>Average_Claim_Cost</th>\n",
              "    </tr>\n",
              "  </thead>\n",
              "  <tbody>\n",
              "    <tr>\n",
              "      <th>331</th>\n",
              "      <td>[policy, migrate, from, 24747964cmt, wire, pol...</td>\n",
              "      <td>Yes</td>\n",
              "      <td>2</td>\n",
              "      <td>[policy, migrate, wire, policy, mid, issue, fr...</td>\n",
              "      <td>CMT</td>\n",
              "      <td>401114249</td>\n",
              "      <td>39</td>\n",
              "      <td>156992</td>\n",
              "      <td>1</td>\n",
              "      <td>-8662.58</td>\n",
              "      <td>-8662.58</td>\n",
              "    </tr>\n",
              "    <tr>\n",
              "      <th>2633</th>\n",
              "      <td>[hold, since, nb, last, year, would, fit, unde...</td>\n",
              "      <td>Yes</td>\n",
              "      <td>3</td>\n",
              "      <td>[hold, year, fit, commercial, work, sah, agree...</td>\n",
              "      <td>CSI</td>\n",
              "      <td>401153731</td>\n",
              "      <td>509</td>\n",
              "      <td>763664</td>\n",
              "      <td>3</td>\n",
              "      <td>-1500.00</td>\n",
              "      <td>-500.00</td>\n",
              "    </tr>\n",
              "    <tr>\n",
              "      <th>5790</th>\n",
              "      <td>[centurion, site, services, risk, be, connect,...</td>\n",
              "      <td>Yes</td>\n",
              "      <td>5</td>\n",
              "      <td>[centurion, site, services, risk, connect, mai...</td>\n",
              "      <td>CSI</td>\n",
              "      <td>401340325</td>\n",
              "      <td>207</td>\n",
              "      <td>418114</td>\n",
              "      <td>5</td>\n",
              "      <td>-1276.00</td>\n",
              "      <td>-255.20</td>\n",
              "    </tr>\n",
              "    <tr>\n",
              "      <th>2434</th>\n",
              "      <td>[issue, bi, eml, enter, be, outside, authority...</td>\n",
              "      <td>Yes</td>\n",
              "      <td>1</td>\n",
              "      <td>[issue, eml, enter, outside, authority, total,...</td>\n",
              "      <td>CCI</td>\n",
              "      <td>401150666</td>\n",
              "      <td>178</td>\n",
              "      <td>57133</td>\n",
              "      <td>1</td>\n",
              "      <td>-500.00</td>\n",
              "      <td>-500.00</td>\n",
              "    </tr>\n",
              "    <tr>\n",
              "      <th>7850</th>\n",
              "      <td>[issue, public, liability, limit, of, indemnit...</td>\n",
              "      <td>Yes</td>\n",
              "      <td>11</td>\n",
              "      <td>[issue, public, liability, limit, indemnity, e...</td>\n",
              "      <td>CLP</td>\n",
              "      <td>401393128</td>\n",
              "      <td>62</td>\n",
              "      <td>529282</td>\n",
              "      <td>1</td>\n",
              "      <td>-360.00</td>\n",
              "      <td>-360.00</td>\n",
              "    </tr>\n",
              "    <tr>\n",
              "      <th>...</th>\n",
              "      <td>...</td>\n",
              "      <td>...</td>\n",
              "      <td>...</td>\n",
              "      <td>...</td>\n",
              "      <td>...</td>\n",
              "      <td>...</td>\n",
              "      <td>...</td>\n",
              "      <td>...</td>\n",
              "      <td>...</td>\n",
              "      <td>...</td>\n",
              "      <td>...</td>\n",
              "    </tr>\n",
              "    <tr>\n",
              "      <th>1634</th>\n",
              "      <td>[supply, computer, consumable, office, and, pr...</td>\n",
              "      <td>Yes</td>\n",
              "      <td>1</td>\n",
              "      <td>[supply, computer, consumable, office, printin...</td>\n",
              "      <td>CCI</td>\n",
              "      <td>401136481</td>\n",
              "      <td>256</td>\n",
              "      <td>1403528</td>\n",
              "      <td>1</td>\n",
              "      <td>4400000.00</td>\n",
              "      <td>4400000.00</td>\n",
              "    </tr>\n",
              "    <tr>\n",
              "      <th>3074</th>\n",
              "      <td>[issue, products, liability, limit, of, indemn...</td>\n",
              "      <td>Yes</td>\n",
              "      <td>702</td>\n",
              "      <td>[issue, products, liability, limit, indemnity,...</td>\n",
              "      <td>CCI</td>\n",
              "      <td>401160313</td>\n",
              "      <td>747</td>\n",
              "      <td>58981</td>\n",
              "      <td>571</td>\n",
              "      <td>4931858.85</td>\n",
              "      <td>8637.23</td>\n",
              "    </tr>\n",
              "    <tr>\n",
              "      <th>2393</th>\n",
              "      <td>[issue, public, liability, free, format, wordi...</td>\n",
              "      <td>Yes</td>\n",
              "      <td>8</td>\n",
              "      <td>[issue, public, liability, free, format, wordi...</td>\n",
              "      <td>CSI</td>\n",
              "      <td>401150143</td>\n",
              "      <td>1081</td>\n",
              "      <td>210362</td>\n",
              "      <td>2</td>\n",
              "      <td>5143520.86</td>\n",
              "      <td>2571760.43</td>\n",
              "    </tr>\n",
              "    <tr>\n",
              "      <th>656</th>\n",
              "      <td>[issue, public, liability, limit, of, indemnit...</td>\n",
              "      <td>Yes</td>\n",
              "      <td>158</td>\n",
              "      <td>[issue, public, liability, limit, indemnity, e...</td>\n",
              "      <td>CLP</td>\n",
              "      <td>401120463</td>\n",
              "      <td>456</td>\n",
              "      <td>116163</td>\n",
              "      <td>21</td>\n",
              "      <td>5840829.33</td>\n",
              "      <td>278134.73</td>\n",
              "    </tr>\n",
              "    <tr>\n",
              "      <th>250</th>\n",
              "      <td>[business, description, be, suppliers, shipper...</td>\n",
              "      <td>Yes</td>\n",
              "      <td>1</td>\n",
              "      <td>[business, description, suppliers, shippers, n...</td>\n",
              "      <td>CCI</td>\n",
              "      <td>401112815</td>\n",
              "      <td>616</td>\n",
              "      <td>314579</td>\n",
              "      <td>1</td>\n",
              "      <td>7000000.00</td>\n",
              "      <td>7000000.00</td>\n",
              "    </tr>\n",
              "  </tbody>\n",
              "</table>\n",
              "<p>8469 rows × 11 columns</p>\n",
              "</div>"
            ],
            "text/plain": [
              "                                                   text  ... Average_Claim_Cost\n",
              "331   [policy, migrate, from, 24747964cmt, wire, pol...  ...           -8662.58\n",
              "2633  [hold, since, nb, last, year, would, fit, unde...  ...            -500.00\n",
              "5790  [centurion, site, services, risk, be, connect,...  ...            -255.20\n",
              "2434  [issue, bi, eml, enter, be, outside, authority...  ...            -500.00\n",
              "7850  [issue, public, liability, limit, of, indemnit...  ...            -360.00\n",
              "...                                                 ...  ...                ...\n",
              "1634  [supply, computer, consumable, office, and, pr...  ...         4400000.00\n",
              "3074  [issue, products, liability, limit, of, indemn...  ...            8637.23\n",
              "2393  [issue, public, liability, free, format, wordi...  ...         2571760.43\n",
              "656   [issue, public, liability, limit, of, indemnit...  ...          278134.73\n",
              "250   [business, description, be, suppliers, shipper...  ...         7000000.00\n",
              "\n",
              "[8469 rows x 11 columns]"
            ]
          },
          "metadata": {
            "tags": []
          },
          "execution_count": 24
        }
      ]
    },
    {
      "cell_type": "code",
      "metadata": {
        "colab": {
          "base_uri": "https://localhost:8080/"
        },
        "id": "78ECE9Ul5Dzv",
        "outputId": "81a13689-d3c3-4572-e44e-d1dfaf59f42b"
      },
      "source": [
        "LPL_data.Total_Claim_Cost.describe()"
      ],
      "execution_count": null,
      "outputs": [
        {
          "output_type": "execute_result",
          "data": {
            "text/plain": [
              "count      8469.00\n",
              "mean      33639.69\n",
              "std      199026.64\n",
              "min       -8662.58\n",
              "25%           0.00\n",
              "50%        3226.36\n",
              "75%       15060.00\n",
              "max     7000000.00\n",
              "Name: Total_Claim_Cost, dtype: float64"
            ]
          },
          "metadata": {
            "tags": []
          },
          "execution_count": 25
        }
      ]
    },
    {
      "cell_type": "code",
      "metadata": {
        "colab": {
          "base_uri": "https://localhost:8080/"
        },
        "id": "TpREDCR95Dzv",
        "outputId": "9f572728-bf56-41cd-eece-004b118deeb6"
      },
      "source": [
        "LPL_data.Average_Claim_Cost.describe()"
      ],
      "execution_count": null,
      "outputs": [
        {
          "output_type": "execute_result",
          "data": {
            "text/plain": [
              "count      8469.00\n",
              "mean      14791.86\n",
              "std      114556.54\n",
              "min       -8662.58\n",
              "25%           0.00\n",
              "50%        2059.13\n",
              "75%        8182.49\n",
              "max     7000000.00\n",
              "Name: Average_Claim_Cost, dtype: float64"
            ]
          },
          "metadata": {
            "tags": []
          },
          "execution_count": 26
        }
      ]
    },
    {
      "cell_type": "code",
      "metadata": {
        "colab": {
          "base_uri": "https://localhost:8080/",
          "height": 419
        },
        "id": "DJDhF9LT5Dzw",
        "outputId": "c55a962f-b010-4d5b-f139-083a17d83253"
      },
      "source": [
        "LPL_data"
      ],
      "execution_count": null,
      "outputs": [
        {
          "output_type": "execute_result",
          "data": {
            "text/html": [
              "<div>\n",
              "<style scoped>\n",
              "    .dataframe tbody tr th:only-of-type {\n",
              "        vertical-align: middle;\n",
              "    }\n",
              "\n",
              "    .dataframe tbody tr th {\n",
              "        vertical-align: top;\n",
              "    }\n",
              "\n",
              "    .dataframe thead th {\n",
              "        text-align: right;\n",
              "    }\n",
              "</style>\n",
              "<table border=\"1\" class=\"dataframe\">\n",
              "  <thead>\n",
              "    <tr style=\"text-align: right;\">\n",
              "      <th></th>\n",
              "      <th>text</th>\n",
              "      <th>Claim</th>\n",
              "      <th>Number_of_Claims_x</th>\n",
              "      <th>tokens</th>\n",
              "      <th>Product_Code</th>\n",
              "      <th>POLICYID</th>\n",
              "      <th>length</th>\n",
              "      <th>CLAIM_ID</th>\n",
              "      <th>Number_of_Claims_y</th>\n",
              "      <th>Total_Claim_Cost</th>\n",
              "      <th>Average_Claim_Cost</th>\n",
              "    </tr>\n",
              "  </thead>\n",
              "  <tbody>\n",
              "    <tr>\n",
              "      <th>0</th>\n",
              "      <td>[rationale, city, of, liverpool, inv, co, ltd,...</td>\n",
              "      <td>Yes</td>\n",
              "      <td>6</td>\n",
              "      <td>[rationale, city, liverpool, inv, ltd, renewal...</td>\n",
              "      <td>CPO</td>\n",
              "      <td>101630</td>\n",
              "      <td>729</td>\n",
              "      <td>592884</td>\n",
              "      <td>2</td>\n",
              "      <td>17987.00</td>\n",
              "      <td>8993.50</td>\n",
              "    </tr>\n",
              "    <tr>\n",
              "      <th>1</th>\n",
              "      <td>[rationale, be, upload, once, rnl, confirm, on...</td>\n",
              "      <td>Yes</td>\n",
              "      <td>24</td>\n",
              "      <td>[rationale, upload, rnl, confirm, note, fttb, ...</td>\n",
              "      <td>CPO</td>\n",
              "      <td>108020</td>\n",
              "      <td>83</td>\n",
              "      <td>1464647</td>\n",
              "      <td>1</td>\n",
              "      <td>10523.36</td>\n",
              "      <td>10523.36</td>\n",
              "    </tr>\n",
              "    <tr>\n",
              "      <th>2</th>\n",
              "      <td>[issue, liability, total, technical, premium, ...</td>\n",
              "      <td>Yes</td>\n",
              "      <td>2</td>\n",
              "      <td>[issue, liability, total, technical, premium, ...</td>\n",
              "      <td>CPO</td>\n",
              "      <td>193404</td>\n",
              "      <td>37</td>\n",
              "      <td>507967</td>\n",
              "      <td>1</td>\n",
              "      <td>213.40</td>\n",
              "      <td>213.40</td>\n",
              "    </tr>\n",
              "    <tr>\n",
              "      <th>3</th>\n",
              "      <td>[brkr, advise, delete, 5a, ravensworth, villas...</td>\n",
              "      <td>Yes</td>\n",
              "      <td>1</td>\n",
              "      <td>[brkr, advise, delete, ravensworth, villas, we...</td>\n",
              "      <td>CPO</td>\n",
              "      <td>194397</td>\n",
              "      <td>105</td>\n",
              "      <td>1393873</td>\n",
              "      <td>1</td>\n",
              "      <td>0.00</td>\n",
              "      <td>0.00</td>\n",
              "    </tr>\n",
              "    <tr>\n",
              "      <th>4</th>\n",
              "      <td>[core, risk, connect, to, pm516847chc, change,...</td>\n",
              "      <td>Yes</td>\n",
              "      <td>1</td>\n",
              "      <td>[core, risk, connected, change, risk, claim, f...</td>\n",
              "      <td>CPO</td>\n",
              "      <td>194756</td>\n",
              "      <td>111</td>\n",
              "      <td>1273161</td>\n",
              "      <td>1</td>\n",
              "      <td>0.00</td>\n",
              "      <td>0.00</td>\n",
              "    </tr>\n",
              "    <tr>\n",
              "      <th>...</th>\n",
              "      <td>...</td>\n",
              "      <td>...</td>\n",
              "      <td>...</td>\n",
              "      <td>...</td>\n",
              "      <td>...</td>\n",
              "      <td>...</td>\n",
              "      <td>...</td>\n",
              "      <td>...</td>\n",
              "      <td>...</td>\n",
              "      <td>...</td>\n",
              "      <td>...</td>\n",
              "    </tr>\n",
              "    <tr>\n",
              "      <th>8464</th>\n",
              "      <td>[agree, issue, products, liability, efficacy, ...</td>\n",
              "      <td>Yes</td>\n",
              "      <td>1</td>\n",
              "      <td>[agree, issue, products, liability, efficacy, ...</td>\n",
              "      <td>CCI</td>\n",
              "      <td>401599395</td>\n",
              "      <td>127</td>\n",
              "      <td>1362161</td>\n",
              "      <td>1</td>\n",
              "      <td>0.00</td>\n",
              "      <td>0.00</td>\n",
              "    </tr>\n",
              "    <tr>\n",
              "      <th>8465</th>\n",
              "      <td>[issue, location, exist, in, territory, exceed...</td>\n",
              "      <td>Yes</td>\n",
              "      <td>2</td>\n",
              "      <td>[issue, location, exist, territory, exceed, au...</td>\n",
              "      <td>CLP</td>\n",
              "      <td>401599666</td>\n",
              "      <td>56</td>\n",
              "      <td>1475342</td>\n",
              "      <td>2</td>\n",
              "      <td>17665.77</td>\n",
              "      <td>8832.89</td>\n",
              "    </tr>\n",
              "    <tr>\n",
              "      <th>8466</th>\n",
              "      <td>[issue, property, owners, liability, asbestos,...</td>\n",
              "      <td>Yes</td>\n",
              "      <td>55</td>\n",
              "      <td>[issue, property, owners, liability, asbestos,...</td>\n",
              "      <td>CPO</td>\n",
              "      <td>401599785</td>\n",
              "      <td>54</td>\n",
              "      <td>1237706</td>\n",
              "      <td>55</td>\n",
              "      <td>270011.68</td>\n",
              "      <td>4909.30</td>\n",
              "    </tr>\n",
              "    <tr>\n",
              "      <th>8467</th>\n",
              "      <td>[issue, liability, total, technical, premium, ...</td>\n",
              "      <td>Yes</td>\n",
              "      <td>11</td>\n",
              "      <td>[issue, liability, total, technical, premium, ...</td>\n",
              "      <td>CLP</td>\n",
              "      <td>401599800</td>\n",
              "      <td>21</td>\n",
              "      <td>1430050</td>\n",
              "      <td>3</td>\n",
              "      <td>17112.84</td>\n",
              "      <td>5704.28</td>\n",
              "    </tr>\n",
              "    <tr>\n",
              "      <th>8468</th>\n",
              "      <td>[hawkeye, only, liability, contract, work, dat...</td>\n",
              "      <td>Yes</td>\n",
              "      <td>1</td>\n",
              "      <td>[hawkeye, liabilities, contract, works, data, ...</td>\n",
              "      <td>CSI</td>\n",
              "      <td>401599962</td>\n",
              "      <td>188</td>\n",
              "      <td>1424410</td>\n",
              "      <td>1</td>\n",
              "      <td>0.00</td>\n",
              "      <td>0.00</td>\n",
              "    </tr>\n",
              "  </tbody>\n",
              "</table>\n",
              "<p>8469 rows × 11 columns</p>\n",
              "</div>"
            ],
            "text/plain": [
              "                                                   text  ... Average_Claim_Cost\n",
              "0     [rationale, city, of, liverpool, inv, co, ltd,...  ...            8993.50\n",
              "1     [rationale, be, upload, once, rnl, confirm, on...  ...           10523.36\n",
              "2     [issue, liability, total, technical, premium, ...  ...             213.40\n",
              "3     [brkr, advise, delete, 5a, ravensworth, villas...  ...               0.00\n",
              "4     [core, risk, connect, to, pm516847chc, change,...  ...               0.00\n",
              "...                                                 ...  ...                ...\n",
              "8464  [agree, issue, products, liability, efficacy, ...  ...               0.00\n",
              "8465  [issue, location, exist, in, territory, exceed...  ...            8832.89\n",
              "8466  [issue, property, owners, liability, asbestos,...  ...            4909.30\n",
              "8467  [issue, liability, total, technical, premium, ...  ...            5704.28\n",
              "8468  [hawkeye, only, liability, contract, work, dat...  ...               0.00\n",
              "\n",
              "[8469 rows x 11 columns]"
            ]
          },
          "metadata": {
            "tags": []
          },
          "execution_count": 27
        }
      ]
    },
    {
      "cell_type": "code",
      "metadata": {
        "colab": {
          "base_uri": "https://localhost:8080/"
        },
        "id": "hEXGuk4vNIl1",
        "outputId": "ece07e81-14a2-46cb-d056-dd2cfd54a2ac"
      },
      "source": [
        "LPL_data.Number_of_Claims_y.sum()"
      ],
      "execution_count": null,
      "outputs": [
        {
          "output_type": "execute_result",
          "data": {
            "text/plain": [
              "25401"
            ]
          },
          "metadata": {
            "tags": []
          },
          "execution_count": 28
        }
      ]
    },
    {
      "cell_type": "code",
      "metadata": {
        "colab": {
          "base_uri": "https://localhost:8080/"
        },
        "id": "7h9ivp0v5Dzw",
        "outputId": "0612e128-e520-475b-833d-1107374af7ba"
      },
      "source": [
        "'large' in LPL_data.tokens[0]"
      ],
      "execution_count": null,
      "outputs": [
        {
          "output_type": "execute_result",
          "data": {
            "text/plain": [
              "True"
            ]
          },
          "metadata": {
            "tags": []
          },
          "execution_count": 68
        }
      ]
    },
    {
      "cell_type": "code",
      "metadata": {
        "id": "69lM1ZXi5Dzw"
      },
      "source": [
        "z = ['large', 'test']"
      ],
      "execution_count": null,
      "outputs": []
    },
    {
      "cell_type": "code",
      "metadata": {
        "id": "1TV8Iq2l5Dzw"
      },
      "source": [
        "x = []"
      ],
      "execution_count": null,
      "outputs": []
    },
    {
      "cell_type": "code",
      "metadata": {
        "id": "KBDH6ggy5Dzw"
      },
      "source": [
        "for i in range(0, len(PRMD_df)): \n",
        "  x.append('large' in PRMD_df.tokens[i])"
      ],
      "execution_count": null,
      "outputs": []
    },
    {
      "cell_type": "code",
      "metadata": {
        "colab": {
          "base_uri": "https://localhost:8080/"
        },
        "id": "IGuVEeP05Dzx",
        "outputId": "e4b4b06d-6af4-4d4c-a5ef-3bed9637e8d7"
      },
      "source": [
        "x[0:10]"
      ],
      "execution_count": null,
      "outputs": [
        {
          "output_type": "execute_result",
          "data": {
            "text/plain": [
              "[True, True, False, True, True, False, False, False, False, False]"
            ]
          },
          "metadata": {
            "tags": []
          },
          "execution_count": 79
        }
      ]
    },
    {
      "cell_type": "code",
      "metadata": {
        "id": "98Fx1WQe5Dzx"
      },
      "source": [
        "from gensim.corpora import Dictionary, HashDictionary, MmCorpus, WikiCorpus\n",
        "from gensim.models import TfidfModel"
      ],
      "execution_count": null,
      "outputs": []
    },
    {
      "cell_type": "code",
      "metadata": {
        "id": "3ze51Ect5Dzx"
      },
      "source": [
        "dct = Dictionary(LPL_data.tokens)\n",
        "dct.filter_extremes(no_below = 10)\n",
        "corpus = [dct.doc2bow(line) for line in LPL_data.tokens]"
      ],
      "execution_count": null,
      "outputs": []
    },
    {
      "cell_type": "code",
      "metadata": {
        "id": "DSRNm5Y_5Dzx"
      },
      "source": [
        "total_word_count = defaultdict(int)\n",
        "for word_id, word_count in itertools.chain.from_iterable(corpus):\n",
        "    total_word_count[word_id] += word_count"
      ],
      "execution_count": null,
      "outputs": []
    },
    {
      "cell_type": "code",
      "metadata": {
        "id": "0nZj8bJ45Dzx"
      },
      "source": [
        "df = pd.DataFrame.from_dict(total_word_count , orient='index', columns=['Frequency'])"
      ],
      "execution_count": null,
      "outputs": []
    },
    {
      "cell_type": "code",
      "metadata": {
        "id": "PB6ztY2y5Dzx"
      },
      "source": [
        "df = df.sort_values(by='Frequency', ascending=False)"
      ],
      "execution_count": null,
      "outputs": []
    },
    {
      "cell_type": "code",
      "metadata": {
        "id": "phu2MyWm5Dzy"
      },
      "source": [
        "df = df.head(25)"
      ],
      "execution_count": null,
      "outputs": []
    },
    {
      "cell_type": "code",
      "metadata": {
        "colab": {
          "base_uri": "https://localhost:8080/",
          "height": 766
        },
        "id": "5p2tlw5x5Dzy",
        "outputId": "5e3d19ab-afbc-4365-cbfa-918f64e5acdf"
      },
      "source": [
        "df"
      ],
      "execution_count": null,
      "outputs": [
        {
          "output_type": "execute_result",
          "data": {
            "text/html": [
              "<div>\n",
              "<style scoped>\n",
              "    .dataframe tbody tr th:only-of-type {\n",
              "        vertical-align: middle;\n",
              "    }\n",
              "\n",
              "    .dataframe tbody tr th {\n",
              "        vertical-align: top;\n",
              "    }\n",
              "\n",
              "    .dataframe thead th {\n",
              "        text-align: right;\n",
              "    }\n",
              "</style>\n",
              "<table border=\"1\" class=\"dataframe\">\n",
              "  <thead>\n",
              "    <tr style=\"text-align: right;\">\n",
              "      <th></th>\n",
              "      <th>Frequency</th>\n",
              "    </tr>\n",
              "  </thead>\n",
              "  <tbody>\n",
              "    <tr>\n",
              "      <th>414</th>\n",
              "      <td>36170</td>\n",
              "    </tr>\n",
              "    <tr>\n",
              "      <th>716</th>\n",
              "      <td>29538</td>\n",
              "    </tr>\n",
              "    <tr>\n",
              "      <th>429</th>\n",
              "      <td>24202</td>\n",
              "    </tr>\n",
              "    <tr>\n",
              "      <th>658</th>\n",
              "      <td>21794</td>\n",
              "    </tr>\n",
              "    <tr>\n",
              "      <th>726</th>\n",
              "      <td>18596</td>\n",
              "    </tr>\n",
              "    <tr>\n",
              "      <th>1653</th>\n",
              "      <td>17723</td>\n",
              "    </tr>\n",
              "    <tr>\n",
              "      <th>367</th>\n",
              "      <td>15788</td>\n",
              "    </tr>\n",
              "    <tr>\n",
              "      <th>87</th>\n",
              "      <td>15672</td>\n",
              "    </tr>\n",
              "    <tr>\n",
              "      <th>349</th>\n",
              "      <td>15354</td>\n",
              "    </tr>\n",
              "    <tr>\n",
              "      <th>695</th>\n",
              "      <td>14704</td>\n",
              "    </tr>\n",
              "    <tr>\n",
              "      <th>1199</th>\n",
              "      <td>13452</td>\n",
              "    </tr>\n",
              "    <tr>\n",
              "      <th>364</th>\n",
              "      <td>13161</td>\n",
              "    </tr>\n",
              "    <tr>\n",
              "      <th>315</th>\n",
              "      <td>12865</td>\n",
              "    </tr>\n",
              "    <tr>\n",
              "      <th>263</th>\n",
              "      <td>12755</td>\n",
              "    </tr>\n",
              "    <tr>\n",
              "      <th>69</th>\n",
              "      <td>12293</td>\n",
              "    </tr>\n",
              "    <tr>\n",
              "      <th>436</th>\n",
              "      <td>12072</td>\n",
              "    </tr>\n",
              "    <tr>\n",
              "      <th>361</th>\n",
              "      <td>11789</td>\n",
              "    </tr>\n",
              "    <tr>\n",
              "      <th>16</th>\n",
              "      <td>11071</td>\n",
              "    </tr>\n",
              "    <tr>\n",
              "      <th>71</th>\n",
              "      <td>10708</td>\n",
              "    </tr>\n",
              "    <tr>\n",
              "      <th>162</th>\n",
              "      <td>10432</td>\n",
              "    </tr>\n",
              "    <tr>\n",
              "      <th>543</th>\n",
              "      <td>10401</td>\n",
              "    </tr>\n",
              "    <tr>\n",
              "      <th>74</th>\n",
              "      <td>10372</td>\n",
              "    </tr>\n",
              "    <tr>\n",
              "      <th>135</th>\n",
              "      <td>10246</td>\n",
              "    </tr>\n",
              "    <tr>\n",
              "      <th>89</th>\n",
              "      <td>10013</td>\n",
              "    </tr>\n",
              "    <tr>\n",
              "      <th>141</th>\n",
              "      <td>9855</td>\n",
              "    </tr>\n",
              "  </tbody>\n",
              "</table>\n",
              "</div>"
            ],
            "text/plain": [
              "      Frequency\n",
              "414       36170\n",
              "716       29538\n",
              "429       24202\n",
              "658       21794\n",
              "726       18596\n",
              "1653      17723\n",
              "367       15788\n",
              "87        15672\n",
              "349       15354\n",
              "695       14704\n",
              "1199      13452\n",
              "364       13161\n",
              "315       12865\n",
              "263       12755\n",
              "69        12293\n",
              "436       12072\n",
              "361       11789\n",
              "16        11071\n",
              "71        10708\n",
              "162       10432\n",
              "543       10401\n",
              "74        10372\n",
              "135       10246\n",
              "89        10013\n",
              "141        9855"
            ]
          },
          "metadata": {
            "tags": []
          },
          "execution_count": 86
        }
      ]
    },
    {
      "cell_type": "code",
      "metadata": {
        "id": "xGvN-BPF5Dzy"
      },
      "source": [
        "words_no_claims = pd.DataFrame([dct[414], dct[716], dct[429], dct[658], dct[726], dct[1653], dct[367], dct[87], dct[349], dct[695],\n",
        "                      dct[1199], dct[364], dct[315], dct[263], dct[69], dct[436], dct[361], dct[16], dct[71], dct[162],\n",
        "                      dct[543], dct[74], dct[135], dct[89], dct[141]],\n",
        "                      columns = ['Word'])"
      ],
      "execution_count": null,
      "outputs": []
    },
    {
      "cell_type": "code",
      "metadata": {
        "id": "cGC98UIa5Dzy"
      },
      "source": [
        "df = df.reset_index(drop=True)"
      ],
      "execution_count": null,
      "outputs": []
    },
    {
      "cell_type": "code",
      "metadata": {
        "id": "XMfZAEuL5Dzy"
      },
      "source": [
        "df2 = pd.concat([df, words_no_claims], axis=1, ignore_index=True)"
      ],
      "execution_count": null,
      "outputs": []
    },
    {
      "cell_type": "code",
      "metadata": {
        "id": "uDMvQrVU5Dzy"
      },
      "source": [
        "symbols = ['Frequency', 'Words']\n",
        "\n",
        "df2.columns = symbols"
      ],
      "execution_count": null,
      "outputs": []
    },
    {
      "cell_type": "code",
      "metadata": {
        "colab": {
          "base_uri": "https://localhost:8080/",
          "height": 606
        },
        "id": "QavphuKy5Dzz",
        "outputId": "0e93277d-7488-4d69-b8a1-6e11ee03be4f"
      },
      "source": [
        "fig = plt.figure(figsize=(15, 10))\n",
        "sns.barplot(y=\"Words\", x=\"Frequency\", data=df2)\n",
        "fig.show()"
      ],
      "execution_count": null,
      "outputs": [
        {
          "output_type": "display_data",
          "data": {
            "image/png": "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\n",
            "text/plain": [
              "<Figure size 1080x720 with 1 Axes>"
            ]
          },
          "metadata": {
            "tags": [],
            "needs_background": "light"
          }
        }
      ]
    },
    {
      "cell_type": "code",
      "metadata": {
        "id": "iZaCPV6c5Dzz"
      },
      "source": [
        "model = TfidfModel(corpus)\n",
        "scores = model[corpus]"
      ],
      "execution_count": null,
      "outputs": []
    },
    {
      "cell_type": "code",
      "metadata": {
        "id": "AkcI9r1c5Dzz"
      },
      "source": [
        "test = []\n",
        "top_terms = []"
      ],
      "execution_count": null,
      "outputs": []
    },
    {
      "cell_type": "code",
      "metadata": {
        "id": "Zs1h-I0_5Dzz"
      },
      "source": [
        "for i in range(0, len(corpus)):\n",
        "  tf_obj = model[corpus[i]]\n",
        "  for obj in sorted(tf_obj, key=lambda x: x[1], reverse=True)[:1]:\n",
        "     top_terms.append(\"{0:s} ({1:01.03f})\".format(dct[obj[0]], obj[1]))\n",
        "  test.append(top_terms)"
      ],
      "execution_count": null,
      "outputs": []
    },
    {
      "cell_type": "code",
      "metadata": {
        "id": "FPdDp6iJ5Dzz"
      },
      "source": [
        "t = test[0]"
      ],
      "execution_count": null,
      "outputs": []
    },
    {
      "cell_type": "code",
      "metadata": {
        "colab": {
          "base_uri": "https://localhost:8080/"
        },
        "id": "WEXfQlPy5Dz0",
        "outputId": "753fbd0f-fd0b-4339-b396-d5c931db9986"
      },
      "source": [
        "len(t)"
      ],
      "execution_count": null,
      "outputs": [
        {
          "output_type": "execute_result",
          "data": {
            "text/plain": [
              "8469"
            ]
          },
          "metadata": {
            "tags": []
          },
          "execution_count": 96
        }
      ]
    },
    {
      "cell_type": "code",
      "metadata": {
        "id": "W-7FzvHC5Dz0"
      },
      "source": [
        "weights = pd.DataFrame({'Top_Word' : t})"
      ],
      "execution_count": null,
      "outputs": []
    },
    {
      "cell_type": "code",
      "metadata": {
        "id": "1Eky8PnL5Dz0"
      },
      "source": [
        "LPL_tfidf = pd.concat([LPL_data, weights], axis = 1)"
      ],
      "execution_count": null,
      "outputs": []
    },
    {
      "cell_type": "code",
      "metadata": {
        "colab": {
          "base_uri": "https://localhost:8080/",
          "height": 391
        },
        "id": "uAlcDpwB5Dz0",
        "outputId": "a0b8d60f-00d7-4a51-84e9-e457d4a28137"
      },
      "source": [
        "LPL_tfidf"
      ],
      "execution_count": null,
      "outputs": [
        {
          "output_type": "execute_result",
          "data": {
            "text/html": [
              "<div>\n",
              "<style scoped>\n",
              "    .dataframe tbody tr th:only-of-type {\n",
              "        vertical-align: middle;\n",
              "    }\n",
              "\n",
              "    .dataframe tbody tr th {\n",
              "        vertical-align: top;\n",
              "    }\n",
              "\n",
              "    .dataframe thead th {\n",
              "        text-align: right;\n",
              "    }\n",
              "</style>\n",
              "<table border=\"1\" class=\"dataframe\">\n",
              "  <thead>\n",
              "    <tr style=\"text-align: right;\">\n",
              "      <th></th>\n",
              "      <th>text</th>\n",
              "      <th>Claim</th>\n",
              "      <th>Number_of_Claims_x</th>\n",
              "      <th>tokens</th>\n",
              "      <th>Product_Code</th>\n",
              "      <th>POLICYID</th>\n",
              "      <th>length</th>\n",
              "      <th>CLAIM_ID</th>\n",
              "      <th>Number_of_Claims_y</th>\n",
              "      <th>Total_Claim_Cost</th>\n",
              "      <th>Average_Claim_Cost</th>\n",
              "      <th>Top_Word</th>\n",
              "    </tr>\n",
              "  </thead>\n",
              "  <tbody>\n",
              "    <tr>\n",
              "      <th>0</th>\n",
              "      <td>[rationale, city, of, liverpool, inv, co, ltd,...</td>\n",
              "      <td>Yes</td>\n",
              "      <td>6</td>\n",
              "      <td>[rationale, city, liverpool, inv, ltd, renewal...</td>\n",
              "      <td>CPO</td>\n",
              "      <td>101630</td>\n",
              "      <td>729</td>\n",
              "      <td>592884</td>\n",
              "      <td>2</td>\n",
              "      <td>17987.00</td>\n",
              "      <td>8993.50</td>\n",
              "      <td>storm (0.276)</td>\n",
              "    </tr>\n",
              "    <tr>\n",
              "      <th>1</th>\n",
              "      <td>[rationale, be, upload, once, rnl, confirm, on...</td>\n",
              "      <td>Yes</td>\n",
              "      <td>24</td>\n",
              "      <td>[rationale, upload, rnl, confirm, note, fttb, ...</td>\n",
              "      <td>CPO</td>\n",
              "      <td>108020</td>\n",
              "      <td>83</td>\n",
              "      <td>1464647</td>\n",
              "      <td>1</td>\n",
              "      <td>10523.36</td>\n",
              "      <td>10523.36</td>\n",
              "      <td>philip (0.392)</td>\n",
              "    </tr>\n",
              "    <tr>\n",
              "      <th>2</th>\n",
              "      <td>[issue, liability, total, technical, premium, ...</td>\n",
              "      <td>Yes</td>\n",
              "      <td>2</td>\n",
              "      <td>[issue, liability, total, technical, premium, ...</td>\n",
              "      <td>CPO</td>\n",
              "      <td>193404</td>\n",
              "      <td>37</td>\n",
              "      <td>507967</td>\n",
              "      <td>1</td>\n",
              "      <td>213.40</td>\n",
              "      <td>213.40</td>\n",
              "      <td>quad (0.588)</td>\n",
              "    </tr>\n",
              "    <tr>\n",
              "      <th>3</th>\n",
              "      <td>[brkr, advise, delete, 5a, ravensworth, villas...</td>\n",
              "      <td>Yes</td>\n",
              "      <td>1</td>\n",
              "      <td>[brkr, advise, delete, ravensworth, villas, we...</td>\n",
              "      <td>CPO</td>\n",
              "      <td>194397</td>\n",
              "      <td>105</td>\n",
              "      <td>1393873</td>\n",
              "      <td>1</td>\n",
              "      <td>0.00</td>\n",
              "      <td>0.00</td>\n",
              "      <td>portfolio (0.503)</td>\n",
              "    </tr>\n",
              "    <tr>\n",
              "      <th>4</th>\n",
              "      <td>[core, risk, connect, to, pm516847chc, change,...</td>\n",
              "      <td>Yes</td>\n",
              "      <td>1</td>\n",
              "      <td>[core, risk, connected, change, risk, claim, f...</td>\n",
              "      <td>CPO</td>\n",
              "      <td>194756</td>\n",
              "      <td>111</td>\n",
              "      <td>1273161</td>\n",
              "      <td>1</td>\n",
              "      <td>0.00</td>\n",
              "      <td>0.00</td>\n",
              "      <td>rainfall (0.407)</td>\n",
              "    </tr>\n",
              "    <tr>\n",
              "      <th>...</th>\n",
              "      <td>...</td>\n",
              "      <td>...</td>\n",
              "      <td>...</td>\n",
              "      <td>...</td>\n",
              "      <td>...</td>\n",
              "      <td>...</td>\n",
              "      <td>...</td>\n",
              "      <td>...</td>\n",
              "      <td>...</td>\n",
              "      <td>...</td>\n",
              "      <td>...</td>\n",
              "      <td>...</td>\n",
              "    </tr>\n",
              "    <tr>\n",
              "      <th>8464</th>\n",
              "      <td>[agree, issue, products, liability, efficacy, ...</td>\n",
              "      <td>Yes</td>\n",
              "      <td>1</td>\n",
              "      <td>[agree, issue, products, liability, efficacy, ...</td>\n",
              "      <td>CCI</td>\n",
              "      <td>401599395</td>\n",
              "      <td>127</td>\n",
              "      <td>1362161</td>\n",
              "      <td>1</td>\n",
              "      <td>0.00</td>\n",
              "      <td>0.00</td>\n",
              "      <td>association (0.313)</td>\n",
              "    </tr>\n",
              "    <tr>\n",
              "      <th>8465</th>\n",
              "      <td>[issue, location, exist, in, territory, exceed...</td>\n",
              "      <td>Yes</td>\n",
              "      <td>2</td>\n",
              "      <td>[issue, location, exist, territory, exceed, au...</td>\n",
              "      <td>CLP</td>\n",
              "      <td>401599666</td>\n",
              "      <td>56</td>\n",
              "      <td>1475342</td>\n",
              "      <td>2</td>\n",
              "      <td>17665.77</td>\n",
              "      <td>8832.89</td>\n",
              "      <td>address (0.637)</td>\n",
              "    </tr>\n",
              "    <tr>\n",
              "      <th>8466</th>\n",
              "      <td>[issue, property, owners, liability, asbestos,...</td>\n",
              "      <td>Yes</td>\n",
              "      <td>55</td>\n",
              "      <td>[issue, property, owners, liability, asbestos,...</td>\n",
              "      <td>CPO</td>\n",
              "      <td>401599785</td>\n",
              "      <td>54</td>\n",
              "      <td>1237706</td>\n",
              "      <td>55</td>\n",
              "      <td>270011.68</td>\n",
              "      <td>4909.30</td>\n",
              "      <td>owners (0.807)</td>\n",
              "    </tr>\n",
              "    <tr>\n",
              "      <th>8467</th>\n",
              "      <td>[issue, liability, total, technical, premium, ...</td>\n",
              "      <td>Yes</td>\n",
              "      <td>11</td>\n",
              "      <td>[issue, liability, total, technical, premium, ...</td>\n",
              "      <td>CLP</td>\n",
              "      <td>401599800</td>\n",
              "      <td>21</td>\n",
              "      <td>1430050</td>\n",
              "      <td>3</td>\n",
              "      <td>17112.84</td>\n",
              "      <td>5704.28</td>\n",
              "      <td>platform (0.696)</td>\n",
              "    </tr>\n",
              "    <tr>\n",
              "      <th>8468</th>\n",
              "      <td>[hawkeye, only, liability, contract, work, dat...</td>\n",
              "      <td>Yes</td>\n",
              "      <td>1</td>\n",
              "      <td>[hawkeye, liabilities, contract, works, data, ...</td>\n",
              "      <td>CSI</td>\n",
              "      <td>401599962</td>\n",
              "      <td>188</td>\n",
              "      <td>1424410</td>\n",
              "      <td>1</td>\n",
              "      <td>0.00</td>\n",
              "      <td>0.00</td>\n",
              "      <td>promise (0.290)</td>\n",
              "    </tr>\n",
              "  </tbody>\n",
              "</table>\n",
              "<p>8469 rows × 12 columns</p>\n",
              "</div>"
            ],
            "text/plain": [
              "                                                   text  ...             Top_Word\n",
              "0     [rationale, city, of, liverpool, inv, co, ltd,...  ...        storm (0.276)\n",
              "1     [rationale, be, upload, once, rnl, confirm, on...  ...       philip (0.392)\n",
              "2     [issue, liability, total, technical, premium, ...  ...         quad (0.588)\n",
              "3     [brkr, advise, delete, 5a, ravensworth, villas...  ...    portfolio (0.503)\n",
              "4     [core, risk, connect, to, pm516847chc, change,...  ...     rainfall (0.407)\n",
              "...                                                 ...  ...                  ...\n",
              "8464  [agree, issue, products, liability, efficacy, ...  ...  association (0.313)\n",
              "8465  [issue, location, exist, in, territory, exceed...  ...      address (0.637)\n",
              "8466  [issue, property, owners, liability, asbestos,...  ...       owners (0.807)\n",
              "8467  [issue, liability, total, technical, premium, ...  ...     platform (0.696)\n",
              "8468  [hawkeye, only, liability, contract, work, dat...  ...      promise (0.290)\n",
              "\n",
              "[8469 rows x 12 columns]"
            ]
          },
          "metadata": {
            "tags": []
          },
          "execution_count": 101
        }
      ]
    },
    {
      "cell_type": "code",
      "metadata": {
        "id": "w53ghkvM5Dz0"
      },
      "source": [
        "td = { \n",
        "    dct.get(_id): value for doc in scores\n",
        "    for _id, value in doc\n",
        "    }\n",
        "\n",
        "sorted_td = sorted(td.items(), key=lambda kv: kv[1], reverse=True) "
      ],
      "execution_count": null,
      "outputs": []
    },
    {
      "cell_type": "code",
      "metadata": {
        "id": "ZoS9UojK5Dz0"
      },
      "source": [
        "sorted_td = pd.DataFrame(sorted_td[0:25], columns=['Word','Weight'])"
      ],
      "execution_count": null,
      "outputs": []
    },
    {
      "cell_type": "code",
      "metadata": {
        "colab": {
          "base_uri": "https://localhost:8080/",
          "height": 606
        },
        "id": "kOja09rU5Dz1",
        "outputId": "78d5b51d-fc86-43a1-962d-c9a2b4f581df"
      },
      "source": [
        "fig = plt.figure(figsize=(15, 10))\n",
        "sns.barplot(y=\"Word\", x=\"Weight\", data=sorted_td)\n",
        "fig.show()"
      ],
      "execution_count": null,
      "outputs": [
        {
          "output_type": "display_data",
          "data": {
            "image/png": "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\n",
            "text/plain": [
              "<Figure size 1080x720 with 1 Axes>"
            ]
          },
          "metadata": {
            "tags": [],
            "needs_background": "light"
          }
        }
      ]
    },
    {
      "cell_type": "code",
      "metadata": {
        "colab": {
          "base_uri": "https://localhost:8080/",
          "height": 307
        },
        "id": "MyNq0gK05Dz1",
        "outputId": "430714c1-85b8-441e-8e8b-24a6949ac20e"
      },
      "source": [
        "sns.scatterplot(data = PRMD_tfidf, x = 'Top_Word', y = 'Total_Claim_Cost')"
      ],
      "execution_count": null,
      "outputs": [
        {
          "output_type": "execute_result",
          "data": {
            "text/plain": [
              "<matplotlib.axes._subplots.AxesSubplot at 0x7ff67d232090>"
            ]
          },
          "metadata": {
            "tags": []
          },
          "execution_count": 51
        },
        {
          "output_type": "display_data",
          "data": {
            "image/png": "iVBORw0KGgoAAAANSUhEUgAAAcAAAAESCAYAAABq0wVXAAAABHNCSVQICAgIfAhkiAAAAAlwSFlzAAALEgAACxIB0t1+/AAAADh0RVh0U29mdHdhcmUAbWF0cGxvdGxpYiB2ZXJzaW9uMy4yLjIsIGh0dHA6Ly9tYXRwbG90bGliLm9yZy+WH4yJAAAgAElEQVR4nOzdeXhcdb348fdn9sxkbZo2bUrShqZ2bylhFRCoYuUWEGSpIm5w+1PBoly9igpcQL2iXq6gKOIVFe6VRXEBLtaLgIKPoKTYFkpLN9rSkDRp0mwzmf37+2OWzkxmkkmbSdLk83qePO2c9Ttnzjmf73qOGGNQSimlJhvLWCdAKaWUGgsaAJVSSk1KGgCVUkpNShoAlVJKTUoaAJVSSk1KGgCVUkpNShMyAIrI/SLSJiKv5bHsf4rIxvjfdhHpGo00KqWUGlsyEccBishZQB/wgDFm8TDW+wxwgjHmEwVLnFJKqXFhQpYAjTHPA52p00TkeBFZLyIbROQFEZmfZdUPAg+NSiKVUkqNKdtYJ2AU3Qd80hizQ0ROAX4AnJuYKSJ1wBzg2TFKn1JKqVE0KQKgiBQDpwO/FJHEZGfGYmuAXxljIqOZNqWUUmNjUgRAYlW9XcaY5YMsswa4dpTSo5RSaoxNyDbATMaYHuBNEbkMQGKWJebH2wMrgBfHKIlKKaVG2YQMgCLyELFg9g4R2S8iVwNXAleLyCZgC3BRyiprgIfNROwSq5RSKqsJOQxCKaWUGsqELAEqpZRSQ5lQnWCmTp1qZs+ePdbJUEqpY8qGDRsOGmOqxjodo21CBcDZs2fT1NQ01slQSqljiojsHes0jAWtAlVKKTUpaQBUSik1KWkAVEopNSlpAFRKKTUpaQBUSik1KU2oXqBjIRo17OnwcqDHz/RSF7MrPVgsMvSKSimlxpQGwKMQjRrWb2nlhkc34g9Fcdkt3Hn5clYtqtYgqJRS45xWgR6FPR3eZPAD8Iei3PDoRvZ0eMc4ZUoppYaiAfAoHOjxJ4Nfgj8Upa3XP0YpUkoplS8NgEdheqkLlz39ELrsFqaVuMYoRUoppfKlAfAozK70cOfly5NBMNEGOLvSM8YpU0opNRTtBHMULBZh1aJq5q87k7ZeP9NKtBeoUkodKzQAHiWLRaivKqa+qnisk6KUUmoYtApUKaXUpKQlQKXGCX2oglKjSwOgUuOAPlRBqdGnVaBKjQP6UAWlRp8GQKXGAX2oglKjr6ABUETuF5E2EXktx/yzRaRbRDbG/25OmbdKRN4QkZ0i8qVCplOpsaYPVVBq9BW6BPgzYNUQy7xgjFke/7sNQESswD3A+4CFwAdFZGFBU6rUGNKHKig1+graCcYY87yIzD6CVU8GdhpjdgOIyMPARcDrI5c6pcYPfaiCUqNvPPQCPU1ENgFvA583xmwBaoC3UpbZD5wyFolTarToQxWUGl1jHQBfAeqMMX0icj7wW6BhOBsQkbXAWoDa2tqRT6FSSqkJaUx7gRpjeowxffH/PwXYRWQq0Awcl7LorPi0bNu4zxjTaIxprKqqKnialVJKTQxjGgBFpFpEJP7/k+Pp6QBeBhpEZI6IOIA1wONjl1KllFITTUGrQEXkIeBsYKqI7AduAewAxph7gUuBT4lIGOgH1hhjDBAWkeuAPwBW4P5426BSSik1IiQWbyaGxsZG09TUNNbJUEqpY4qIbDDGNI51OkabPglGKaXUpKQBUCml1KSkAVAppdSkpAFQKaXUpKQBUCml1KSkAVAppdSkpAFQKaXUpKQBUCml1KQ01g/DVkqpgolGDXs6vBzo8TO9VF8xpdJpAFRKTUjRqGH9llZueHQj/lA0+ZLhVYuqNQgqQKtAlVIT1J4ObzL4AfhDUW54dCN7OrxjnDI1XmgAVEpNSAd6/Mngl+APRWnr9Y9RitR4owFQKTUhTS914bKn3+JcdgvTSlxjlCI13mgAVEpNSLMrPdx5+fJkEEy0Ac6u9IxxytR4oZ1glFITksUirFpUzfx1Z9LW62daifYCVek0ACqlJiyLRaivKqa+qnisk6LGIa0CVUopNSlpAFRKKTUpaQBUSik1KWkAVEopNSlpAFRKKTUpFTQAisj9ItImIq/lmH+liGwWkVdF5K8isixl3p749I0i0lTIdCqllJp8Cj0M4mfA94EHcsx/E3iXMeaQiLwPuA84JWX+OcaYg4VNolJHTt82oNSxq6AB0BjzvIjMHmT+X1M+vgTMKmR6lBpJ+rYBpY5t46kN8Grg9ymfDfB/IrJBRNbmWklE1opIk4g0tbe3FzyRSiXo2waUOraNiwAoIucQC4BfTJl8hjFmBfA+4FoROSvbusaY+4wxjcaYxqqqqlFIrVIx+rYBpY5tYx4ARWQp8F/ARcaYjsR0Y0xz/N824DfAyWOTQqWy07cNKHVsG9MAKCK1wK+Bq4wx21Ome0SkJPF/4Dwga09SpcaKvm1AqWNbQTvBiMhDwNnAVBHZD9wC2AGMMfcCNwOVwA9EBCBsjGkEpgO/iU+zAb8wxqwvZFqVGi5924BSxzYxxox1GkZMY2OjaWrSIYNKKTUcIrIhXviYVMa8DVAppZQaCxoAlVJKTUoaAJVSSk1KGgCVUkpNShoAlVJKTUoaAJVSSk1KGgCVUkpNShoAlVJKTUoaAJVSSk1KGgCVUkpNSnkFQBF5Zz7TlFJKqWNFviXA7+U5TSmllDomDPo2CBE5DTgdqBKRG1JmlQLWQiZsLESjhj0dXg70+Jleqk/2V0qpiWyo1yE5gOL4ciUp03uASwuVqLEQjRrWb2nlhkc34g9Fk+92W7WoWoOgOmqauVJq/Bk0ABpj/gz8WUR+ZozZCyAiFqDYGNMzGgkcLXs6vMngB+APRbnh0Y3MX3cm9VXFY5w6dSzTzJVS41O+bYD/LiKl8bezvwa8LiJfKGC6Rt2BHn8y+CX4Q1Haev2jnpZo1LC7vY8Xdx1kd3sf0ejEeWfjZJQrc7WnwzvGKVNqcss3AC6Ml/jeD/wemANcVbBUjYHppS5c9vTD4bJbmFbiGtV0JEoL59/9Ah/88d84/+4XWL+lVYPgMWw8Za6UUoflGwDtImInFgAfN8aEgAl1R55d6eHOy5cng2Cimmp2pWdU06GlhYlnvGSulFLphuoEk/AjYA+wCXheROqIdYSZMCwWYdWiauavO5O2Xj/TSsamo8JgpQVtizw2JTJXmW2Ao525UkqlyysAGmPuBu5OmbRXRM4pTJLGjsUi1FcVj2mgSZQWUoOglhaObeMlc6WUSpfvk2DKROROEWmK//0HoNnXAhgvVbFqZCUyV6fWT6W+qliDn1LjQL5VoPcT6/15efzzVcBPgUsGW0lE7gdWA23GmMVZ5gtwF3A+4AM+Zox5JT7vo8BX44t+zRjz8zzTekzT0oJSSo2OfAPg8caYD6R8vlVENuax3s+A7wMP5Jj/PqAh/ncK8EPgFBGZAtwCNBLrbLNBRB43xhzKM73HtPFQFauUUhNdvr1A+0XkjMSH+IOw+4dayRjzPNA5yCIXAQ+YmJeAchGZAbwXeNoY0xkPek8Dq/JMq1JKKTWkfEuAnwQeEJGy+OdDwMdGYP81wFspn/fHp+WaPoCIrAXWAtTW1o5AkpRSSk0G+fYC3QQsE5HS+OdxMwTCGHMfcB9AY2PjhBqbqJRSqnAGrQIVkRtE5OrEZ2NMjzGmR0SuFpHPjsD+m4HjUj7Pik/LNV0ppZQaEUO1AV5J9g4sDwKfGIH9Pw58RGJOBbqNMS3AH4DzRKRCRCqA8+LTlFJKqRExVBWoLf7YszTGmGB8CMOgROQh4GxgqojsJ9az0x7fxr3AU8SGQOwkNgzi4/F5nSJyO/ByfFO3GWMG60yjlFJKDctQAdAiItONMQdSJ4rI9Hw2boz54BDzDXBtjnn3Ext/qJRSSo24oapAvw38r4i8S0RK4n9nA08C3yl46pRSSqkCGeqFuA+ISDtwG7CY2KD0LcDNxpjfj0L6lFJKqYIYchhEPNANGuxE5EZjzL+PWKqUUkqpAsv3STBDuWyEtqOUUkqNipEKgPqkZqWUUseUfB+FNhR9AotSIyAaNezp8HKgx8/0Un0TiFKFNFIBUK9QpY5SNGpYv6V1wJvjVy2q1iCoVAGMVBXoL0doO0pNWns6vMngB+APRbnh0Y3s6fCOccqUmpjyKgGKyBzgM8Ds1HWMMRfG//1GIRI3lrQqSo22Az3+ZPBL8IeitPX69d2QShVAvlWgvwV+AjwBRIdY9pinVVFqLEwvdeGyW9KCoMtuYVqJawxTpdTElW8VqN8Yc7cx5jljzJ8TfwVN2RjSqig1FmZXerjz8uW47LHLMpHxml3pGeOUKTUx5VsCvEtEbgH+DwgkJhpjXilIqsaYVkWpsWCxCKsWVTN/3Zm09fqZVqJV70oVUr4BcAlwFXAuh6tATfzzhKNVUWqsWCxCfVWxZrSUGgX5BsDLgHpjTLCQiRkvElVRmW2AWhWllFITR74B8DWgHGgrYFrGDa2KUkqpiS/fAFgObBORl0lvA7ywIKkaB7QqSimlJrZ8A+AtBU2FUkopNcryCoATeciDUkqpyWnQACgifzHGnCEivaQ/8FoAY4wpLWjqlFJKqQIZ6o3wZ8T/LRmd5CillFKjY1gPwxaRaSJSm/jLc51VIvKGiOwUkS9lmf+fIrIx/rddRLpS5kVS5j0+nLQqpZRSg8n3YdgXAv8BzCQ2FKIO2AosGmI9K3AP8B5gP/CyiDxujHk9sYwx5nMpy38GOCFlE/3GmOX5fRWllFIqf/mWAG8HTgW2G2PmACuBl/JY72RgpzFmd3wQ/cPARYMs/0HgoTzTpJRSSh2xfANgyBjTAVhExGKMeQ5ozGO9GuCtlM/749MGEJE6YA7wbMpkl4g0ichLIvL+PNOqlFJKDSnfcYBdIlIMPA/8j4i0ASP9aoQ1wK+MMZGUaXXGmGYRqQeeFZFXjTG7UlcSkbXAWoDa2ryaJZVSSqm8S4AXAf3A54D1wC7ggjzWawaOS/k8Kz4tmzVkVH8aY5rj/+4G/kR6+2BimfuMMY3GmMaqqqo8kqSUUkrlPxA+tbT382Fs/2WgIf5G+WZiQe5DmQuJyHygAngxZVoF4DPGBERkKvBO4FvD2LdSSimV01AD4TMHwCdnkcdAeGNMWESuA/4AWIH7jTFbROQ2oMkYkxjasAZ42BiTuq8FwI9EJEqspPrN1N6jSiml1NGQ9JhzbGtsbDRNTU1jnQyllDqmiMgGY0w+HRsnlEHbAEXkJBF5X5bp7xOREwuXLKWUUqqwhuoEcweQrdrxdeDbI58cpZRSCdGoYXd7Hy/uOsju9j6i0YlTYzceDNUJpsQYszdzojFmb7xjilJKqQKIRg3rt7Ryw6Mb8YeiuOwW7rx8OasWVevLuUfIUCXAikHmuUcyIUoppQ7b0+FNBj8AfyjKDY9uZE/HSA/BnryGCoB/FJGvi0gyuyExt5H+xBallFIj6ECPPxn8EvyhKG29/jFK0cQzVBXovwD/BewUkY3xacuAJuCaQiZMKaUms+mlLlx2S1oQdNktTCtxjWGqJpZBS4DGGK8x5oPE3ubws/jfecaYNcaYvsRyIjLoWyGUUkoNz+xKD3devhyXPXabTrQBzq70jHHKJo58nwSzG9g9yCIPAitGJEVKKaWwWIRVi6qZv+5M2nr9TCtxMbvSox1gRlC+D8Meiv4iSik1wiwWob6qmPqq4rFOyoQ0rDfCD0IHpyillDqmjFQAVEoppY4pIxUAgyO0HaWUUmpUDPU2iEE7thhjXon/e+pIJkoppZQqtKE6wfzHIPMMcO4IpkUppZQaNYMGQGPMOaOVEKWUUmo05T0MQkQWAwuB5GMIjDEPFCJRSimlVKHlFQBF5BbgbGIB8CngfcBfAA2ASimljkn59gK9FFgJtBpjPk7seaBlBUuVUkopVWD5VoH2G2OiIhIWkVKgDTiugOlSKi/RqGFPh5cDPX6ml+qjopRS+cs3ADaJSDnwY2AD0Ae8WLBUKZUHfWGoUupo5FUFaoz5tDGmyxhzL7E3Q3w0XhWq1JjRF4YqpY5GXgFQRJ5J/N8Ys8cYszl12hDrrhKRN0Rkp4h8Kcv8j4lIu4hsjP9dkzLvoyKyI/730Xz2pyYPfWGoUupoDPUkGBfgBqaKSAWH3/pQCtQMtXERsQL3ECs17gdeFpHHjTGvZyz6iDHmuox1pwC3AI3EBt1viK97aOivdWzRdqwjoy8MVYWk1+XEN1Qb4P8DPgvMBF5Jmd4DfD+P7Z8M7Iy/TxAReRi4CMgMgNm8F3jaGNMZX/dpYBXwUB7rHjO0HevIJV4Ymnns9IWh6mjpdTk5DPUkmLuAu0TkM8aY7x3B9muAt1I+7wdOybLcB0TkLGA78DljzFs51h1Q6hSRtcBagNra2iNI4tjK1Y41f92Z+g6wIegLQ1Wh6HU5OeQ7DvBHIrJORH4V/7tOROwjlIYngNnGmKXA08DPh7OyMeY+Y0yjMaaxqqpqhJI0ekaiHSsaNexu7+PFXQfZ3d5HNDp5Xs+YeGHoqfVTqa8q1uCnRoS2L08O+Q6D+AFgj/8LcBXwQ+CanGvENJM+XnBWfFqSMaYj5eN/Ad9KWffsjHX/lGd6jxlH246lVTVKjTxtX54cBi0BikgiQJ5kjPmoMebZ+N/HgZPy2P7LQIOIzBERB7AGeDxjHzNSPl4IbI3//w/AeSJSEe+Ac1582oSSaMdy2WM/xXDbsXQogFIj72ivS3VsGKoE+HdgBRARkeONMbsARKQeiAy1cWNMWESuIxa4rMD9xpgtInIb0GSMeRxYJyIXAmGgE/hYfN1OEbmdWBAFuC3RIWYiOdp2rMGqarStQqkjo+3Lk8NQATDxa38eeE5Edsc/zwbyGghvjHmK2AO0U6fdnPL/G4Ebc6x7P3B/Pvs5liXasY4kYGlVjVKFcTTXpTo2DNUJpkpEbgCWAz8Cno3//Rg4ocBpU3nQqho1mMncQUqpoQxVArQCxRwuCaauV1KQFKlhWzijhJ9//GR8wTC1UzzMmapVNUo7SCk1lKECYIsx5rZRSYkatlw3uDlTtfSndCybUkMZqgpUs4njmPYAVYPRsWxKDW6oALhyVFKhjoje4NRgEh2kUmkHKaUOGzQATsRhB8eiXB0Z9AanBqMdpJQaXL5PglFjZLCODPowaDUYHcum1ODEmInTLbqxsdE0NTWNdTJG1O72Ps6/+4UB4/yeindkSLyyRW9wSqkjJSIbjDGNY52O0aYlwHFgsPeODfWkl6EG6+o7zZRSKjsNgGNsqLFaR/OkFx0HppRSueX7OiRVIEMNZTiajgw6TEIppXLTEuAYy6eK80g7MuiDsrUKWCmVmwbAMZZPFeeRPpR3sj8oW6uAVb40ozQ5aRXoGCvkWK3JPg5Mq4BVPhIZpfPvfoEP/vhvnH/3C6zf0qoPDp8EtAQ4xgo5Vmu8jgMbrdy2VgGrfOgzUycvDYDjQCHfOzbe3mk2mtWSk70KeKIbqYyUZpQmL60CHacm6nvcRrNacrJXAU9kI1ltqY8UnLy0BDgODVZKAsa0sf5oc92jmdtOrQLu9AawWy34ghH2dHjHRVWwOnIjWW2pjxScvDQAjkO5Lu53fOZM3jjQO2a9Go+2+jIaNYQjZlSrJS0WYXalh22tY3fc1MgbyYzUeG0rV4WnVaDjUK6Le1/n2PZqPNrqyz0dXr76u1dZd25DWrXkHR9YOuzc9nCqiLU36MQz0tWWibbyU+unJsffqolPS4DjUK7OG26HbUwb6482132gx8/ejn4efGkvV59RjwgYAzXlrmHdcIZbEtVODsemwarbh1ttqeP8VDYFD4Aisgq4C7AC/2WM+WbG/BuAa4Aw0A58whizNz4vArwaX3SfMebCQqd3PMh1cU8vdY5pr8aj7VWZWL+l2889z+1Mrv+BFTXDSsdw23+0N+j4M1RAGiqTM5xqS30ggsqloFWgImIF7gHeBywEPigiCzMW+wfQaIxZCvwK+FbKvH5jzPL436QIfnC4TeKpdWfy8NpTeGrdmaxaVE3tlNHv1Zha1WgRjmr/I9Urc7AS3XD2axEGVKFO1N6340k+PTjzqbbOt9pSq8BVLoUuAZ4M7DTG7AYQkYeBi4DXEwsYY55LWf4l4MMFTtOQxkN1Sa7xe6PZWJ8t5/z9D53A/37mTNr7hr//kepsMNwSXeZ+q4pdvNnRx6q7XkgrEZy3YDr/t/WAlhQKLJ8S/EhWW2sVuMql0J1gaoC3Uj7vj0/L5Wrg9ymfXSLSJCIvicj7s60gImvjyzS1t7cfdYLH+2ORRrOxPtuN6rpf/AMRjnj/I5H+IylJpu5XBK77xT8G3IC3tHQXvKSgJcz8SvAj2clFx/mpXMZNL1AR+TDQCHw7ZXJd/C3FHwK+KyLHZ65njLnPGNNojGmsqqo66nRodclhw61qHC25qojzDaa5vldLd2G/73jPXI2WfALSSD7EQB+IoHIpdBVoM3BcyudZ8WlpROTdwFeAdxljAonpxpjm+L+7ReRPwAnArkImWKtLDhvPnUeO5hFvub7XjLKign5ffeZkTD49OEdybJ6O81O5FLoE+DLQICJzRMQBrAEeT11ARE4AfgRcaIxpS5leISLO+P+nAu8kpe2wULS65LCJmnPO9b0WzSgt6Pcd7RL1UNWtueYXupo23xL8SFb36zg/lY0YU9jqFxE5H/gusWEQ9xtjvi4itwFNxpjHReSPwBKgJb7KPmPMhSJyOrHAGCUWqL9rjPnJYPtqbGw0TU1NR5Xe8dRlejx0xkmkYaLlnHN9r0J+393tfZx/9wsDSphPFaAEONR5nGu+dgTKz3i4NkeSiGyINzdNKgUPgKNpJAIgjI+b/mgH4ol2QY9Ho/mbDhVsc81/ZO2pXHHfS6MSpI9V4ymTPFImawDUJ8FkMR5eITSa7UUT8YIej0azLWqotuxc89861D9mbeDHSiZM23InjnHTC1Sly7e9aCTaa7Tn6+gZrbaoodqyc803hjFpAz+aHrKjPbRkvPaOVsOnAXCcyqczzkh1qz9WL+jMG184HC3YjXCwm+x4HNs3VAembPPXndvAj5/fNeBh5YXo+JR5zN48eGSZsLEYWqId5SYOrQLNIrUqZkaZi0gU2noLUy2Tq9onn67iI1UVM56HO+SSWW1bV1nEZ85t4Ku/fW3Eq3GHej9joauPj6RqcKjq1tT52w/08mpzDw++tJeWbj/tfUGuPqOepTWlNEwvKcg5n3nMvnPpsiOqeh2L6kh9f+DEoQEwQ+rFWeF28JHT6rjrmR0FubnletTYnMpi2nr9LJxRMuhjx0ZqzOKxeEFn3vhWL61JBj8Y2RvhYDdZoKA34KNpnx2qLTsxH+Czjxz+Di3dfn7yl90F6/iS7XjuaOs9okxYocbtDpbp0HGFE4cGwAypF+clK2Ylgx8cvrktvP5MooajbqzPvBFUuB3sONCXfEzXUDe7kSq5ZV7Q1aWxUu/f3uwYtc4Iwy3lZN74RChY543BbrLGFG6/MDolnNHOAGU7no827ecbFy/hy795dVhpyHYN1FUWUWS38uKug0d0/uaT6RgPHeXU0dMAmCH14sx2U61wO3hlX9eAC/VISoWZN4IrT6nNGnBz3exG8saVuKBnV3pGvUfokZRycgX/QlTjDpXRKGT18Wg8mchiEd79jmn899Wn0NrjZ0apiyUzywYc+2yZFGDY1bPZjuchX5AVteU8NcxSVeY1kKgKTwzlOJLzN1um4471W6kpd+ELRsZ1D1U1PBoAM6RenEV2S9qFOqPMxVfOX8Dnf7VpRHLkqfuaUeZieqlr2De7hTNK+PnHT8YXDFM7xcOcqUd3YeZT4hjp7upHUsrJvPE9samZr71/8YA2wJEoxQyV0Shk6Wk02mfD4SiPv/p22rH72vsX8/5lNdhssc4euarrg2Ez7MxSruNZO8WTzIjle45l1l4U2a1p4xiP5PrMzHTMKHNxRWPtUQVVNT5pAMyQuDjvWL+VYoeN61c2cNczO5LtgdvberMGqU5v7BGmwwkKqTeCS1bMYv8hX943u1ylpjlT87vxZt5gaivc7DvkY/uB7N8vEYQLMWbwSEo52dphaivcrKitSCtBQGxQ+NEE66HafArZHjQa1ZNbWroHtJ9+9bev0TCtmGXHVQDZMymb93dz3/O7hywpJdZP/Q0GO2b5nmOZ5/DJsyv525sdR1xiTmzPIpJ2HV6yYhZ3P5t/zYw6dmgATJG4AKpKHPzHZcv58E/+RoXbwdVn1DO/uoQv/GoT15xZn7XNobnLz4d/8vdhBYXMnni3PvE6685tSF5sLruFb1y8JOvNLnFDqnA7uGTFLETgjdYeFs4oYfbUoS/0zBvM196/mO89u4MLltUMGoQLUUI80lJOtnaY1M8jGawHa/MpZHvQaHS4yPUWjNZuP8vij7LPlkmJZrR/ZispDVZKzHXM8j3Hsv2275hWfETnUur25k0r5pYLFnHrE1vwh6JYLUO38x4rg/hVOh0HGJc6nuiye1/i+R3t+EOxV+Tc89xO3oiXjB7bsH/AOKmvX7yELz62ecAFm89A8sTNc970Eg75gjz40l6uPqOe686dy9qz6llRW571QjrQ46fC7eCqU+v4yV928/1nd/Kj53fzyr6uIcdAZbvBfPW3r7F6aU3W75da4hhqzOCRjMsaqYdu5zu27M2Dwx/gP5wHR4/0uMBCD55PvAUjlctuobrscNDINvbNKumD5rOVlDbvH/47FvMZl5qrnW5Hex/Xrxz+OMbU7Z05bxr3/nln8jpsmFYy6Lg/fc3VsUtLgHGZF1TUZO/c0NLtTwYpqwXOWzidPQd9R91RIbWq657ndqa1i2SKRg1uh43LGgfecL78m1dZflx52n4zc6e5bjAipH2/bOPAMktrM8pcXNY4C18wwu72PiySe1jA7EpP1lzySJRyhjO2bNuBHiD/sZ3Ztn3HB5ZSO6WIfZ393Pn0G6xeWoPVAqfXV9LhDfEvvzx2Hiu3aEbpgPbTr71/MYtmlCWXyVYVu2RWWdq0bCWlzFIiDH1t5FMjkO0cXr20hs8+sjFZayMCFom1kw917DM7v+3t6Oee53YCsUHDTmgAACAASURBVHM8s2YmNajqo9GOXRoA4zIvqERJKHHSp3aySIyTuvPy5RTZbUc8hilVvkEgcTO+Y/1WrjunIa+qmcyb94+vasyaXo/DyrXnzEUklrt/R/XA6tTUG2G2cZLfuHgJFW4HLd3+tDR1egNsa+3NWR15pNWIieC+p8PLG609yX37Q7nHllkQ/ul7L+QdoLLd4L742Ga+dekyHnzxTdaedTy3P/l6cn5mu9hIDp0pBJvNwvuX1dAwrZjWbj/VZS4WzShLdoCB3OcnkNIBxZb23SF2HtVVFrF6aQ0S/7pPbGoe9NrIFmy//6ETMIbk0IZpJbEgOW9aMdecdTz9gTBupy2t1ibh9OMrh2wWyAy6qf9v6fbzSNM+Hll7Kv2hyIBrM1eGMrNfQKKdPfMc0OrTsaMBMC7zAsh20ic6WXR6A9itFnzBCHs7vTzatD/vtrvBpA5F2NPhZcO+TorsVryBCN5gmLp4aTBxY2jr9Q8ZeLNWd/7uVe74wNJkta3LbuHbly5NBvbEtHdUlyZ75qWmMXEjbO8N8NGf/n1ACXTtWfXc/czhG1BdZREgbGvt4Zoz63lsw35auv1HlUuORg1vHvSytaWHHW29PNq0n0O+IOvObeDBl/bGj4WV2y9azE2/i5Vs6iqLuGn1Ira1pKcj0XEjGIniiP+uqTeiXDe4YDjCJ844fkDNQeay+Q6dGcsbocUilBXZ8YeidHiD7O30pfUoHixtiYxLNGoGBK4VdeUcN8WdVrr89qVLiUZNznF62calvt7Sm5Zp+f6HTuBHV63g7a4A/xrvlX39yrlHnBFNDbqPbdif7PyW2N8XVy1gSU325ohcYxFT+wU01pXxwVNm85WMc0BfPzW2NADGZct1ZjvpZ1d60koy16+cm9Z2l6h2ydV2N5Ro1PDsGwfY3dZHZYmTtp5A2oX4H5cdrtb775f28bl3z+M//7h9QNVM4oaVrVfn3o5+aspdyTFXVcUuvMEQX/jVwHbMmrWnDggIiUCdKzA0pHRESIzL+vBP/pZMYyJItXT7j6j3bLZSbWKbdz+7g+vOmYtFhLue2cFn393A2rPqcTuslLjsXPeLV9LWWf9aC6sWz2Ddw//gisbatExM4qk8mb0CIXZjrSpxsmHvoQHH4EiGzoTDUf73tZa0TMkdH1jKzHIXlR5nQR/BN6PMxc72PnYc6Mv61CPI/ri38xZMH1CiyQxc3b4Q/+/BV5LfvcLtYP+h/uS5luuGn1ojsLu9jzvWb01eXwC3P/k6d162nFufOLztR5tigevhl/ex5qRajq8qpshuZc9BL8Yw6BChbEH3vIXVHPIdzuzu6fBm/R2y3Ttuv2gJax9swh+KDXHKzCglzoFH1p467CaDzN9PS41HTgNgnMUinLdgOo+sPZWWbj8zyopYNKN0wEmVWaJ6tGk/N7xnHnc+vZ17nttJXWURt1+0hJZuP1HDgBMzGjXs6/RyoCeANxhmTqWHqDncHiXAjgN99Ici9HX4uO/53cmeniUuKy67Nb2qxmZh7Vn1RE0s8DpssSqVRK4yW69Vl93CFI8zbeD77va+rMHsmW1t3P3Mzqw3qlxtNfsP9XPfVY3YrYLHYeXyjHFZdz+7gx9ddSLdviBvHTqcS66rLOKblyzFIpIs8SaGdaQes0q3Y8BN4+5nd3D1GfXc89xOqoqd3BLvwffU5hY+efZcev0h3u7qT6sivfvZHXzr0mX86682cfUZ9WntqfOmFRMKG363qRmnzcKX3zefb/x+W1rw3Hmgj6iJ5fbXnFRLfVUxbruF2imLufl3rw0YOrO0ppRrz23AbhFCUUO3L8jfdncQjESIRBnQkeqLj23m6jPqk9Xtqcf+aG6AmRmIdSvnAtmrbnM97u3+v+wiEIpwY5ZSbep5tb/Tmxa4PA7rkA97yPxuHd7AgMzJunMbaM3IgLV0+/n9qy184b3z6ewLsKu9j4df3sfqpTVs3N/FSXVTOK2+Mq1qN1Vq0E1cp/s6+4csuWerHk50UrtkxSzmV5ewrbUnLa0zylxcsmJW8vVTic+J49TTH2T9ll7uWL812b6cSL/FIvr6shGiATAuNWhkywEnLkiLyIA2LqfVklbKSOT8Mrfx5kEv21p7sFiEb/5+K8GwGdCGdt9VJ3LXMzu45sx6ih22ZE/PRMnmtie3JKtbL1kxi39fv21AAErNVWa2ZeZqwP/2pcuyBrNI/GO2G1W2nO+6cxt44MW9OGzC3WtO4O0cXew37D1EJEqyynVGmYtPnD6HHQd6OegNEjWw6a0uVtSVE4qYtNLJupVzs25T4r0Sq8tdyW2uWjwja0kxEQTDkWhy3dRS25qTa/lcynq3XLCIu9ecgNUCIsKtT2zhgmU1bG/t4tYLF9PrD9HRF+D6J1+nwu3ghnc3sGRWOS/u7qBhWgmXnziDdzZMY3f8pvyJ0+ewuz32nRIdqrJ9J6fNwtVn1LOttYea8iKW1MQ6phzpDTAaNbza3DWg2jaxv4QZZS4+clodzV399PpDacfmU++qZ9YUNz94bgd3rTkBt91CFOjoC/La290snlnGng4vd6zfyqfeNZc7/7glmc7bLlyUtY14sHGmP/3YScnzNxEobBaoKnEmz9nE9AXVJWw/0AvA7zY2Dwicd3xgKRcsnZlXp6dtrT1pGdDMoUbZMiGJa8MiJK/tT589N5lRWr20hhJX7D5x+5Ovc82Z9dRVFiXTWeF2cFnjLLr9Ye5YvzVr+hfNKM1aanzHZ87k+Gna6WY4NADGJS7Y1NzqHeu3Mq3ESXNXfzJ3XldZxM2rF7KjrY9gJIrHYU0GoWvPmct3/3g4d1vhdrCttYcpHhut3UG+9OvD1T63X7SYmeUurv55U9qJ3JoSMBbNLE329KxwO5he6mJvR3+yunXeNA9Xn1GP02ZhzlQPzV0++gIR2noDyW3k6tUJsQHiO+Olkz5/kO9/aAWb93cRNbGOClc01ibb0xLpS+1gY7EIC2eU8J1Ll7HtQC/GkFw+MR4sV2B9x/QSiuxWfh2/GV6yYhZWC0wvLcLttFHpcSS7nm/Y25lWOsnVQ9fjsHLDe+Ylj3G2bvmpJUWX3cKs8sNDABI3qOXHlfGZh/6Rtt6tT2zhunPm8o7pJfzo+R18+fyFVHpszK708Mn/3pAsqSXWCUfh4z97OXnOfOPiJfztzdj3uPqMenyhSDKgi4DTZsn6nRZUl/Dq291EDTy77QBd/QHKXY6c7amp1WZuh41gJJKsQgWSN/bMYJsY0pAIJp88q55AJMo/P9CUvEmvOamWaaVO3HYbbx/yceUpsznQ3Y83GEmWtPZ0eOn2hbCKcNWpdfxbvCSeOI43P75lQBtxajtd6tCVRFBr7upPlqCvOLmW+57fxRWNtXxr/VZuWb2Ie5/fyRWNtTzStI85UxuIGnBYLaxeWjPg9//iY5tZUlM2oHoxtYOKx2FN1p7Mm1bMFSfXJjs51VUWcdKcKXT0BXmzw8dXfzuwTW/fIR8H+wLJB2g0TCvmJ3/ZxSfPmsutT8bOo8T2Htuwn5tWL0x2Kktkdq85s35A+ivcDna19+GwHf6dPnJaHbMq3PgCYdr7/Ef9JKjJRgMgsRxfc5cveRElqhy+tGoBERNNBr/EQN/UksFtFy7itDlTWHNyLcGI4duXLuPXG97i5PpKSovs3Pf8LpbMLEsGP4hdiDf97jV+eOWKAdUfU+I3/i37u1haU8ZxFW78oWjak2Jauv38+pVYe0dqp5V15zbwxKZm5kz1UFdZRDBsklWn9VOL8TitNHf58AXCbG/r48u/eZU7L19GXWURNqs1rX3s9osW88jLe9Ny6nWVRdgsFta/1sKMsiIWTC+JlWoP9PJfLxy++V97ztzkhdsfCg3oYn/De+bxtf/dyiFfkOtXNvD7V1uYX11MIBzlMw8ffhD49SsbYjdchzXtOE0rcQx4cPL1KxuoLnMRCkX4xlOvc+Oq+bji66VKLSmuO7eBQ74gN7xnHv+3pYXPrpxHe6+fULxUmLnerIoigpEoFyyt4UB3P8a4+OpvX6XC7WB+dQmfPnsuC2eUUOq285GfHO4ctHppDfsP9Sc7yJS4rFR6nMn5RXYLdoukddhx2S382wWLaOnu53cbm1m9tIaqEgcH+w63qSVKptVlTopsFjq8AV7Ze4ivpmxj3bkNPNK0j5tWL6TK40yrFk+UbIqdVmqnuLn1wkXc8vgWLlkxKy1AP/9GG5999zyKbFZeb40NITmxroINew8Bh0taiWtna0s386pLqS4tynoc50z1JINtInDMKiti01uHeLvLnwx2H33nbDp6A1SXuqirLOKTZ8/lhkc3plVXlzhbkh26rn3X8VS4HXT2BTiu0sPWlsOBPvUa6/WHeGLz29z59Btc/c452Kzwj7e6uPuZ7aw5qZYZZbF0FzutfOrsuXwupcfztFInr+7vpj8USWbKEoHIZhF+t+ltvvLbV7nmzHr8oShXnlLLN9dv5YurFiSDXOojD1u6/exs60te46kBL7VWYEaZi6tOrePZba2cPHsKdZVFfOL0OfhCEb4Qb1/WqtDhm/QBMFHd4bAKjzTtG1Dl8PWLlzBvWjGbm3v4yGl1OG0Wvn3pMjwOK6Go4bENe/mnZTO5/pHDQfHWCxfhtMKXfrOFz583j+6MKqTEhWgR4bYLF1LsslPqslHsstHeG+DeD69ARHDaLLTHe3o6bRb++HorN61eyO1Pvs6n33X8gNz1I037+Jfz5rOzrZdvXrKUtzq9BMNRSuM5x2e2tvLBU+rw+iN8+TevMm9arINH4uLMDNDf/9AKrvvFK8mLf2ZZES/saE/2uPz6xUsoddmo9Nj5/odOYFtLL3WVHsBQ4XZw4/vmETHCd/+4PVnNt6C6lN7+IFXFsZuvVeDG8xfQ3R9iZ1tfWhvdXc/sYO1Z9cybVpKsJnp2WyufPmculR4H9111Ip3eEFM8dn76lzd58c1O1p5VT5nLzvQyJ+VuR87S59Vn1PNIU6yzhNtu5dNnz+WNA33MKHVQkbFeYqyjy26l3G3nkDdAVUkRXf1BPnPuXEpd9rSb0Nfevzj5PWaUuZhfXQLA/OoSzls4laWzyvnb7g5cdgunzZnC3GnF9AejFDks3P/RRg70BCh323HYLHz5N69y7buOp7TIgcth5ZP/vSHtd7r3zzv594uXcKA3SJHdyveeG1ji/cGVK+jyhdjW0su8acUsqSnjriuW4QtFefOglykeO1OLHRzsDbD2rHpqp7iJRAynzZnCp849HqfVyqa3uoi6wGaxEIxEaesJJKtO/99Z9XT3h7l+5TwcNgslTivfe3Y761bOy3r8D3mD/PDDKyh12bBbY8NSntvRhiCUu+18/rx5nFBbTvMhHy67lUg0ypdWLWBXvJ26JD7cIVYiPI623gBrTqqlwuPkh3/awXXnzuOWx1/jpn9amBwqkSg5rjmplva+IHc+/QbXnTMXm9XCwd4Qf3itmevOaSAYjvDmwT7qKouom+LhrU4fFW4HnzyrnspiJ28d8iWbKBLB77Mr59LpC7ErXqV92pwpnNUwlSc2NVNX6WZvRz/7OnwDMrKJ9RumFyev8cS0acUOjpviTtZKLJ5Zyk/+sosPnzobm1W4ZfUi9nR4k6XM4T4NSsWIMYV9WoGIrALuAqzAfxljvpkx3wk8AJwIdABXGGP2xOfdCFwNRIB1xpg/DLavxsZG09TUNKz07Wrr4471W7i8sY63u/qpLiuiyG5BRPAFI5S4bPiCYUpddlp6+vnXXx0uddy8eiEzy13sbvficdhwO200d/l46O/7+M6ly/AFIwTDUWZNcdHdH6ajL4jHaeOWx18jGDZc1jiL2ZWx3PD+Th8N00socdlo6fZTU+EiHIG23gAzy1wEwhE6vSFqyp1Ul1p57W0/1zywIRlQU9sVEun794uXMLPCxSFviNIiGy6blcpiC293hTnYF2B6qYvu/iBFdhtf+NXmtNIewE8/diJ2q5Uef4gDPX6sIkzxOLFYhOmlDvzBCFEjHPQGmF7qxBeMUFZkJxCK4g2GKS2y86XHNhMMG648pZaqYicel40SpxWASBSMGNx2G73+EEV2G4FIhCqPE28wTF8gTIXbQY8/RJHDis0i9AcjuB02WntiOedEML7twsUsmFFM1ECvP4w3GMZtt+JyWNl7sI/WniDBSJQVtRU4bfBWp59ZU4pwWC0c7AtQWeykrduPzWrB47Ris1qIRA2BcIRDvjB3P7Od1UtrmFHqwO20p5U+v/Ded1Bst1Bd4aY/GKHYacNlt7DprW5mlhfxzfVbKXPZWXvW8RgM00td2CwGX9AQikbwOOz09IeocDuwWKCnP0wgHGVqsYP+UISOviC72vsoclj55u/fSP4+iVJBaobttgsX4QuG+fUrzbxvyQxmVbixWYQytw2P3UqnL4g/ZHDaBI/Tjj8Uxu2wccgXpMRlJxCOHd/+YAi304bDaqGlO0BpkY3+YISaCheBoMEbitDlCzK9xMXb3bFenYn2q7lVxcwsd2KzWNjb0c/ug7HfyWGL3bgjxuC2WylyWOn1hyhx2QlHI7R2B3ly836uPHUOh7whqstczJpiZecBP9GoEIxEKXfH0vTU5mYuOOE4evpDhCOG/mCEiDH4QxGmeBz876a3+dQ59fT0h3DYbGxr7aGsyMG0Eif9oQjd/WHKiuz0BcKUu20YI/QHQ7jsdlp7/NSUu7BIFLDS1hPAH45QXeakpz+M2wEVbid3PbOD61c2EAxHCUUN7b0hDnmDLJgZy1gWO6209Ybo7g9SXeriG09t5dpz5vLAX/fy4dPqmFnupC8QptRlwxeMEI7A53+1mS+fv4C5VUV4HLC9LUg4EiVqYtXkB3r9zKpw4QtE6QtEEMLUVHgIR4QD8Y50Noth+XGVwyoFisgGY0zjsG6eE0BBA6CIWIHtwHuA/cDLwAeNMa+nLPNpYKkx5pMisga42BhzhYgsBB4CTgZmAn8E5hljIrn2dyQB8NltrdRPddHli7Kvs58uXxB/OMqdTx8eWpCoRlpzUi0PvHi4WtBlt/DDK1fwqf95JS33Xz/VQ48/RHmRnUA4SltvABHhvj/vYntbH7ddsBCbzcKeDh9RE2t/qa1089Df9vKhU2Yzt8rD9rY+vvrbwz0JMweb10910+mNpdVhtRCKGLa19vDctjbOnDctOZjd47Dyjd+/gctu4VuXLiUYjvK9Z3cMKOnevHohD/99H5ubY1VcdZVFrFs5L23c0ncuW0ZZUfxm7bHT0RdM3vg+cloddZUePA4rb7T28NO/7uWQL8j3Pric3niJM9GGcssFiwhHYh083urs52tPbU07fkV2K//yy8MlqptWL+Q3r7zFhctqiBi4I97mGutxu5i+QAS3w0qF287Wlt5kydhlj/XerKv00Nrl47ipxRzsCzCtxEk0GiEQJhlku/pDVBbbwRiMEbr6Q7hsVowYfvjcTt6zcAa/+Pteblq9kM37u5Oln8c2xALwDz60gk+nlJaPm+LG47DGq1utHOwLsuNAbzIQ/NsFi9l/yMvUYhc/+csuTqmvYnali7rKYjq8QUqcNuxWYdNbXfQEIjyxKVZCOeQN8OTmFs6cNy35fNrMElaiOri12z/gvJlWauean8fO1/MWTuW9i2uSv3GsfXsRu9r6mFddTGtXP06Hjc6+IA+8tIfPnDOXRTWldPeHae0OMMVj579fepPG2VOZXmwnZCxpbWJfv3gJ4XCYH/x5N58/7x2EIoZf/G0PHzm9nv5gmNopRditFlq7A0wrdeINBunoi6Rt42vvX4zbbuWOP2zjshOPo6rESXWpixKXDWMMBih2WWnvDdHnD8dK/i4Lh3wRWnsCzChzsbfDx3fjGRirBZbNKqe5y0dHX5D51SV4gxG+9+wOPnH6HDp8QWwWC/VVHmwWobTIxu62Pio8TqIGKtx2KotteBxCjz+W0esPwiv7DuF2WDEGasqLmFnuxB82/P3NzmSb+pfft4CqEifd/UEqPA6sIrHMl8eB026hyAHeAISjUTr6gggWbn78NfZ29PPYJ08mYoTqMhsHuiN0+ULUVsbe27mz3cvOtr7kveT4acWcWFdGTXn+pUANgIXYuMhpwL8ZY94b/3wjgDHm31OW+UN8mRdFxAa0AlXAl1KXTV0u1/6OJAC+sreTvR0+7FYL29tivccyn2bhsluSnRwSHSgS1q2cO6BB//qVDVS67USQ5AN1XXYLt6xexP9taeHDp9WxPWPM1fUrG2iYXsztT77OF86bnxw3du05c9M6V6Tuw+OwDggIiYb21ODx/Wd30tLtZ93KuclOGNm2+Z+XL+e2J1/nkC+YrP5MrQbMDMQ3vGceT256m39aOjNtLOL1Kxtw26386Y02PnzabK6NbyezxJJIT2Y6snWSuPPy5Rzs9SeHIswoc/Gx02en7fem1Qu57/ld7O3oT0vzwy8PrNq+7cLFNO1pZ/bU0uT0xroyrjipLq0d7vqVDcyvLuFT//MK169soLQovZSd6FV6WeMsftm0f0CabrlgEff+eSd7O/px2S3cuGo+/nA0uUziN0t05EhNY+I43v/XN5NtbBctr2FGWRH3/nknH1hxHHc+vX3AOX3HJUto7u7Pemx/8KEVPPjiHjq8Qa5/97ycv01i/w+8GMvIfOX8BVR6bPQFYh1ZUqv7n9nawlWn1vPPDzYN2N93r1hOe28AYwyPb2rmAytq087PxD4cNuGWCxbx6f95Jeu5bhEZcI5Vl7mwiqE/ZLjl8S1pv+09f9rB3o5+1q2cm7U3aOJc+dKqBXzu0Y1cv7IBIO38TmR8P/muuWm/4Q3vmUd1mYsH/vomF684jtvjPX8zr4/U43fjqvkEIukZ69T5j6w9FYdN2HHAy7+mjAVNnF/3XbWCcDTK3g4/X/p1LNP5xVXzqZtSxEtvdg7Y72n1U1heO2Wo21/SZA2AhX4Ydg3wVsrn/fFpWZcxxoSBbqAyz3WPmi8YG8vkDYSJmtzPLkx0k5eUWoXUYQKpy05xx6rJbs1oo7v1yS187Iw59AejA8ZC3fXMDvzBKKuX1uANhJPzcr3pfIrbwUFvMBn8INbZInFzSSx3+5Ovc8mKWcDh75Zrm1tbe/jy+Qv49qXLYiXhlGUuWTFrQJrvfHo715x1fPLGlPpdOnxBPnbGHDbt70rOy2zkz3WsM58h7A9F2dbaw6x4h6DEtjL3e/uTr7N66eFTJJHmbL0Bb378Nd6/ojZt+kdOr08Gv9Tv4g1E8IeizKpwpz3yLNHGdlnjLCLR7Gm69YktyTT5Q1E6fMG0ZRK/WbY0Jo5jYt7qpTVEDcltJjqTpHLZLbidtpzHduP+Lj52xhyuOev4QX+bxP4vWTELfyhKe1+AYpcjGfwSy9zy+BauPHUOb3f3Z93f6y09tPcFmFXh5iOn1w84PxP7WL20ho1vdWXdxhS3I+s59uZBL+VuZzL4pf62iWMeNWQ9tolzZWu8R+ysCveA8ztxzDN/wzuf3s7Otj4+cnp98nzIdn2kHr8OXzAZ/LLN7/GH6emPJINfahouWTGLrv4w/pBJdqa7ZMUsvvTrzfQGwln32+MPo4Z2zL8NQkTWikiTiDS1t7cPe/2+eLBxO21YZeAT7iH22cS73ieq1RO5yCc3Nw9Y1u20pQWxBH8oSpc3lHOeNxDGagF3vA0pdZvZ9pF5k8sV2BJBO/W7ZdtmJAo72nrZ0daL02ZNWybXtvuD2b9L1MAhbyg5ZCHXNrKlI7PpIpE2bzAy6Lb8odgDmTPTnGvZjr5A2vT+XL9LMIzLbsGXY/7xVcU8ubl5yOMPA4P+UGmMmsPLWC1gUjIxzV0+br9ocdpvuu7cBpq7fDnP40gUunwh+uMZvqGOZyLtUQOd3lD2c9oXwu2w5dxf1MR+u1znikhs/6npSd2GJ97pJduxyZWm1GOea4xl6j5z/bbZMr6JfffnkVFNPX6Dze/zh9OGL2Uu0+eP9SHI3J8vGMm6ji+Ys6VIpSh0AGwGjkv5PCs+Lesy8SrQMmKdYfJZF2PMfcaYRmNMY1VV1bATWFUcG0z74+d3MbvSQ6XHwQ3vmTfgpvLk5mb+7YJFFDusXHfu3Fgvwr/H2gVTl71p9UL2H/LhcWW/IVR47BzyBbPO6/QFWVBdyo+f35V8JVHiuYSp+7h+ZQP7D+W+yWV+TgTv2ko3N7xnHk9sauam1QuzfscF1aVM9TjS0gC5MwaeHDc+i8AUj50nNjUPeL1SQrbvdsN75lHpdgw4pk9ubmZqsWPA8pn7XVBdmjXN2ZatjP/2CZkZj+Tv4g1y0+qFOX+3credq06dPWjmKWGw3yzXcUz8fvOrS/n1K/uT2+wLRHj69be598Mn8p3LlrL2rHoefGkvD/19H7OnegYcq8+9ex5Pbm6mwm3H7bQN+ttkpt0a/z2zLTO91MnP/7o75zmVOBdmlmd/7VJiH9nSc/PqhRQ5LIOeY4Nt87EN+1kwozTnMk9saubmQX7bxLFP/Q0T+84no5p6/AabX1XiYHqpM+cy2ea77Jbk/StznanFTtTQCt0GaCPWCWYlseD1MvAhY8yWlGWuBZakdIK5xBhzuYgsAn7B4U4wzwANI90JpqvfzwtvdPCFxzYzb1ox153bQLHLCgZ6/GFKXDY6+gLs6+znT28c4LLG2rT2hhtXzccXilBV4qS8yE5nX4B7/ryLa991/IA2wFsvXMRxU1zsPeijNxBJaw/4wnvfwfRSF3arcP3DG5M96uZUepha4uC15h68wQgWgUq3g/v/+iZXv3POwDbAd81Nb3e8YBG+QJiZ5UX85C+7uGj5LNr7AkwtdjCz3M3m/V1EovDk5mbWnTsPpw1CEbjxN68m2zVmVRThdljZ1e5NS/PXLlqMPxTGarWm7fP6lQ1ML3VSO6WIHW0+7v3zTi478TjqKt30+MNpbWjfvnQpPf0hPE47bu3EUQAAC3JJREFULd39yTavRIeF+dWl3P+XXXzgxFrmV3vY19nPrnYvboeVsiLHgP1OLXZwsC/IzPIippc6efNgbP8D2wAX0bTnYF5tgMdNcWO3CnsPeinJ2OfXL17CQ3/bQ3NXgE+9qx6305Y25jGzDfBbly7FF4gkO+rUVRZx7TkN3PPcwI5JqW2Aa886nkf+vi/WierCRdzzp53JJwk9s7WVfz5rLg6r0B+KsrfDy+9fbeGjp9dRWeyircdPW2+AX254i0+fPRfBYKIGi9XK95+LVfOVuaxMKXampT21jeo7ly2j1GWlpTswoL1teqmd11tiw2w+ccbxbGvtSZ5TV55Sx4wyF09s2s/qJTPpD6e316W2AX767Ln84E87k7/9gupSfvinnThswpqT6wakLZ82wNjnhYSjcFtG2+0jTfu48pQ6ntz0NquXzqDC40z77fNpAzx3fnXyQRWDtQH+5+XLCEcMX0hp30ud/6d/OQ2Al/d405b55iVLmFZip36qE38YXt0fmx8bZjSf+ioH21r9A15l9e6FVZQX5f82msnaBjgawyDOB75LbBjE/caYr4vIbUCTMeZxEXEBDwInAJ3AGmPM7vi6XwE+AYSBzxpjfj/Yvo4kAEIsCDZ3+mjrDVLstGOzCh19QRw2we2w4wuG8QUjTCtxYrPEegiGIlFKXHZ6/SGcNisOmyAi9PljN/P+YKybtT8c69FVWezAabPQ7Yv1Dg1GowTDhr5ALMh67FYixhA2USxYONgXpMRlw24TPI5YF/S23gBVxU76413Xw9HYgO1ip41DvthQgSK7hWgUuvpDTCtxEI1Cc3esW3fUGLyBMMVOe6ynocuKzRIbBlDudlBaZMMbiBCKRLBbrLT1xnpMlnus9AcM/nCEYCS2jakeB2ETwSJWvIEQHoedrv5YGhxWIWpMvHQodHjDHPIFmVHqwhCrdvYFI1QVOyl3W+jwRvAFw7jtNrr9IcqK7HR6g1R6HHiDYSwiuB1WHFYLvYEQdouV9r4AM0pdRDG098V6TRY7YkM2XA4bgVCYSo+T/lCUvmAYjKHIERtnWVXspMxtpaMv9ju67DY6vQGmFjspd1vp8kWSx9/jsNLtjw1RCISjHPKFqHAf/t1LXTaCkdgbFEpddqImisNqpdMbG/JSZLfEn/UaO5ZFDitvd/spj/emLXbZsIhBsOALhihyxL57sTO27x5/CJc9Nmykuz/EFI+DqIkgWOnwxno52izQ0h3EZbfitAtWiZ0/LruFaSUOevwRDvTEhqpMcVtp7vJT4rIDhkhU6Iin1R1P68G+AFUlTqLG0NEXoqrYwawKK139BhGhyxc7F6eXOKkqsdLlixKKRgmEDaFIhGKnnW5fCI8zVo1e7LTiDUTp9AWpKnbiiw/tqC51YRF4u9vP1GInIlGEWIm7OH5NdPuDTC12YLda6PSF6OmPUGS34HJYsQq4HRYsIrT1hugLhJle4mRGmYW3uyO0dMe+h8tmoS8QxBUfblPiig3/KCuyEzXC211+ihxWylx2fKEwff4IpUU2/KEIU4vtGIRDvhD9wSilRVbKi2yUFwkd3ijd/aHkdqeXOolEDS3dQYpdVorsVrp8sfRXemKltA5vlIN9sWlWi3CgJ5A2P3OZ1OmZ8xP7q/BY2N8Z4UBv7DeeV+0ZVvADDYATwpEGwEzZnkeoT1iYPPT3V5ONBsAJYKQCIBx+Iv2RvqFcHbt2t/dx/t0vpHUucNktPKVv+FYT1GQNgJP+UWi5HOkbytWxL9d7DlMfBK6UOvYd88MglBppifccpoq1pw2vXUUpNb5pAFQqQ+I9h6nd8VPfoaiUmhi0ClSpDNne8K1twEpNPBoAlcpC24CVmvi0ClQppdSkpAFQKaXUpKQBUCml1KSkAVAppdSkpAFQqf/f3r2FWFXFcRz//rLLSBeLBLsMaRZDmmapQU7R9amohygxi8roKXoo6EJQ0VMPSWWBaBSlYpA0XaCBoKLogk5Zac1YZkVNZnenkqzGGuffw1rD2dqcMzPHGa3Zvw8szqy991l7j+D8WGvvtbaZldKoWgpN0k/AV3vQxKzhuhYzs33g/Tq/NzEihv4+uf+5URWAe0qS/zHM7H8rIjxZdQg8BGpmZqXkADQzs1LySjC78hComVlJ+B6gmZmVkodAzcyslByAZmZWSiN6D1DSZmACcCCwBWgs7P4VGAf4sV0zs3LbAawHZgAH5W1rgeaICEkPAk259AJ3RsSzko4DVgCHA2OAOyLiRUnTgVsiYkGtk450D/BvUvB92s+51uHwMzMrq+78+ScpH2YBW4HPgFuB04Er8zH7AVMjogmYCryRt98FPB0RpwFXAEsAIqIDaMwBWVXdASjpGkntkj6U9JykTZJ+ltQrKfKk8sm5NAHH7NbE+fWe28zMRoUAGkhZ9DdwCDAWmEbqIF2Yj7sM2CbpqIjojYithe8fln8eB3xbaLuVFIo1zh4x5AKcTOrVjc/1GaQlyHoLJVxcXFxcXAZRNgE9QBdpOLSXlClvkYY3vwY6gC+AFmBCzp6j8/YtwC/ArEJOnQm01sqyenuA5wMthRTeRkpt8oV7aNPMzAbrBFIAHkBaz/Q3UvAdTHpWpZHU6VoEtAH35+/NB5ZHRCNwEbBSUl+u/ci/Rx53MVz3AHvyp/KF9w5Tu2ZmNnpF4XMHKezGAn9Q6Ql25Xon6X5hCzAzf+964GmAiGgjDaeOz/sa8vFV1RuArwFzJR2Z63+RnvSENIbr6RVmZlZLUBktFOn+3XZgIvAxKcieiTSe2QrMATYAF+T9AJtzHUlTSKH3U97XlI+vqu6VYCRdC9wG7CQ9vroOuC9fgJmZ2WD15NJNepill9TrG5enQZxAutf3OSngrouIzZKmAo+ROl4B3B4RLwNIWgy8FBGt1U46IkuhSZpEmsOxEHgkIrZLOolKGu9HZV6gSCE6ZtgvxMzM/kt6qYwQ/kYKroeAi0nPkrQB5wKrgB8i4nEASZcCMyPi7sGcRNJBpKkSZ0VET7Xj9sZi2I/mlD6UylCpgGOpdH8dfmZmI2P4ezmDP2/f3/idpB7eBtKsgTfy/r57ew8DHwGnkW6xHQGsLLS1P/DAEM59HGlSfNXwAy+GbWZmJeWHVczMrJQcgGZmVkoOQDMzKyUHoJmZlZID0CyTdKSkD3L5XtI3hfqBA7fQb5uHS+qSpFyfkxeLb8z1cXkR+br+L0p6XdLser5rVnYOQLMsIroi4tSIOBV4BFjUV4+Iv+ps81fgO2BK3tRMWjiiOdfPANZGxIDLB0raG9OWzErDAWhWg6QLJK2X1CHpiTzBFkmdkhbm7WslnVijmTVUAq+ZtKBvsb5aUoOkZbm99ZLOy+dZIOkFSa8Br0oaK2mVpI2SnqeyCL2ZDZED0Ky6BmA5MC8ippMm495Q2L8tb19MWs2imtVUAm8yaTHfvmHLZlJA3ghEbm8+sEJS37KCM4HLI+KcfP4/ImIKcA/pJaJmVgcHoFl1Y4AvI+LTXF8BnF3Y/1Thc06NdtYAzZKOBzojohuQpENIAfYOcBbwJEBEfEJ6F1pT/v4rEfFz/vnswnHtQHv9v55ZuTkAzeoXVX7e9aCIz0jvNruEtNYhpHeeXUcKxO0DnOf3PblIM+ufA9Csup3ApML9vatJaxj2mVf4bKO2t4GbCse1ATeThkchvfn6KgBJTaS1DDf1086bwJX5uGnAKYP8XcxsN36qzKy6blIvrSU/gfku6enQPkdIaie9uHP+AG2tJr2x+r1cbyPdD1yT60uApZI6SIsGL4iIHXn2RNFSYJmkjcBGUk/SzOrgxbDN6iCpE5gdEVv39bWYWX08BGpmZqXkHqDZMJF0JzB3t80tEXHvvrgeM6vNAWhmZqXkIVAzMyslB6CZmZWSA9DMzErJAWhmZqX0D2LGAc1a7Y0hAAAAAElFTkSuQmCC\n",
            "text/plain": [
              "<Figure size 432x288 with 1 Axes>"
            ]
          },
          "metadata": {
            "tags": [],
            "needs_background": "light"
          }
        }
      ]
    },
    {
      "cell_type": "code",
      "metadata": {
        "colab": {
          "base_uri": "https://localhost:8080/",
          "height": 766
        },
        "id": "fGDUm--R5Dz1",
        "outputId": "26009a48-5614-4a6b-83e3-4a2b431812c5"
      },
      "source": [
        "PRMD_tfidf.sort_values(by= 'Total_Claim_Cost', ascending=False).head(25)"
      ],
      "execution_count": null,
      "outputs": [
        {
          "output_type": "execute_result",
          "data": {
            "text/html": [
              "<div>\n",
              "<style scoped>\n",
              "    .dataframe tbody tr th:only-of-type {\n",
              "        vertical-align: middle;\n",
              "    }\n",
              "\n",
              "    .dataframe tbody tr th {\n",
              "        vertical-align: top;\n",
              "    }\n",
              "\n",
              "    .dataframe thead th {\n",
              "        text-align: right;\n",
              "    }\n",
              "</style>\n",
              "<table border=\"1\" class=\"dataframe\">\n",
              "  <thead>\n",
              "    <tr style=\"text-align: right;\">\n",
              "      <th></th>\n",
              "      <th>text</th>\n",
              "      <th>Claim</th>\n",
              "      <th>Number_of_Claims_x</th>\n",
              "      <th>tokens</th>\n",
              "      <th>Product_Code</th>\n",
              "      <th>POLICYID</th>\n",
              "      <th>length</th>\n",
              "      <th>CLAIM_ID</th>\n",
              "      <th>Number_of_Claims_y</th>\n",
              "      <th>Total_Claim_Cost</th>\n",
              "      <th>Average_Claim_Cost</th>\n",
              "      <th>Top_Word</th>\n",
              "    </tr>\n",
              "  </thead>\n",
              "  <tbody>\n",
              "    <tr>\n",
              "      <th>840</th>\n",
              "      <td>[issue, public, liability, limit, of, indemnit...</td>\n",
              "      <td>Yes</td>\n",
              "      <td>27</td>\n",
              "      <td>[issue, public, liability, limit, indemnity, e...</td>\n",
              "      <td>CCI</td>\n",
              "      <td>401110742</td>\n",
              "      <td>543</td>\n",
              "      <td>289437</td>\n",
              "      <td>4</td>\n",
              "      <td>16119976.11</td>\n",
              "      <td>4029994.03</td>\n",
              "      <td>specify (0.282)</td>\n",
              "    </tr>\n",
              "    <tr>\n",
              "      <th>9431</th>\n",
              "      <td>[issue, bi, eml, enter, be, outside, authority...</td>\n",
              "      <td>Yes</td>\n",
              "      <td>1</td>\n",
              "      <td>[issue, eml, enter, outside, authority, eml, e...</td>\n",
              "      <td>PML</td>\n",
              "      <td>401194314</td>\n",
              "      <td>612</td>\n",
              "      <td>42621</td>\n",
              "      <td>1</td>\n",
              "      <td>15402744.55</td>\n",
              "      <td>15402744.55</td>\n",
              "      <td>enter (0.664)</td>\n",
              "    </tr>\n",
              "    <tr>\n",
              "      <th>14545</th>\n",
              "      <td>[issue, total, pd, bi, eml, sum, insured, exce...</td>\n",
              "      <td>Yes</td>\n",
              "      <td>9</td>\n",
              "      <td>[issue, total, eml, sum, insured, exceeds, aut...</td>\n",
              "      <td>CCI</td>\n",
              "      <td>401364543</td>\n",
              "      <td>153</td>\n",
              "      <td>841362</td>\n",
              "      <td>1</td>\n",
              "      <td>13615084.02</td>\n",
              "      <td>13615084.02</td>\n",
              "      <td>bakery (0.305)</td>\n",
              "    </tr>\n",
              "    <tr>\n",
              "      <th>12841</th>\n",
              "      <td>[issue, total, pd, bi, eml, sum, insured, exce...</td>\n",
              "      <td>Yes</td>\n",
              "      <td>2</td>\n",
              "      <td>[issue, total, eml, sum, insured, exceeds, aut...</td>\n",
              "      <td>PML</td>\n",
              "      <td>401345461</td>\n",
              "      <td>400</td>\n",
              "      <td>1057553</td>\n",
              "      <td>2</td>\n",
              "      <td>12406487.20</td>\n",
              "      <td>6203243.60</td>\n",
              "      <td>enter (0.567)</td>\n",
              "    </tr>\n",
              "    <tr>\n",
              "      <th>132</th>\n",
              "      <td>[issue, bi, eml, enter, be, outside, authority...</td>\n",
              "      <td>Yes</td>\n",
              "      <td>2</td>\n",
              "      <td>[issue, eml, enter, outside, authority, eml, e...</td>\n",
              "      <td>PML</td>\n",
              "      <td>401100318</td>\n",
              "      <td>212</td>\n",
              "      <td>39528</td>\n",
              "      <td>2</td>\n",
              "      <td>10767311.68</td>\n",
              "      <td>5383655.84</td>\n",
              "      <td>enter (0.673)</td>\n",
              "    </tr>\n",
              "    <tr>\n",
              "      <th>8862</th>\n",
              "      <td>[issue, terrorismdeductible, select, exceeds, ...</td>\n",
              "      <td>Yes</td>\n",
              "      <td>6</td>\n",
              "      <td>[issue, terrorismdeductible, select, exceeds, ...</td>\n",
              "      <td>PML</td>\n",
              "      <td>401189570</td>\n",
              "      <td>627</td>\n",
              "      <td>41551</td>\n",
              "      <td>5</td>\n",
              "      <td>10669584.81</td>\n",
              "      <td>2133916.96</td>\n",
              "      <td>eml (0.788)</td>\n",
              "    </tr>\n",
              "    <tr>\n",
              "      <th>8525</th>\n",
              "      <td>[creator, douglas, mchugh, december, policy, b...</td>\n",
              "      <td>Yes</td>\n",
              "      <td>1</td>\n",
              "      <td>[creator, douglas, mchugh, december, policy, a...</td>\n",
              "      <td>PML</td>\n",
              "      <td>401186740</td>\n",
              "      <td>679</td>\n",
              "      <td>135307</td>\n",
              "      <td>1</td>\n",
              "      <td>10470764.11</td>\n",
              "      <td>10470764.11</td>\n",
              "      <td>eml (0.631)</td>\n",
              "    </tr>\n",
              "    <tr>\n",
              "      <th>9458</th>\n",
              "      <td>[in, order, process, cancel, rewrite, and, fal...</td>\n",
              "      <td>Yes</td>\n",
              "      <td>8</td>\n",
              "      <td>[order, process, cancel, rewrite, fall, foul, ...</td>\n",
              "      <td>PML</td>\n",
              "      <td>401194506</td>\n",
              "      <td>511</td>\n",
              "      <td>60225</td>\n",
              "      <td>8</td>\n",
              "      <td>8849242.88</td>\n",
              "      <td>1106155.36</td>\n",
              "      <td>enter (0.707)</td>\n",
              "    </tr>\n",
              "    <tr>\n",
              "      <th>8856</th>\n",
              "      <td>[creator, amy, merison, december, underwriter,...</td>\n",
              "      <td>Yes</td>\n",
              "      <td>3</td>\n",
              "      <td>[creator, amy, merison, december, underwriter,...</td>\n",
              "      <td>PML</td>\n",
              "      <td>401189513</td>\n",
              "      <td>543</td>\n",
              "      <td>69675</td>\n",
              "      <td>3</td>\n",
              "      <td>8567041.23</td>\n",
              "      <td>2855680.41</td>\n",
              "      <td>enter (0.699)</td>\n",
              "    </tr>\n",
              "    <tr>\n",
              "      <th>17412</th>\n",
              "      <td>[issue, location, exist, in, territory, exceed...</td>\n",
              "      <td>Yes</td>\n",
              "      <td>2</td>\n",
              "      <td>[issue, location, exist, territory, exceed, au...</td>\n",
              "      <td>PML</td>\n",
              "      <td>401505101</td>\n",
              "      <td>681</td>\n",
              "      <td>1257770</td>\n",
              "      <td>2</td>\n",
              "      <td>6709320.70</td>\n",
              "      <td>3354660.35</td>\n",
              "      <td>java (0.445)</td>\n",
              "    </tr>\n",
              "    <tr>\n",
              "      <th>6308</th>\n",
              "      <td>[issue, subsidence, grade, flag, be, red, exce...</td>\n",
              "      <td>Yes</td>\n",
              "      <td>2</td>\n",
              "      <td>[issue, subsidence, grade, flag, red, exceeds,...</td>\n",
              "      <td>CPO</td>\n",
              "      <td>401166195</td>\n",
              "      <td>382</td>\n",
              "      <td>112262</td>\n",
              "      <td>2</td>\n",
              "      <td>5252359.84</td>\n",
              "      <td>2626179.92</td>\n",
              "      <td>format (0.366)</td>\n",
              "    </tr>\n",
              "    <tr>\n",
              "      <th>15405</th>\n",
              "      <td>[issue, products, liability, limit, of, indemn...</td>\n",
              "      <td>Yes</td>\n",
              "      <td>75</td>\n",
              "      <td>[issue, products, liability, limit, indemnity,...</td>\n",
              "      <td>CCI</td>\n",
              "      <td>401382802</td>\n",
              "      <td>7956</td>\n",
              "      <td>355197</td>\n",
              "      <td>12</td>\n",
              "      <td>4922959.84</td>\n",
              "      <td>410246.65</td>\n",
              "      <td>harveya (0.543)</td>\n",
              "    </tr>\n",
              "    <tr>\n",
              "      <th>1781</th>\n",
              "      <td>[issue, pd, eml, enter, be, outside, authority...</td>\n",
              "      <td>Yes</td>\n",
              "      <td>1</td>\n",
              "      <td>[issue, eml, enter, outside, authority, eml, e...</td>\n",
              "      <td>PML</td>\n",
              "      <td>401120387</td>\n",
              "      <td>523</td>\n",
              "      <td>865543</td>\n",
              "      <td>1</td>\n",
              "      <td>4907668.49</td>\n",
              "      <td>4907668.49</td>\n",
              "      <td>enter (0.607)</td>\n",
              "    </tr>\n",
              "    <tr>\n",
              "      <th>2726</th>\n",
              "      <td>[issue, pd, eml, enter, be, outside, authority...</td>\n",
              "      <td>Yes</td>\n",
              "      <td>1</td>\n",
              "      <td>[issue, eml, enter, outside, authority, eml, e...</td>\n",
              "      <td>PML</td>\n",
              "      <td>401130709</td>\n",
              "      <td>214</td>\n",
              "      <td>283772</td>\n",
              "      <td>1</td>\n",
              "      <td>4703894.15</td>\n",
              "      <td>4703894.15</td>\n",
              "      <td>enter (0.572)</td>\n",
              "    </tr>\n",
              "    <tr>\n",
              "      <th>10721</th>\n",
              "      <td>[issue, location, exist, in, territory, exceed...</td>\n",
              "      <td>Yes</td>\n",
              "      <td>18</td>\n",
              "      <td>[issue, location, exist, territory, exceed, au...</td>\n",
              "      <td>PML</td>\n",
              "      <td>401304890</td>\n",
              "      <td>98</td>\n",
              "      <td>240586</td>\n",
              "      <td>18</td>\n",
              "      <td>4298255.12</td>\n",
              "      <td>238791.95</td>\n",
              "      <td>eur (0.531)</td>\n",
              "    </tr>\n",
              "    <tr>\n",
              "      <th>2618</th>\n",
              "      <td>[creator, douglas, mchugh, december, schedule,...</td>\n",
              "      <td>Yes</td>\n",
              "      <td>20</td>\n",
              "      <td>[creator, douglas, mchugh, december, schedule,...</td>\n",
              "      <td>PML</td>\n",
              "      <td>401129568</td>\n",
              "      <td>225</td>\n",
              "      <td>103010</td>\n",
              "      <td>20</td>\n",
              "      <td>4154673.02</td>\n",
              "      <td>207733.65</td>\n",
              "      <td>gbp (0.519)</td>\n",
              "    </tr>\n",
              "    <tr>\n",
              "      <th>2253</th>\n",
              "      <td>[strategy, manufacturing, joiners, specialise,...</td>\n",
              "      <td>Yes</td>\n",
              "      <td>33</td>\n",
              "      <td>[strategy, manufacturing, joiners, specialise,...</td>\n",
              "      <td>CCI</td>\n",
              "      <td>401125388</td>\n",
              "      <td>833</td>\n",
              "      <td>1315224</td>\n",
              "      <td>1</td>\n",
              "      <td>3845822.60</td>\n",
              "      <td>3845822.60</td>\n",
              "      <td>eml (0.357)</td>\n",
              "    </tr>\n",
              "    <tr>\n",
              "      <th>3106</th>\n",
              "      <td>[issue, surface, water, grade, flag, overridde...</td>\n",
              "      <td>Yes</td>\n",
              "      <td>3</td>\n",
              "      <td>[issue, surface, water, grade, flag, overridde...</td>\n",
              "      <td>CCI</td>\n",
              "      <td>401134905</td>\n",
              "      <td>805</td>\n",
              "      <td>125836</td>\n",
              "      <td>3</td>\n",
              "      <td>3561047.87</td>\n",
              "      <td>1187015.96</td>\n",
              "      <td>morgans (0.386)</td>\n",
              "    </tr>\n",
              "    <tr>\n",
              "      <th>1832</th>\n",
              "      <td>[claim, number, loss, date, loss, because, fir...</td>\n",
              "      <td>Yes</td>\n",
              "      <td>1</td>\n",
              "      <td>[claim, number, loss, date, loss, fire, total,...</td>\n",
              "      <td>CCI</td>\n",
              "      <td>401121040</td>\n",
              "      <td>18</td>\n",
              "      <td>169343</td>\n",
              "      <td>1</td>\n",
              "      <td>3550853.08</td>\n",
              "      <td>3550853.08</td>\n",
              "      <td>dissatisfied (0.718)</td>\n",
              "    </tr>\n",
              "    <tr>\n",
              "      <th>6773</th>\n",
              "      <td>[issue, property, owners, liability, asbestos,...</td>\n",
              "      <td>Yes</td>\n",
              "      <td>70</td>\n",
              "      <td>[issue, property, owners, liability, asbestos,...</td>\n",
              "      <td>CPO</td>\n",
              "      <td>401171060</td>\n",
              "      <td>3103</td>\n",
              "      <td>67749</td>\n",
              "      <td>52</td>\n",
              "      <td>3344329.83</td>\n",
              "      <td>64314.04</td>\n",
              "      <td>enter (0.535)</td>\n",
              "    </tr>\n",
              "    <tr>\n",
              "      <th>15111</th>\n",
              "      <td>[hold, since, previously, under, lta, but, hav...</td>\n",
              "      <td>Yes</td>\n",
              "      <td>1</td>\n",
              "      <td>[hold, previously, lta, expire, change, etc, r...</td>\n",
              "      <td>CPO</td>\n",
              "      <td>401380241</td>\n",
              "      <td>612</td>\n",
              "      <td>1012158</td>\n",
              "      <td>1</td>\n",
              "      <td>3219300.50</td>\n",
              "      <td>3219300.50</td>\n",
              "      <td>aberdeen (0.493)</td>\n",
              "    </tr>\n",
              "    <tr>\n",
              "      <th>5623</th>\n",
              "      <td>[issue, property, owners, liability, terrorism...</td>\n",
              "      <td>Yes</td>\n",
              "      <td>218</td>\n",
              "      <td>[issue, property, owners, liability, terrorism...</td>\n",
              "      <td>CPO</td>\n",
              "      <td>401159885</td>\n",
              "      <td>1042</td>\n",
              "      <td>89272</td>\n",
              "      <td>214</td>\n",
              "      <td>3122059.39</td>\n",
              "      <td>14589.06</td>\n",
              "      <td>eml (0.472)</td>\n",
              "    </tr>\n",
              "    <tr>\n",
              "      <th>13990</th>\n",
              "      <td>[issue, bi, eml, enter, be, outside, authority...</td>\n",
              "      <td>Yes</td>\n",
              "      <td>3</td>\n",
              "      <td>[issue, eml, enter, outside, authority, total,...</td>\n",
              "      <td>CCI</td>\n",
              "      <td>401357314</td>\n",
              "      <td>195</td>\n",
              "      <td>859503</td>\n",
              "      <td>2</td>\n",
              "      <td>2969005.25</td>\n",
              "      <td>1484502.62</td>\n",
              "      <td>jackie (0.472)</td>\n",
              "    </tr>\n",
              "    <tr>\n",
              "      <th>10580</th>\n",
              "      <td>[grade, front, look, like, have, already, clas...</td>\n",
              "      <td>Yes</td>\n",
              "      <td>1</td>\n",
              "      <td>[grade, look, like, classify, changed, content...</td>\n",
              "      <td>CCI</td>\n",
              "      <td>401303473</td>\n",
              "      <td>887</td>\n",
              "      <td>217651</td>\n",
              "      <td>1</td>\n",
              "      <td>2936362.17</td>\n",
              "      <td>2936362.17</td>\n",
              "      <td>hotel (0.312)</td>\n",
              "    </tr>\n",
              "    <tr>\n",
              "      <th>14586</th>\n",
              "      <td>[claim, number, loss, date, loss, because, esc...</td>\n",
              "      <td>Yes</td>\n",
              "      <td>546</td>\n",
              "      <td>[claim, number, loss, date, loss, escape, wate...</td>\n",
              "      <td>CPO</td>\n",
              "      <td>401365156</td>\n",
              "      <td>576</td>\n",
              "      <td>545016</td>\n",
              "      <td>546</td>\n",
              "      <td>2852552.81</td>\n",
              "      <td>5224.46</td>\n",
              "      <td>eml (0.550)</td>\n",
              "    </tr>\n",
              "  </tbody>\n",
              "</table>\n",
              "</div>"
            ],
            "text/plain": [
              "                                                    text  ...              Top_Word\n",
              "840    [issue, public, liability, limit, of, indemnit...  ...       specify (0.282)\n",
              "9431   [issue, bi, eml, enter, be, outside, authority...  ...         enter (0.664)\n",
              "14545  [issue, total, pd, bi, eml, sum, insured, exce...  ...        bakery (0.305)\n",
              "12841  [issue, total, pd, bi, eml, sum, insured, exce...  ...         enter (0.567)\n",
              "132    [issue, bi, eml, enter, be, outside, authority...  ...         enter (0.673)\n",
              "8862   [issue, terrorismdeductible, select, exceeds, ...  ...           eml (0.788)\n",
              "8525   [creator, douglas, mchugh, december, policy, b...  ...           eml (0.631)\n",
              "9458   [in, order, process, cancel, rewrite, and, fal...  ...         enter (0.707)\n",
              "8856   [creator, amy, merison, december, underwriter,...  ...         enter (0.699)\n",
              "17412  [issue, location, exist, in, territory, exceed...  ...          java (0.445)\n",
              "6308   [issue, subsidence, grade, flag, be, red, exce...  ...        format (0.366)\n",
              "15405  [issue, products, liability, limit, of, indemn...  ...       harveya (0.543)\n",
              "1781   [issue, pd, eml, enter, be, outside, authority...  ...         enter (0.607)\n",
              "2726   [issue, pd, eml, enter, be, outside, authority...  ...         enter (0.572)\n",
              "10721  [issue, location, exist, in, territory, exceed...  ...           eur (0.531)\n",
              "2618   [creator, douglas, mchugh, december, schedule,...  ...           gbp (0.519)\n",
              "2253   [strategy, manufacturing, joiners, specialise,...  ...           eml (0.357)\n",
              "3106   [issue, surface, water, grade, flag, overridde...  ...       morgans (0.386)\n",
              "1832   [claim, number, loss, date, loss, because, fir...  ...  dissatisfied (0.718)\n",
              "6773   [issue, property, owners, liability, asbestos,...  ...         enter (0.535)\n",
              "15111  [hold, since, previously, under, lta, but, hav...  ...      aberdeen (0.493)\n",
              "5623   [issue, property, owners, liability, terrorism...  ...           eml (0.472)\n",
              "13990  [issue, bi, eml, enter, be, outside, authority...  ...        jackie (0.472)\n",
              "10580  [grade, front, look, like, have, already, clas...  ...         hotel (0.312)\n",
              "14586  [claim, number, loss, date, loss, because, esc...  ...           eml (0.550)\n",
              "\n",
              "[25 rows x 12 columns]"
            ]
          },
          "metadata": {
            "tags": []
          },
          "execution_count": 52
        }
      ]
    }
