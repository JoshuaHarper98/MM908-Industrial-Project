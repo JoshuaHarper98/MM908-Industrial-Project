{
  "nbformat": 4,
  "nbformat_minor": 0,
  "metadata": {
    "colab": {
      "name": "Preprocessing.ipynb",
      "provenance": [],
      "collapsed_sections": [],
      "machine_shape": "hm",
      "mount_file_id": "1MGcvaK-NjnhzuqiwFByQVKfFs3p1d4-l",
      "authorship_tag": "ABX9TyO+mSbL7ljtzEwlHMU38g5R",
      "include_colab_link": true
    },
    "kernelspec": {
      "name": "python3",
      "display_name": "Python 3"
    },
    "language_info": {
      "name": "python"
    },
    "accelerator": "GPU"
  },
  "cells": [
    {
      "cell_type": "markdown",
      "metadata": {
        "id": "view-in-github",
        "colab_type": "text"
      },
      "source": [
        "<a href=\"https://colab.research.google.com/github/JoshuaHarper98/MM908-Industrial-Project/blob/main/Preprocessing.ipynb\" target=\"_parent\"><img src=\"https://colab.research.google.com/assets/colab-badge.svg\" alt=\"Open In Colab\"/></a>"
      ]
    },
    {
      "cell_type": "code",
      "metadata": {
        "id": "IkRgo7Bs2qYA"
      },
      "source": [
        "import sys\n",
        "sys.path.append('/content/gdrive/My Drive/Colab Notebooks')"
      ],
      "execution_count": null,
      "outputs": []
    },
    {
      "cell_type": "code",
      "metadata": {
        "id": "Fzvj5jxV23mb"
      },
      "source": [
        "import numpy as np\n",
        "import pandas as pd\n",
        "import math\n",
        "from tqdm import tqdm\n",
        "import re\n",
        "from bs4 import BeautifulSoup"
      ],
      "execution_count": null,
      "outputs": []
    },
    {
      "cell_type": "code",
      "metadata": {
        "id": "zmdvRbVX-3rj",
        "colab": {
          "base_uri": "https://localhost:8080/"
        },
        "outputId": "0c292d15-53e3-4fbd-a5be-2264e7fd83d0"
      },
      "source": [
        "!pip install textacy\n",
        "import textacy\n",
        "from textacy.extract import keyterms as kt\n",
        "from textacy import preprocessing"
      ],
      "execution_count": null,
      "outputs": [
        {
          "output_type": "stream",
          "text": [
            "Collecting textacy\n",
            "  Downloading textacy-0.11.0-py3-none-any.whl (200 kB)\n",
            "\u001b[?25l\r\u001b[K     |█▋                              | 10 kB 30.6 MB/s eta 0:00:01\r\u001b[K     |███▎                            | 20 kB 20.7 MB/s eta 0:00:01\r\u001b[K     |█████                           | 30 kB 11.8 MB/s eta 0:00:01\r\u001b[K     |██████▌                         | 40 kB 6.5 MB/s eta 0:00:01\r\u001b[K     |████████▏                       | 51 kB 7.9 MB/s eta 0:00:01\r\u001b[K     |█████████▉                      | 61 kB 7.8 MB/s eta 0:00:01\r\u001b[K     |███████████▌                    | 71 kB 7.5 MB/s eta 0:00:01\r\u001b[K     |█████████████                   | 81 kB 8.4 MB/s eta 0:00:01\r\u001b[K     |██████████████▊                 | 92 kB 6.8 MB/s eta 0:00:01\r\u001b[K     |████████████████▍               | 102 kB 7.5 MB/s eta 0:00:01\r\u001b[K     |██████████████████              | 112 kB 7.5 MB/s eta 0:00:01\r\u001b[K     |███████████████████▋            | 122 kB 7.5 MB/s eta 0:00:01\r\u001b[K     |█████████████████████▎          | 133 kB 7.5 MB/s eta 0:00:01\r\u001b[K     |███████████████████████         | 143 kB 7.5 MB/s eta 0:00:01\r\u001b[K     |████████████████████████▌       | 153 kB 7.5 MB/s eta 0:00:01\r\u001b[K     |██████████████████████████▏     | 163 kB 7.5 MB/s eta 0:00:01\r\u001b[K     |███████████████████████████▉    | 174 kB 7.5 MB/s eta 0:00:01\r\u001b[K     |█████████████████████████████▍  | 184 kB 7.5 MB/s eta 0:00:01\r\u001b[K     |███████████████████████████████ | 194 kB 7.5 MB/s eta 0:00:01\r\u001b[K     |████████████████████████████████| 200 kB 7.5 MB/s \n",
            "\u001b[?25hRequirement already satisfied: networkx>=2.0 in /usr/local/lib/python3.7/dist-packages (from textacy) (2.5.1)\n",
            "Requirement already satisfied: requests>=2.10.0 in /usr/local/lib/python3.7/dist-packages (from textacy) (2.23.0)\n",
            "Requirement already satisfied: scipy>=0.17.0 in /usr/local/lib/python3.7/dist-packages (from textacy) (1.4.1)\n",
            "Collecting pyphen>=0.10.0\n",
            "  Downloading pyphen-0.11.0-py3-none-any.whl (2.0 MB)\n",
            "\u001b[K     |████████████████████████████████| 2.0 MB 86.3 MB/s \n",
            "\u001b[?25hRequirement already satisfied: numpy>=1.17.0 in /usr/local/lib/python3.7/dist-packages (from textacy) (1.19.5)\n",
            "Collecting cytoolz>=0.10.1\n",
            "  Downloading cytoolz-0.11.0.tar.gz (477 kB)\n",
            "\u001b[K     |████████████████████████████████| 477 kB 77.4 MB/s \n",
            "\u001b[?25hRequirement already satisfied: scikit-learn>=0.19.0 in /usr/local/lib/python3.7/dist-packages (from textacy) (0.22.2.post1)\n",
            "Collecting spacy>=3.0.0\n",
            "  Downloading spacy-3.1.1-cp37-cp37m-manylinux_2_17_x86_64.manylinux2014_x86_64.whl (6.4 MB)\n",
            "\u001b[K     |████████████████████████████████| 6.4 MB 56.7 MB/s \n",
            "\u001b[?25hRequirement already satisfied: tqdm>=4.19.6 in /usr/local/lib/python3.7/dist-packages (from textacy) (4.41.1)\n",
            "Requirement already satisfied: joblib>=0.13.0 in /usr/local/lib/python3.7/dist-packages (from textacy) (1.0.1)\n",
            "Requirement already satisfied: cachetools>=4.0.0 in /usr/local/lib/python3.7/dist-packages (from textacy) (4.2.2)\n",
            "Collecting jellyfish>=0.8.0\n",
            "  Downloading jellyfish-0.8.4-py3-none-any.whl (10 kB)\n",
            "Requirement already satisfied: toolz>=0.8.0 in /usr/local/lib/python3.7/dist-packages (from cytoolz>=0.10.1->textacy) (0.11.1)\n",
            "Requirement already satisfied: decorator<5,>=4.3 in /usr/local/lib/python3.7/dist-packages (from networkx>=2.0->textacy) (4.4.2)\n",
            "Requirement already satisfied: chardet<4,>=3.0.2 in /usr/local/lib/python3.7/dist-packages (from requests>=2.10.0->textacy) (3.0.4)\n",
            "Requirement already satisfied: urllib3!=1.25.0,!=1.25.1,<1.26,>=1.21.1 in /usr/local/lib/python3.7/dist-packages (from requests>=2.10.0->textacy) (1.24.3)\n",
            "Requirement already satisfied: idna<3,>=2.5 in /usr/local/lib/python3.7/dist-packages (from requests>=2.10.0->textacy) (2.10)\n",
            "Requirement already satisfied: certifi>=2017.4.17 in /usr/local/lib/python3.7/dist-packages (from requests>=2.10.0->textacy) (2021.5.30)\n",
            "Requirement already satisfied: setuptools in /usr/local/lib/python3.7/dist-packages (from spacy>=3.0.0->textacy) (57.2.0)\n",
            "Requirement already satisfied: wasabi<1.1.0,>=0.8.1 in /usr/local/lib/python3.7/dist-packages (from spacy>=3.0.0->textacy) (0.8.2)\n",
            "Collecting srsly<3.0.0,>=2.4.1\n",
            "  Downloading srsly-2.4.1-cp37-cp37m-manylinux2014_x86_64.whl (456 kB)\n",
            "\u001b[K     |████████████████████████████████| 456 kB 91.7 MB/s \n",
            "\u001b[?25hCollecting typer<0.4.0,>=0.3.0\n",
            "  Downloading typer-0.3.2-py3-none-any.whl (21 kB)\n",
            "Collecting pathy>=0.3.5\n",
            "  Downloading pathy-0.6.0-py3-none-any.whl (42 kB)\n",
            "\u001b[K     |████████████████████████████████| 42 kB 2.0 MB/s \n",
            "\u001b[?25hCollecting spacy-legacy<3.1.0,>=3.0.7\n",
            "  Downloading spacy_legacy-3.0.8-py2.py3-none-any.whl (14 kB)\n",
            "Requirement already satisfied: blis<0.8.0,>=0.4.0 in /usr/local/lib/python3.7/dist-packages (from spacy>=3.0.0->textacy) (0.4.1)\n",
            "Requirement already satisfied: murmurhash<1.1.0,>=0.28.0 in /usr/local/lib/python3.7/dist-packages (from spacy>=3.0.0->textacy) (1.0.5)\n",
            "Requirement already satisfied: packaging>=20.0 in /usr/local/lib/python3.7/dist-packages (from spacy>=3.0.0->textacy) (21.0)\n",
            "Requirement already satisfied: typing-extensions<4.0.0.0,>=3.7.4 in /usr/local/lib/python3.7/dist-packages (from spacy>=3.0.0->textacy) (3.7.4.3)\n",
            "Collecting catalogue<2.1.0,>=2.0.4\n",
            "  Downloading catalogue-2.0.4-py3-none-any.whl (16 kB)\n",
            "Requirement already satisfied: jinja2 in /usr/local/lib/python3.7/dist-packages (from spacy>=3.0.0->textacy) (2.11.3)\n",
            "Requirement already satisfied: cymem<2.1.0,>=2.0.2 in /usr/local/lib/python3.7/dist-packages (from spacy>=3.0.0->textacy) (2.0.5)\n",
            "Requirement already satisfied: preshed<3.1.0,>=3.0.2 in /usr/local/lib/python3.7/dist-packages (from spacy>=3.0.0->textacy) (3.0.5)\n",
            "Collecting thinc<8.1.0,>=8.0.8\n",
            "  Downloading thinc-8.0.8-cp37-cp37m-manylinux_2_17_x86_64.manylinux2014_x86_64.whl (621 kB)\n",
            "\u001b[K     |████████████████████████████████| 621 kB 75.9 MB/s \n",
            "\u001b[?25hCollecting pydantic!=1.8,!=1.8.1,<1.9.0,>=1.7.4\n",
            "  Downloading pydantic-1.8.2-cp37-cp37m-manylinux2014_x86_64.whl (10.1 MB)\n",
            "\u001b[K     |████████████████████████████████| 10.1 MB 64.4 MB/s \n",
            "\u001b[?25hRequirement already satisfied: zipp>=0.5 in /usr/local/lib/python3.7/dist-packages (from catalogue<2.1.0,>=2.0.4->spacy>=3.0.0->textacy) (3.5.0)\n",
            "Requirement already satisfied: pyparsing>=2.0.2 in /usr/local/lib/python3.7/dist-packages (from packaging>=20.0->spacy>=3.0.0->textacy) (2.4.7)\n",
            "Requirement already satisfied: smart-open<6.0.0,>=5.0.0 in /usr/local/lib/python3.7/dist-packages (from pathy>=0.3.5->spacy>=3.0.0->textacy) (5.1.0)\n",
            "Requirement already satisfied: click<7.2.0,>=7.1.1 in /usr/local/lib/python3.7/dist-packages (from typer<0.4.0,>=0.3.0->spacy>=3.0.0->textacy) (7.1.2)\n",
            "Requirement already satisfied: MarkupSafe>=0.23 in /usr/local/lib/python3.7/dist-packages (from jinja2->spacy>=3.0.0->textacy) (2.0.1)\n",
            "Building wheels for collected packages: cytoolz\n",
            "  Building wheel for cytoolz (setup.py) ... \u001b[?25l\u001b[?25hdone\n",
            "  Created wheel for cytoolz: filename=cytoolz-0.11.0-cp37-cp37m-linux_x86_64.whl size=1224739 sha256=fcb475ad19473a0e16be249b04dd5192e132ea95620a74fc5fa858a874271d35\n",
            "  Stored in directory: /root/.cache/pip/wheels/a1/aa/85/7dc0547cad8c535a1c4e55c638f6e2d3de45401dd634bff0a2\n",
            "Successfully built cytoolz\n",
            "Installing collected packages: catalogue, typer, srsly, pydantic, thinc, spacy-legacy, pathy, spacy, pyphen, jellyfish, cytoolz, textacy\n",
            "  Attempting uninstall: catalogue\n",
            "    Found existing installation: catalogue 1.0.0\n",
            "    Uninstalling catalogue-1.0.0:\n",
            "      Successfully uninstalled catalogue-1.0.0\n",
            "  Attempting uninstall: srsly\n",
            "    Found existing installation: srsly 1.0.5\n",
            "    Uninstalling srsly-1.0.5:\n",
            "      Successfully uninstalled srsly-1.0.5\n",
            "  Attempting uninstall: thinc\n",
            "    Found existing installation: thinc 7.4.0\n",
            "    Uninstalling thinc-7.4.0:\n",
            "      Successfully uninstalled thinc-7.4.0\n",
            "  Attempting uninstall: spacy\n",
            "    Found existing installation: spacy 2.2.4\n",
            "    Uninstalling spacy-2.2.4:\n",
            "      Successfully uninstalled spacy-2.2.4\n",
            "Successfully installed catalogue-2.0.4 cytoolz-0.11.0 jellyfish-0.8.4 pathy-0.6.0 pydantic-1.8.2 pyphen-0.11.0 spacy-3.1.1 spacy-legacy-3.0.8 srsly-2.4.1 textacy-0.11.0 thinc-8.0.8 typer-0.3.2\n"
          ],
          "name": "stdout"
        }
      ]
    },
    {
      "cell_type": "code",
      "metadata": {
        "id": "dK6vvdG427FR",
        "colab": {
          "base_uri": "https://localhost:8080/"
        },
        "outputId": "85854f0a-3396-44c3-fcdd-e1d7290f1c1f"
      },
      "source": [
        "import spacy\n",
        "from spacy.lang.en.stop_words import STOP_WORDS\n",
        "!python -m spacy download en_core_web_sm\n",
        "nlp = spacy.load('en_core_web_sm')"
      ],
      "execution_count": null,
      "outputs": [
        {
          "output_type": "stream",
          "text": [
            "2021-08-05 14:50:55.780770: I tensorflow/stream_executor/platform/default/dso_loader.cc:53] Successfully opened dynamic library libcudart.so.11.0\n",
            "Collecting en-core-web-sm==3.1.0\n",
            "  Downloading https://github.com/explosion/spacy-models/releases/download/en_core_web_sm-3.1.0/en_core_web_sm-3.1.0-py3-none-any.whl (13.6 MB)\n",
            "\u001b[K     |████████████████████████████████| 13.6 MB 7.5 MB/s \n",
            "\u001b[?25hRequirement already satisfied: spacy<3.2.0,>=3.1.0 in /usr/local/lib/python3.7/dist-packages (from en-core-web-sm==3.1.0) (3.1.1)\n",
            "Requirement already satisfied: cymem<2.1.0,>=2.0.2 in /usr/local/lib/python3.7/dist-packages (from spacy<3.2.0,>=3.1.0->en-core-web-sm==3.1.0) (2.0.5)\n",
            "Requirement already satisfied: pathy>=0.3.5 in /usr/local/lib/python3.7/dist-packages (from spacy<3.2.0,>=3.1.0->en-core-web-sm==3.1.0) (0.6.0)\n",
            "Requirement already satisfied: packaging>=20.0 in /usr/local/lib/python3.7/dist-packages (from spacy<3.2.0,>=3.1.0->en-core-web-sm==3.1.0) (21.0)\n",
            "Requirement already satisfied: setuptools in /usr/local/lib/python3.7/dist-packages (from spacy<3.2.0,>=3.1.0->en-core-web-sm==3.1.0) (57.2.0)\n",
            "Requirement already satisfied: pydantic!=1.8,!=1.8.1,<1.9.0,>=1.7.4 in /usr/local/lib/python3.7/dist-packages (from spacy<3.2.0,>=3.1.0->en-core-web-sm==3.1.0) (1.8.2)\n",
            "Requirement already satisfied: jinja2 in /usr/local/lib/python3.7/dist-packages (from spacy<3.2.0,>=3.1.0->en-core-web-sm==3.1.0) (2.11.3)\n",
            "Requirement already satisfied: typer<0.4.0,>=0.3.0 in /usr/local/lib/python3.7/dist-packages (from spacy<3.2.0,>=3.1.0->en-core-web-sm==3.1.0) (0.3.2)\n",
            "Requirement already satisfied: blis<0.8.0,>=0.4.0 in /usr/local/lib/python3.7/dist-packages (from spacy<3.2.0,>=3.1.0->en-core-web-sm==3.1.0) (0.4.1)\n",
            "Requirement already satisfied: tqdm<5.0.0,>=4.38.0 in /usr/local/lib/python3.7/dist-packages (from spacy<3.2.0,>=3.1.0->en-core-web-sm==3.1.0) (4.41.1)\n",
            "Requirement already satisfied: preshed<3.1.0,>=3.0.2 in /usr/local/lib/python3.7/dist-packages (from spacy<3.2.0,>=3.1.0->en-core-web-sm==3.1.0) (3.0.5)\n",
            "Requirement already satisfied: typing-extensions<4.0.0.0,>=3.7.4 in /usr/local/lib/python3.7/dist-packages (from spacy<3.2.0,>=3.1.0->en-core-web-sm==3.1.0) (3.7.4.3)\n",
            "Requirement already satisfied: requests<3.0.0,>=2.13.0 in /usr/local/lib/python3.7/dist-packages (from spacy<3.2.0,>=3.1.0->en-core-web-sm==3.1.0) (2.23.0)\n",
            "Requirement already satisfied: catalogue<2.1.0,>=2.0.4 in /usr/local/lib/python3.7/dist-packages (from spacy<3.2.0,>=3.1.0->en-core-web-sm==3.1.0) (2.0.4)\n",
            "Requirement already satisfied: murmurhash<1.1.0,>=0.28.0 in /usr/local/lib/python3.7/dist-packages (from spacy<3.2.0,>=3.1.0->en-core-web-sm==3.1.0) (1.0.5)\n",
            "Requirement already satisfied: spacy-legacy<3.1.0,>=3.0.7 in /usr/local/lib/python3.7/dist-packages (from spacy<3.2.0,>=3.1.0->en-core-web-sm==3.1.0) (3.0.8)\n",
            "Requirement already satisfied: thinc<8.1.0,>=8.0.8 in /usr/local/lib/python3.7/dist-packages (from spacy<3.2.0,>=3.1.0->en-core-web-sm==3.1.0) (8.0.8)\n",
            "Requirement already satisfied: srsly<3.0.0,>=2.4.1 in /usr/local/lib/python3.7/dist-packages (from spacy<3.2.0,>=3.1.0->en-core-web-sm==3.1.0) (2.4.1)\n",
            "Requirement already satisfied: wasabi<1.1.0,>=0.8.1 in /usr/local/lib/python3.7/dist-packages (from spacy<3.2.0,>=3.1.0->en-core-web-sm==3.1.0) (0.8.2)\n",
            "Requirement already satisfied: numpy>=1.15.0 in /usr/local/lib/python3.7/dist-packages (from spacy<3.2.0,>=3.1.0->en-core-web-sm==3.1.0) (1.19.5)\n",
            "Requirement already satisfied: zipp>=0.5 in /usr/local/lib/python3.7/dist-packages (from catalogue<2.1.0,>=2.0.4->spacy<3.2.0,>=3.1.0->en-core-web-sm==3.1.0) (3.5.0)\n",
            "Requirement already satisfied: pyparsing>=2.0.2 in /usr/local/lib/python3.7/dist-packages (from packaging>=20.0->spacy<3.2.0,>=3.1.0->en-core-web-sm==3.1.0) (2.4.7)\n",
            "Requirement already satisfied: smart-open<6.0.0,>=5.0.0 in /usr/local/lib/python3.7/dist-packages (from pathy>=0.3.5->spacy<3.2.0,>=3.1.0->en-core-web-sm==3.1.0) (5.1.0)\n",
            "Requirement already satisfied: chardet<4,>=3.0.2 in /usr/local/lib/python3.7/dist-packages (from requests<3.0.0,>=2.13.0->spacy<3.2.0,>=3.1.0->en-core-web-sm==3.1.0) (3.0.4)\n",
            "Requirement already satisfied: urllib3!=1.25.0,!=1.25.1,<1.26,>=1.21.1 in /usr/local/lib/python3.7/dist-packages (from requests<3.0.0,>=2.13.0->spacy<3.2.0,>=3.1.0->en-core-web-sm==3.1.0) (1.24.3)\n",
            "Requirement already satisfied: certifi>=2017.4.17 in /usr/local/lib/python3.7/dist-packages (from requests<3.0.0,>=2.13.0->spacy<3.2.0,>=3.1.0->en-core-web-sm==3.1.0) (2021.5.30)\n",
            "Requirement already satisfied: idna<3,>=2.5 in /usr/local/lib/python3.7/dist-packages (from requests<3.0.0,>=2.13.0->spacy<3.2.0,>=3.1.0->en-core-web-sm==3.1.0) (2.10)\n",
            "Requirement already satisfied: click<7.2.0,>=7.1.1 in /usr/local/lib/python3.7/dist-packages (from typer<0.4.0,>=0.3.0->spacy<3.2.0,>=3.1.0->en-core-web-sm==3.1.0) (7.1.2)\n",
            "Requirement already satisfied: MarkupSafe>=0.23 in /usr/local/lib/python3.7/dist-packages (from jinja2->spacy<3.2.0,>=3.1.0->en-core-web-sm==3.1.0) (2.0.1)\n",
            "Installing collected packages: en-core-web-sm\n",
            "  Attempting uninstall: en-core-web-sm\n",
            "    Found existing installation: en-core-web-sm 2.2.5\n",
            "    Uninstalling en-core-web-sm-2.2.5:\n",
            "      Successfully uninstalled en-core-web-sm-2.2.5\n",
            "Successfully installed en-core-web-sm-3.1.0\n",
            "\u001b[38;5;2m✔ Download and installation successful\u001b[0m\n",
            "You can now load the package via spacy.load('en_core_web_sm')\n"
          ],
          "name": "stdout"
        }
      ]
    },
    {
      "cell_type": "code",
      "metadata": {
        "id": "vAzEJZakVn5Y"
      },
      "source": [
        "stopwords = set(STOP_WORDS)"
      ],
      "execution_count": null,
      "outputs": []
    },
    {
      "cell_type": "code",
      "metadata": {
        "colab": {
          "base_uri": "https://localhost:8080/"
        },
        "id": "0veUDTKAHjLA",
        "outputId": "43296a1f-e96e-48fd-dcbc-0bbffab25961"
      },
      "source": [
        "nlp.pipe_names"
      ],
      "execution_count": null,
      "outputs": [
        {
          "output_type": "execute_result",
          "data": {
            "text/plain": [
              "['tok2vec', 'tagger', 'parser', 'attribute_ruler', 'lemmatizer', 'ner']"
            ]
          },
          "metadata": {
            "tags": []
          },
          "execution_count": 6
        }
      ]
    },
    {
      "cell_type": "code",
      "metadata": {
        "colab": {
          "base_uri": "https://localhost:8080/",
          "height": 204
        },
        "id": "3AifGfW729DN",
        "outputId": "46e75f67-98c0-4cf5-b185-a12edd71058f"
      },
      "source": [
        "df = pd.read_csv(\"/content/drive/MyDrive/Data/classification_data.csv\")\n",
        "df.head()"
      ],
      "execution_count": null,
      "outputs": [
        {
          "output_type": "execute_result",
          "data": {
            "text/html": [
              "<div>\n",
              "<style scoped>\n",
              "    .dataframe tbody tr th:only-of-type {\n",
              "        vertical-align: middle;\n",
              "    }\n",
              "\n",
              "    .dataframe tbody tr th {\n",
              "        vertical-align: top;\n",
              "    }\n",
              "\n",
              "    .dataframe thead th {\n",
              "        text-align: right;\n",
              "    }\n",
              "</style>\n",
              "<table border=\"1\" class=\"dataframe\">\n",
              "  <thead>\n",
              "    <tr style=\"text-align: right;\">\n",
              "      <th></th>\n",
              "      <th>Unnamed: 0</th>\n",
              "      <th>POLICYID</th>\n",
              "      <th>Text</th>\n",
              "      <th>Product_Code</th>\n",
              "      <th>Claim</th>\n",
              "      <th>Number_of_Claims</th>\n",
              "    </tr>\n",
              "  </thead>\n",
              "  <tbody>\n",
              "    <tr>\n",
              "      <th>0</th>\n",
              "      <td>1</td>\n",
              "      <td>100218</td>\n",
              "      <td>Set null on Primary Named Policyholder to 'No ...</td>\n",
              "      <td>CPO</td>\n",
              "      <td>No</td>\n",
              "      <td>0</td>\n",
              "    </tr>\n",
              "    <tr>\n",
              "      <th>1</th>\n",
              "      <td>2</td>\n",
              "      <td>100235</td>\n",
              "      <td>Set null on Primary Named Policyholder to 'No ...</td>\n",
              "      <td>CPO</td>\n",
              "      <td>No</td>\n",
              "      <td>0</td>\n",
              "    </tr>\n",
              "    <tr>\n",
              "      <th>2</th>\n",
              "      <td>3</td>\n",
              "      <td>100288</td>\n",
              "      <td>NONE</td>\n",
              "      <td>CPO</td>\n",
              "      <td>No</td>\n",
              "      <td>0</td>\n",
              "    </tr>\n",
              "    <tr>\n",
              "      <th>3</th>\n",
              "      <td>4</td>\n",
              "      <td>100423</td>\n",
              "      <td>NOW BEING DEBITTED ON GW\\r\\nNO CLAIMS\\r\\nON CO...</td>\n",
              "      <td>CPO</td>\n",
              "      <td>No</td>\n",
              "      <td>0</td>\n",
              "    </tr>\n",
              "    <tr>\n",
              "      <th>4</th>\n",
              "      <td>5</td>\n",
              "      <td>100449</td>\n",
              "      <td>Set null on Primary Named Policyholder to 'No ...</td>\n",
              "      <td>CPO</td>\n",
              "      <td>No</td>\n",
              "      <td>0</td>\n",
              "    </tr>\n",
              "  </tbody>\n",
              "</table>\n",
              "</div>"
            ],
            "text/plain": [
              "   Unnamed: 0  POLICYID  ... Claim Number_of_Claims\n",
              "0           1    100218  ...    No                0\n",
              "1           2    100235  ...    No                0\n",
              "2           3    100288  ...    No                0\n",
              "3           4    100423  ...    No                0\n",
              "4           5    100449  ...    No                0\n",
              "\n",
              "[5 rows x 6 columns]"
            ]
          },
          "metadata": {
            "tags": []
          },
          "execution_count": 7
        }
      ]
    },
    {
      "cell_type": "code",
      "metadata": {
        "id": "ekxRq0kW3JaS",
        "colab": {
          "base_uri": "https://localhost:8080/",
          "height": 204
        },
        "outputId": "b4db6cf5-f59a-4df3-cb02-b73712187f8e"
      },
      "source": [
        "# df = df.sample(frac=0.01, replace=True, random_state=1)\n",
        "\n",
        "df = df.dropna()\n",
        "df.head()"
      ],
      "execution_count": null,
      "outputs": [
        {
          "output_type": "execute_result",
          "data": {
            "text/html": [
              "<div>\n",
              "<style scoped>\n",
              "    .dataframe tbody tr th:only-of-type {\n",
              "        vertical-align: middle;\n",
              "    }\n",
              "\n",
              "    .dataframe tbody tr th {\n",
              "        vertical-align: top;\n",
              "    }\n",
              "\n",
              "    .dataframe thead th {\n",
              "        text-align: right;\n",
              "    }\n",
              "</style>\n",
              "<table border=\"1\" class=\"dataframe\">\n",
              "  <thead>\n",
              "    <tr style=\"text-align: right;\">\n",
              "      <th></th>\n",
              "      <th>Unnamed: 0</th>\n",
              "      <th>POLICYID</th>\n",
              "      <th>Text</th>\n",
              "      <th>Product_Code</th>\n",
              "      <th>Claim</th>\n",
              "      <th>Number_of_Claims</th>\n",
              "    </tr>\n",
              "  </thead>\n",
              "  <tbody>\n",
              "    <tr>\n",
              "      <th>0</th>\n",
              "      <td>1</td>\n",
              "      <td>100218</td>\n",
              "      <td>Set null on Primary Named Policyholder to 'No ...</td>\n",
              "      <td>CPO</td>\n",
              "      <td>No</td>\n",
              "      <td>0</td>\n",
              "    </tr>\n",
              "    <tr>\n",
              "      <th>1</th>\n",
              "      <td>2</td>\n",
              "      <td>100235</td>\n",
              "      <td>Set null on Primary Named Policyholder to 'No ...</td>\n",
              "      <td>CPO</td>\n",
              "      <td>No</td>\n",
              "      <td>0</td>\n",
              "    </tr>\n",
              "    <tr>\n",
              "      <th>2</th>\n",
              "      <td>3</td>\n",
              "      <td>100288</td>\n",
              "      <td>NONE</td>\n",
              "      <td>CPO</td>\n",
              "      <td>No</td>\n",
              "      <td>0</td>\n",
              "    </tr>\n",
              "    <tr>\n",
              "      <th>3</th>\n",
              "      <td>4</td>\n",
              "      <td>100423</td>\n",
              "      <td>NOW BEING DEBITTED ON GW\\r\\nNO CLAIMS\\r\\nON CO...</td>\n",
              "      <td>CPO</td>\n",
              "      <td>No</td>\n",
              "      <td>0</td>\n",
              "    </tr>\n",
              "    <tr>\n",
              "      <th>4</th>\n",
              "      <td>5</td>\n",
              "      <td>100449</td>\n",
              "      <td>Set null on Primary Named Policyholder to 'No ...</td>\n",
              "      <td>CPO</td>\n",
              "      <td>No</td>\n",
              "      <td>0</td>\n",
              "    </tr>\n",
              "  </tbody>\n",
              "</table>\n",
              "</div>"
            ],
            "text/plain": [
              "   Unnamed: 0  POLICYID  ... Claim Number_of_Claims\n",
              "0           1    100218  ...    No                0\n",
              "1           2    100235  ...    No                0\n",
              "2           3    100288  ...    No                0\n",
              "3           4    100423  ...    No                0\n",
              "4           5    100449  ...    No                0\n",
              "\n",
              "[5 rows x 6 columns]"
            ]
          },
          "metadata": {
            "tags": []
          },
          "execution_count": 8
        }
      ]
    },
    {
      "cell_type": "code",
      "metadata": {
        "colab": {
          "base_uri": "https://localhost:8080/"
        },
        "id": "DSByWRSA3NoO",
        "outputId": "01bafb97-bb25-48ca-9f78-a248bff1387a"
      },
      "source": [
        "df['Claim'].value_counts()"
      ],
      "execution_count": null,
      "outputs": [
        {
          "output_type": "execute_result",
          "data": {
            "text/plain": [
              "No     121530\n",
              "Yes     30436\n",
              "Name: Claim, dtype: int64"
            ]
          },
          "metadata": {
            "tags": []
          },
          "execution_count": 9
        }
      ]
    },
    {
      "cell_type": "code",
      "metadata": {
        "colab": {
          "base_uri": "https://localhost:8080/",
          "height": 238
        },
        "id": "J7oSwulnbD8w",
        "outputId": "cafe3135-3b59-4fa5-905e-6d4ca567a035"
      },
      "source": [
        "df['Text'] = df['Text'].apply(lambda x: BeautifulSoup(x,'lxml').get_text())\n",
        "df.head()"
      ],
      "execution_count": null,
      "outputs": [
        {
          "output_type": "stream",
          "text": [
            "/usr/local/lib/python3.7/dist-packages/bs4/__init__.py:273: UserWarning: \"b'.'\" looks like a filename, not markup. You should probably open this file and pass the filehandle into Beautiful Soup.\n",
            "  ' Beautiful Soup.' % markup)\n"
          ],
          "name": "stderr"
        },
        {
          "output_type": "execute_result",
          "data": {
            "text/html": [
              "<div>\n",
              "<style scoped>\n",
              "    .dataframe tbody tr th:only-of-type {\n",
              "        vertical-align: middle;\n",
              "    }\n",
              "\n",
              "    .dataframe tbody tr th {\n",
              "        vertical-align: top;\n",
              "    }\n",
              "\n",
              "    .dataframe thead th {\n",
              "        text-align: right;\n",
              "    }\n",
              "</style>\n",
              "<table border=\"1\" class=\"dataframe\">\n",
              "  <thead>\n",
              "    <tr style=\"text-align: right;\">\n",
              "      <th></th>\n",
              "      <th>Unnamed: 0</th>\n",
              "      <th>POLICYID</th>\n",
              "      <th>Text</th>\n",
              "      <th>Product_Code</th>\n",
              "      <th>Claim</th>\n",
              "      <th>Number_of_Claims</th>\n",
              "    </tr>\n",
              "  </thead>\n",
              "  <tbody>\n",
              "    <tr>\n",
              "      <th>0</th>\n",
              "      <td>1</td>\n",
              "      <td>100218</td>\n",
              "      <td>Set null on Primary Named Policyholder to 'No ...</td>\n",
              "      <td>CPO</td>\n",
              "      <td>No</td>\n",
              "      <td>0</td>\n",
              "    </tr>\n",
              "    <tr>\n",
              "      <th>1</th>\n",
              "      <td>2</td>\n",
              "      <td>100235</td>\n",
              "      <td>Set null on Primary Named Policyholder to 'No ...</td>\n",
              "      <td>CPO</td>\n",
              "      <td>No</td>\n",
              "      <td>0</td>\n",
              "    </tr>\n",
              "    <tr>\n",
              "      <th>2</th>\n",
              "      <td>3</td>\n",
              "      <td>100288</td>\n",
              "      <td>NONE</td>\n",
              "      <td>CPO</td>\n",
              "      <td>No</td>\n",
              "      <td>0</td>\n",
              "    </tr>\n",
              "    <tr>\n",
              "      <th>3</th>\n",
              "      <td>4</td>\n",
              "      <td>100423</td>\n",
              "      <td>NOW BEING DEBITTED ON GW\\r\\nNO CLAIMS\\r\\nON CO...</td>\n",
              "      <td>CPO</td>\n",
              "      <td>No</td>\n",
              "      <td>0</td>\n",
              "    </tr>\n",
              "    <tr>\n",
              "      <th>4</th>\n",
              "      <td>5</td>\n",
              "      <td>100449</td>\n",
              "      <td>Set null on Primary Named Policyholder to 'No ...</td>\n",
              "      <td>CPO</td>\n",
              "      <td>No</td>\n",
              "      <td>0</td>\n",
              "    </tr>\n",
              "  </tbody>\n",
              "</table>\n",
              "</div>"
            ],
            "text/plain": [
              "   Unnamed: 0  POLICYID  ... Claim Number_of_Claims\n",
              "0           1    100218  ...    No                0\n",
              "1           2    100235  ...    No                0\n",
              "2           3    100288  ...    No                0\n",
              "3           4    100423  ...    No                0\n",
              "4           5    100449  ...    No                0\n",
              "\n",
              "[5 rows x 6 columns]"
            ]
          },
          "metadata": {
            "tags": []
          },
          "execution_count": 10
        }
      ]
    },
    {
      "cell_type": "code",
      "metadata": {
        "colab": {
          "base_uri": "https://localhost:8080/",
          "height": 204
        },
        "id": "yLw_3NKQbDi-",
        "outputId": "baa00ebd-91bd-41be-ed2e-78ed76b28445"
      },
      "source": [
        "df['emails'] = df['Text'].apply(lambda x: re.findall(r'([a-zA-Z0-9+._-]+@[a-zA-Z0-9._-]+\\.[a-zA-Z0-9_-]+)', x))\n",
        "df['emails_count'] = df['emails'].apply(lambda x: len(x))\n",
        "df[df['emails_count']>0].head()"
      ],
      "execution_count": null,
      "outputs": [
        {
          "output_type": "execute_result",
          "data": {
            "text/html": [
              "<div>\n",
              "<style scoped>\n",
              "    .dataframe tbody tr th:only-of-type {\n",
              "        vertical-align: middle;\n",
              "    }\n",
              "\n",
              "    .dataframe tbody tr th {\n",
              "        vertical-align: top;\n",
              "    }\n",
              "\n",
              "    .dataframe thead th {\n",
              "        text-align: right;\n",
              "    }\n",
              "</style>\n",
              "<table border=\"1\" class=\"dataframe\">\n",
              "  <thead>\n",
              "    <tr style=\"text-align: right;\">\n",
              "      <th></th>\n",
              "      <th>Unnamed: 0</th>\n",
              "      <th>POLICYID</th>\n",
              "      <th>Text</th>\n",
              "      <th>Product_Code</th>\n",
              "      <th>Claim</th>\n",
              "      <th>Number_of_Claims</th>\n",
              "      <th>emails</th>\n",
              "      <th>emails_count</th>\n",
              "    </tr>\n",
              "  </thead>\n",
              "  <tbody>\n",
              "    <tr>\n",
              "      <th>49</th>\n",
              "      <td>50</td>\n",
              "      <td>107534</td>\n",
              "      <td>R2021 file handling sheet has been uploaded to...</td>\n",
              "      <td>CPO</td>\n",
              "      <td>No</td>\n",
              "      <td>0</td>\n",
              "      <td>[raymillardinsurance@raymillardinsurance.co.uk]</td>\n",
              "      <td>1</td>\n",
              "    </tr>\n",
              "    <tr>\n",
              "      <th>76</th>\n",
              "      <td>77</td>\n",
              "      <td>192216</td>\n",
              "      <td>U/W issue(s):\\r\\n\\r\\n1. Liability Total Techni...</td>\n",
              "      <td>CPO</td>\n",
              "      <td>No</td>\n",
              "      <td>0</td>\n",
              "      <td>[rsouthgate@yahoo.co.uk]</td>\n",
              "      <td>1</td>\n",
              "    </tr>\n",
              "    <tr>\n",
              "      <th>80</th>\n",
              "      <td>81</td>\n",
              "      <td>192236</td>\n",
              "      <td>U/W issue(s):\\r\\n\\r\\n1. Liability Total Techni...</td>\n",
              "      <td>CPO</td>\n",
              "      <td>No</td>\n",
              "      <td>0</td>\n",
              "      <td>[rsouthgate@yahoo.co.uk]</td>\n",
              "      <td>1</td>\n",
              "    </tr>\n",
              "    <tr>\n",
              "      <th>599</th>\n",
              "      <td>600</td>\n",
              "      <td>65507370</td>\n",
              "      <td>Changed Address Line 1 on Policy Address from ...</td>\n",
              "      <td>CCI</td>\n",
              "      <td>No</td>\n",
              "      <td>0</td>\n",
              "      <td>[WRFMAIL@AVIVA.COM]</td>\n",
              "      <td>1</td>\n",
              "    </tr>\n",
              "    <tr>\n",
              "      <th>600</th>\n",
              "      <td>601</td>\n",
              "      <td>65509955</td>\n",
              "      <td>----------------------------------------------...</td>\n",
              "      <td>CCI</td>\n",
              "      <td>No</td>\n",
              "      <td>0</td>\n",
              "      <td>[WRFMAIL@AVIVA.COM]</td>\n",
              "      <td>1</td>\n",
              "    </tr>\n",
              "  </tbody>\n",
              "</table>\n",
              "</div>"
            ],
            "text/plain": [
              "     Unnamed: 0  ...  emails_count\n",
              "49           50  ...             1\n",
              "76           77  ...             1\n",
              "80           81  ...             1\n",
              "599         600  ...             1\n",
              "600         601  ...             1\n",
              "\n",
              "[5 rows x 8 columns]"
            ]
          },
          "metadata": {
            "tags": []
          },
          "execution_count": 11
        }
      ]
    },
    {
      "cell_type": "code",
      "metadata": {
        "colab": {
          "base_uri": "https://localhost:8080/",
          "height": 204
        },
        "id": "u7VwzxLXbRgJ",
        "outputId": "7c220354-8c64-4750-85fa-b5c8ad7b533b"
      },
      "source": [
        "df['Text'] = df['Text'].apply(lambda x: textacy.preprocessing.replace.emails(x, repl = ' '))\n",
        "df[df['emails_count']>0].head()"
      ],
      "execution_count": null,
      "outputs": [
        {
          "output_type": "execute_result",
          "data": {
            "text/html": [
              "<div>\n",
              "<style scoped>\n",
              "    .dataframe tbody tr th:only-of-type {\n",
              "        vertical-align: middle;\n",
              "    }\n",
              "\n",
              "    .dataframe tbody tr th {\n",
              "        vertical-align: top;\n",
              "    }\n",
              "\n",
              "    .dataframe thead th {\n",
              "        text-align: right;\n",
              "    }\n",
              "</style>\n",
              "<table border=\"1\" class=\"dataframe\">\n",
              "  <thead>\n",
              "    <tr style=\"text-align: right;\">\n",
              "      <th></th>\n",
              "      <th>Unnamed: 0</th>\n",
              "      <th>POLICYID</th>\n",
              "      <th>Text</th>\n",
              "      <th>Product_Code</th>\n",
              "      <th>Claim</th>\n",
              "      <th>Number_of_Claims</th>\n",
              "      <th>emails</th>\n",
              "      <th>emails_count</th>\n",
              "    </tr>\n",
              "  </thead>\n",
              "  <tbody>\n",
              "    <tr>\n",
              "      <th>49</th>\n",
              "      <td>50</td>\n",
              "      <td>107534</td>\n",
              "      <td>R2021 file handling sheet has been uploaded to...</td>\n",
              "      <td>CPO</td>\n",
              "      <td>No</td>\n",
              "      <td>0</td>\n",
              "      <td>[raymillardinsurance@raymillardinsurance.co.uk]</td>\n",
              "      <td>1</td>\n",
              "    </tr>\n",
              "    <tr>\n",
              "      <th>76</th>\n",
              "      <td>77</td>\n",
              "      <td>192216</td>\n",
              "      <td>U/W issue(s):\\r\\n\\r\\n1. Liability Total Techni...</td>\n",
              "      <td>CPO</td>\n",
              "      <td>No</td>\n",
              "      <td>0</td>\n",
              "      <td>[rsouthgate@yahoo.co.uk]</td>\n",
              "      <td>1</td>\n",
              "    </tr>\n",
              "    <tr>\n",
              "      <th>80</th>\n",
              "      <td>81</td>\n",
              "      <td>192236</td>\n",
              "      <td>U/W issue(s):\\r\\n\\r\\n1. Liability Total Techni...</td>\n",
              "      <td>CPO</td>\n",
              "      <td>No</td>\n",
              "      <td>0</td>\n",
              "      <td>[rsouthgate@yahoo.co.uk]</td>\n",
              "      <td>1</td>\n",
              "    </tr>\n",
              "    <tr>\n",
              "      <th>599</th>\n",
              "      <td>600</td>\n",
              "      <td>65507370</td>\n",
              "      <td>Changed Address Line 1 on Policy Address from ...</td>\n",
              "      <td>CCI</td>\n",
              "      <td>No</td>\n",
              "      <td>0</td>\n",
              "      <td>[WRFMAIL@AVIVA.COM]</td>\n",
              "      <td>1</td>\n",
              "    </tr>\n",
              "    <tr>\n",
              "      <th>600</th>\n",
              "      <td>601</td>\n",
              "      <td>65509955</td>\n",
              "      <td>----------------------------------------------...</td>\n",
              "      <td>CCI</td>\n",
              "      <td>No</td>\n",
              "      <td>0</td>\n",
              "      <td>[WRFMAIL@AVIVA.COM]</td>\n",
              "      <td>1</td>\n",
              "    </tr>\n",
              "  </tbody>\n",
              "</table>\n",
              "</div>"
            ],
            "text/plain": [
              "     Unnamed: 0  ...  emails_count\n",
              "49           50  ...             1\n",
              "76           77  ...             1\n",
              "80           81  ...             1\n",
              "599         600  ...             1\n",
              "600         601  ...             1\n",
              "\n",
              "[5 rows x 8 columns]"
            ]
          },
          "metadata": {
            "tags": []
          },
          "execution_count": 12
        }
      ]
    },
    {
      "cell_type": "code",
      "metadata": {
        "colab": {
          "base_uri": "https://localhost:8080/",
          "height": 204
        },
        "id": "1Si0sAulcXfm",
        "outputId": "4d4c6dc8-fee9-4e8e-ccbb-452d30677c2a"
      },
      "source": [
        "df['urls'] = df['Text'].apply(lambda x: (re.findall(r'(http|ftp|https)://([\\w_-]+(?:(?:\\.[\\w_-]+)+))([\\w.,@?^=%&:/~+#-]*[\\w@?^=%&/~+#-])?', x)))\n",
        "df['url_flags'] = df['urls'].apply(lambda x: len(x))\n",
        "df['Text'] = df['Text'].apply(lambda x: re.sub(r'(http|ftp|https)://([\\w_-]+(?:(?:\\.[\\w_-]+)+))([\\w.,@?^=%&:/~+#-]*[\\w@?^=%&/~+#-])?', '', x))\n",
        "df[df['url_flags']>0].head()"
      ],
      "execution_count": null,
      "outputs": [
        {
          "output_type": "execute_result",
          "data": {
            "text/html": [
              "<div>\n",
              "<style scoped>\n",
              "    .dataframe tbody tr th:only-of-type {\n",
              "        vertical-align: middle;\n",
              "    }\n",
              "\n",
              "    .dataframe tbody tr th {\n",
              "        vertical-align: top;\n",
              "    }\n",
              "\n",
              "    .dataframe thead th {\n",
              "        text-align: right;\n",
              "    }\n",
              "</style>\n",
              "<table border=\"1\" class=\"dataframe\">\n",
              "  <thead>\n",
              "    <tr style=\"text-align: right;\">\n",
              "      <th></th>\n",
              "      <th>Unnamed: 0</th>\n",
              "      <th>POLICYID</th>\n",
              "      <th>Text</th>\n",
              "      <th>Product_Code</th>\n",
              "      <th>Claim</th>\n",
              "      <th>Number_of_Claims</th>\n",
              "      <th>emails</th>\n",
              "      <th>emails_count</th>\n",
              "      <th>urls</th>\n",
              "      <th>url_flags</th>\n",
              "    </tr>\n",
              "  </thead>\n",
              "  <tbody>\n",
              "    <tr>\n",
              "      <th>14</th>\n",
              "      <td>15</td>\n",
              "      <td>101458</td>\n",
              "      <td>U/W issue(s):\\r\\n\\r\\n1. Liability Total Techni...</td>\n",
              "      <td>CPO</td>\n",
              "      <td>No</td>\n",
              "      <td>0</td>\n",
              "      <td>[]</td>\n",
              "      <td>0</td>\n",
              "      <td>[(https, web.tpa-cit.apps.aws-euw1.avivacloud....</td>\n",
              "      <td>2</td>\n",
              "    </tr>\n",
              "    <tr>\n",
              "      <th>35</th>\n",
              "      <td>36</td>\n",
              "      <td>105146</td>\n",
              "      <td>Rationale 2020 \\r\\n\\r\\nTrade - Property Owner ...</td>\n",
              "      <td>CPO</td>\n",
              "      <td>No</td>\n",
              "      <td>0</td>\n",
              "      <td>[]</td>\n",
              "      <td>0</td>\n",
              "      <td>[(https, web.tpa-cit.apps.aws-euw1.avivacloud....</td>\n",
              "      <td>1</td>\n",
              "    </tr>\n",
              "    <tr>\n",
              "      <th>84</th>\n",
              "      <td>85</td>\n",
              "      <td>192304</td>\n",
              "      <td>Claim free,\\r\\nHawkeye all Green (Loc 2 is are...</td>\n",
              "      <td>CPO</td>\n",
              "      <td>No</td>\n",
              "      <td>0</td>\n",
              "      <td>[]</td>\n",
              "      <td>0</td>\n",
              "      <td>[(https, web.tpa-cit.apps.aws-euw1.avivacloud....</td>\n",
              "      <td>1</td>\n",
              "    </tr>\n",
              "    <tr>\n",
              "      <th>226</th>\n",
              "      <td>227</td>\n",
              "      <td>197106</td>\n",
              "      <td>No claims as per CIT\\r\\n\\r\\n2 commercial premi...</td>\n",
              "      <td>CPO</td>\n",
              "      <td>No</td>\n",
              "      <td>0</td>\n",
              "      <td>[]</td>\n",
              "      <td>0</td>\n",
              "      <td>[(https, web.tpa-cit.apps.aws-euw1.avivacloud....</td>\n",
              "      <td>1</td>\n",
              "    </tr>\n",
              "    <tr>\n",
              "      <th>268</th>\n",
              "      <td>269</td>\n",
              "      <td>199218</td>\n",
              "      <td>Strategy / Business\\r\\n\\r\\nCommercial property...</td>\n",
              "      <td>CPO</td>\n",
              "      <td>No</td>\n",
              "      <td>0</td>\n",
              "      <td>[]</td>\n",
              "      <td>0</td>\n",
              "      <td>[(https, web.tpa-cit.apps.aws-euw1.avivacloud....</td>\n",
              "      <td>2</td>\n",
              "    </tr>\n",
              "  </tbody>\n",
              "</table>\n",
              "</div>"
            ],
            "text/plain": [
              "     Unnamed: 0  ...  url_flags\n",
              "14           15  ...          2\n",
              "35           36  ...          1\n",
              "84           85  ...          1\n",
              "226         227  ...          1\n",
              "268         269  ...          2\n",
              "\n",
              "[5 rows x 10 columns]"
            ]
          },
          "metadata": {
            "tags": []
          },
          "execution_count": 13
        }
      ]
    },
    {
      "cell_type": "code",
      "metadata": {
        "id": "nNW-wBcE-q-2"
      },
      "source": [
        "df['Text'] = df['Text'].apply(lambda x: textacy.preprocessing.replace.numbers(x, repl = ' '))"
      ],
      "execution_count": null,
      "outputs": []
    },
    {
      "cell_type": "code",
      "metadata": {
        "id": "srLaqEWRT7Mt"
      },
      "source": [
        "limit = 0\n",
        "\n",
        "def cleaner(df):\n",
        "    \"Extract relevant text from DataFrame using a regex\"\n",
        "    # Regex pattern for only alphanumeric, hyphenated text with 2 or more chars\n",
        "    pattern = re.compile(r\"[A-Za-z0-9\\-]{2,50}\")\n",
        "    df['clean'] = df['Text'].str.findall(pattern).str.join(' ')\n",
        "    if limit > 0:\n",
        "        return df.iloc[:limit, :].copy()\n",
        "    else:\n",
        "        return df"
      ],
      "execution_count": null,
      "outputs": []
    },
    {
      "cell_type": "code",
      "metadata": {
        "id": "gpCItCn2T97i",
        "colab": {
          "base_uri": "https://localhost:8080/"
        },
        "outputId": "495685ed-a41a-4fc8-d19a-697037ef6135"
      },
      "source": [
        "df_preproc = cleaner(df)\n",
        "print(df.Text.head(5))\n",
        "print(df_preproc.clean.head(5))"
      ],
      "execution_count": null,
      "outputs": [
        {
          "output_type": "stream",
          "text": [
            "0    Set null on Primary Named Policyholder to 'No ...\n",
            "1    Set null on Primary Named Policyholder to 'No ...\n",
            "2                                                 NONE\n",
            "3    NOW BEING DEBITTED ON GW\\r\\nNO CLAIMS\\r\\nON CO...\n",
            "4    Set null on Primary Named Policyholder to 'No ...\n",
            "Name: Text, dtype: object\n",
            "0    Set null on Primary Named Policyholder to No P...\n",
            "1    Set null on Primary Named Policyholder to No P...\n",
            "2                                                 NONE\n",
            "3    NOW BEING DEBITTED ON GW NO CLAIMS ON COVE SIN...\n",
            "4    Set null on Primary Named Policyholder to No P...\n",
            "Name: clean, dtype: object\n"
          ],
          "name": "stdout"
        }
      ]
    },
    {
      "cell_type": "code",
      "metadata": {
        "id": "wuvK8b8UY_WP",
        "colab": {
          "base_uri": "https://localhost:8080/"
        },
        "outputId": "0b6f6ddf-d23a-4685-fe41-c1858a4d7649"
      },
      "source": [
        "!pip install contractions"
      ],
      "execution_count": null,
      "outputs": [
        {
          "output_type": "stream",
          "text": [
            "Collecting contractions\n",
            "  Downloading contractions-0.0.52-py2.py3-none-any.whl (7.2 kB)\n",
            "Collecting textsearch>=0.0.21\n",
            "  Downloading textsearch-0.0.21-py2.py3-none-any.whl (7.5 kB)\n",
            "Collecting anyascii\n",
            "  Downloading anyascii-0.2.0-py3-none-any.whl (283 kB)\n",
            "\u001b[K     |████████████████████████████████| 283 kB 9.3 MB/s \n",
            "\u001b[?25hCollecting pyahocorasick\n",
            "  Downloading pyahocorasick-1.4.2.tar.gz (321 kB)\n",
            "\u001b[K     |████████████████████████████████| 321 kB 58.7 MB/s \n",
            "\u001b[?25hBuilding wheels for collected packages: pyahocorasick\n",
            "  Building wheel for pyahocorasick (setup.py) ... \u001b[?25l\u001b[?25hdone\n",
            "  Created wheel for pyahocorasick: filename=pyahocorasick-1.4.2-cp37-cp37m-linux_x86_64.whl size=85474 sha256=910981f0991b380709fb654ace5db51854bca40c9ac922aba335b9f7583a1bf8\n",
            "  Stored in directory: /root/.cache/pip/wheels/25/19/a6/8f363d9939162782bb8439d886469756271abc01f76fbd790f\n",
            "Successfully built pyahocorasick\n",
            "Installing collected packages: pyahocorasick, anyascii, textsearch, contractions\n",
            "Successfully installed anyascii-0.2.0 contractions-0.0.52 pyahocorasick-1.4.2 textsearch-0.0.21\n"
          ],
          "name": "stdout"
        }
      ]
    },
    {
      "cell_type": "code",
      "metadata": {
        "id": "jM6msA4NZOj-"
      },
      "source": [
        "import contractions"
      ],
      "execution_count": null,
      "outputs": []
    },
    {
      "cell_type": "code",
      "metadata": {
        "id": "gJkGfucQZVAr",
        "colab": {
          "base_uri": "https://localhost:8080/",
          "height": 204
        },
        "outputId": "5d8be3eb-bc41-489b-acab-30e75407e36c"
      },
      "source": [
        "df_preproc['clean'] = df_preproc['clean'].apply(lambda x: contractions.fix(x))\n",
        "df_preproc.head()"
      ],
      "execution_count": null,
      "outputs": [
        {
          "output_type": "execute_result",
          "data": {
            "text/html": [
              "<div>\n",
              "<style scoped>\n",
              "    .dataframe tbody tr th:only-of-type {\n",
              "        vertical-align: middle;\n",
              "    }\n",
              "\n",
              "    .dataframe tbody tr th {\n",
              "        vertical-align: top;\n",
              "    }\n",
              "\n",
              "    .dataframe thead th {\n",
              "        text-align: right;\n",
              "    }\n",
              "</style>\n",
              "<table border=\"1\" class=\"dataframe\">\n",
              "  <thead>\n",
              "    <tr style=\"text-align: right;\">\n",
              "      <th></th>\n",
              "      <th>Unnamed: 0</th>\n",
              "      <th>POLICYID</th>\n",
              "      <th>Text</th>\n",
              "      <th>Product_Code</th>\n",
              "      <th>Claim</th>\n",
              "      <th>Number_of_Claims</th>\n",
              "      <th>emails</th>\n",
              "      <th>emails_count</th>\n",
              "      <th>urls</th>\n",
              "      <th>url_flags</th>\n",
              "      <th>clean</th>\n",
              "    </tr>\n",
              "  </thead>\n",
              "  <tbody>\n",
              "    <tr>\n",
              "      <th>0</th>\n",
              "      <td>1</td>\n",
              "      <td>100218</td>\n",
              "      <td>Set null on Primary Named Policyholder to 'No ...</td>\n",
              "      <td>CPO</td>\n",
              "      <td>No</td>\n",
              "      <td>0</td>\n",
              "      <td>[]</td>\n",
              "      <td>0</td>\n",
              "      <td>[]</td>\n",
              "      <td>0</td>\n",
              "      <td>Set null on Primary Named Policyholder to No P...</td>\n",
              "    </tr>\n",
              "    <tr>\n",
              "      <th>1</th>\n",
              "      <td>2</td>\n",
              "      <td>100235</td>\n",
              "      <td>Set null on Primary Named Policyholder to 'No ...</td>\n",
              "      <td>CPO</td>\n",
              "      <td>No</td>\n",
              "      <td>0</td>\n",
              "      <td>[]</td>\n",
              "      <td>0</td>\n",
              "      <td>[]</td>\n",
              "      <td>0</td>\n",
              "      <td>Set null on Primary Named Policyholder to No P...</td>\n",
              "    </tr>\n",
              "    <tr>\n",
              "      <th>2</th>\n",
              "      <td>3</td>\n",
              "      <td>100288</td>\n",
              "      <td>NONE</td>\n",
              "      <td>CPO</td>\n",
              "      <td>No</td>\n",
              "      <td>0</td>\n",
              "      <td>[]</td>\n",
              "      <td>0</td>\n",
              "      <td>[]</td>\n",
              "      <td>0</td>\n",
              "      <td>NONE</td>\n",
              "    </tr>\n",
              "    <tr>\n",
              "      <th>3</th>\n",
              "      <td>4</td>\n",
              "      <td>100423</td>\n",
              "      <td>NOW BEING DEBITTED ON GW\\r\\nNO CLAIMS\\r\\nON CO...</td>\n",
              "      <td>CPO</td>\n",
              "      <td>No</td>\n",
              "      <td>0</td>\n",
              "      <td>[]</td>\n",
              "      <td>0</td>\n",
              "      <td>[]</td>\n",
              "      <td>0</td>\n",
              "      <td>NOW BEING DEBITTED ON GW NO CLAIMS ON COVE SIN...</td>\n",
              "    </tr>\n",
              "    <tr>\n",
              "      <th>4</th>\n",
              "      <td>5</td>\n",
              "      <td>100449</td>\n",
              "      <td>Set null on Primary Named Policyholder to 'No ...</td>\n",
              "      <td>CPO</td>\n",
              "      <td>No</td>\n",
              "      <td>0</td>\n",
              "      <td>[]</td>\n",
              "      <td>0</td>\n",
              "      <td>[]</td>\n",
              "      <td>0</td>\n",
              "      <td>Set null on Primary Named Policyholder to No P...</td>\n",
              "    </tr>\n",
              "  </tbody>\n",
              "</table>\n",
              "</div>"
            ],
            "text/plain": [
              "   Unnamed: 0  ...                                              clean\n",
              "0           1  ...  Set null on Primary Named Policyholder to No P...\n",
              "1           2  ...  Set null on Primary Named Policyholder to No P...\n",
              "2           3  ...                                               NONE\n",
              "3           4  ...  NOW BEING DEBITTED ON GW NO CLAIMS ON COVE SIN...\n",
              "4           5  ...  Set null on Primary Named Policyholder to No P...\n",
              "\n",
              "[5 rows x 11 columns]"
            ]
          },
          "metadata": {
            "tags": []
          },
          "execution_count": 19
        }
      ]
    },
    {
      "cell_type": "code",
      "metadata": {
        "id": "R-t7oleo_d7_"
      },
      "source": [
        "def extract_lemmas(doc, **kwargs):\n",
        "    return [t.lemma_ for t in textacy.extract.words(doc, **kwargs)]"
      ],
      "execution_count": null,
      "outputs": []
    },
    {
      "cell_type": "code",
      "metadata": {
        "id": "bDsXLScYJTpY"
      },
      "source": [
        "def extract_entities(doc, include_types=None, sep='_'):\n",
        "\n",
        "    ents = textacy.extract.entities(doc, \n",
        "             include_types=include_types, \n",
        "             exclude_types=None, \n",
        "             drop_determiners=True, \n",
        "             min_freq=1)\n",
        "    \n",
        "    return [sep.join([t.lemma_ for t in e])+'/'+e.label_ for e in ents]"
      ],
      "execution_count": null,
      "outputs": []
    },
    {
      "cell_type": "code",
      "metadata": {
        "id": "bTRwHsUAJeH4"
      },
      "source": [
        "def extract_nlp(doc):\n",
        "    return {\n",
        "    'lemmas'          : extract_lemmas(doc, exclude_pos = ['PART', 'PUNCT', \n",
        "                                        'DET', 'PRON', 'SYM', 'SPACE'],\n",
        "                                     filter_stops = False),\n",
        "    'adjs_verbs'      : extract_lemmas(doc, include_pos = ['ADJ', 'VERB']),\n",
        "    'nouns'           : extract_lemmas(doc, include_pos = ['NOUN', 'PROPN']),\n",
        "    'entities'        : extract_entities(doc, ['PERSON', 'ORG', 'GPE', 'LOC'])\n",
        "    }"
      ],
      "execution_count": null,
      "outputs": []
    },
    {
      "cell_type": "code",
      "metadata": {
        "colab": {
          "base_uri": "https://localhost:8080/"
        },
        "id": "7DjTkHfCJo0Y",
        "outputId": "f1c0ba27-ec01-4523-dc53-1844b4670ca7"
      },
      "source": [
        "nlp_columns = list(extract_nlp(nlp.make_doc('')).keys())\n",
        "print(nlp_columns)"
      ],
      "execution_count": null,
      "outputs": [
        {
          "output_type": "stream",
          "text": [
            "['lemmas', 'adjs_verbs', 'nouns', 'entities']\n"
          ],
          "name": "stdout"
        }
      ]
    },
    {
      "cell_type": "code",
      "metadata": {
        "id": "7UjJCp7EJtvO"
      },
      "source": [
        "for col in nlp_columns:\n",
        "    df_preproc[col] = None"
      ],
      "execution_count": null,
      "outputs": []
    },
    {
      "cell_type": "code",
      "metadata": {
        "colab": {
          "base_uri": "https://localhost:8080/",
          "height": 238
        },
        "id": "9l3LJlZZml95",
        "outputId": "d600c270-1a36-4dd3-a620-94190d6ef5ce"
      },
      "source": [
        "df_preproc.head()"
      ],
      "execution_count": null,
      "outputs": [
        {
          "output_type": "execute_result",
          "data": {
            "text/html": [
              "<div>\n",
              "<style scoped>\n",
              "    .dataframe tbody tr th:only-of-type {\n",
              "        vertical-align: middle;\n",
              "    }\n",
              "\n",
              "    .dataframe tbody tr th {\n",
              "        vertical-align: top;\n",
              "    }\n",
              "\n",
              "    .dataframe thead th {\n",
              "        text-align: right;\n",
              "    }\n",
              "</style>\n",
              "<table border=\"1\" class=\"dataframe\">\n",
              "  <thead>\n",
              "    <tr style=\"text-align: right;\">\n",
              "      <th></th>\n",
              "      <th>Unnamed: 0</th>\n",
              "      <th>POLICYID</th>\n",
              "      <th>Text</th>\n",
              "      <th>Product_Code</th>\n",
              "      <th>Claim</th>\n",
              "      <th>Number_of_Claims</th>\n",
              "      <th>emails</th>\n",
              "      <th>emails_count</th>\n",
              "      <th>urls</th>\n",
              "      <th>url_flags</th>\n",
              "      <th>clean</th>\n",
              "      <th>lemmas</th>\n",
              "      <th>adjs_verbs</th>\n",
              "      <th>nouns</th>\n",
              "      <th>entities</th>\n",
              "    </tr>\n",
              "  </thead>\n",
              "  <tbody>\n",
              "    <tr>\n",
              "      <th>0</th>\n",
              "      <td>1</td>\n",
              "      <td>100218</td>\n",
              "      <td>Set null on Primary Named Policyholder to 'No ...</td>\n",
              "      <td>CPO</td>\n",
              "      <td>No</td>\n",
              "      <td>0</td>\n",
              "      <td>[]</td>\n",
              "      <td>0</td>\n",
              "      <td>[]</td>\n",
              "      <td>0</td>\n",
              "      <td>Set null on Primary Named Policyholder to No P...</td>\n",
              "      <td>None</td>\n",
              "      <td>None</td>\n",
              "      <td>None</td>\n",
              "      <td>None</td>\n",
              "    </tr>\n",
              "    <tr>\n",
              "      <th>1</th>\n",
              "      <td>2</td>\n",
              "      <td>100235</td>\n",
              "      <td>Set null on Primary Named Policyholder to 'No ...</td>\n",
              "      <td>CPO</td>\n",
              "      <td>No</td>\n",
              "      <td>0</td>\n",
              "      <td>[]</td>\n",
              "      <td>0</td>\n",
              "      <td>[]</td>\n",
              "      <td>0</td>\n",
              "      <td>Set null on Primary Named Policyholder to No P...</td>\n",
              "      <td>None</td>\n",
              "      <td>None</td>\n",
              "      <td>None</td>\n",
              "      <td>None</td>\n",
              "    </tr>\n",
              "    <tr>\n",
              "      <th>2</th>\n",
              "      <td>3</td>\n",
              "      <td>100288</td>\n",
              "      <td>NONE</td>\n",
              "      <td>CPO</td>\n",
              "      <td>No</td>\n",
              "      <td>0</td>\n",
              "      <td>[]</td>\n",
              "      <td>0</td>\n",
              "      <td>[]</td>\n",
              "      <td>0</td>\n",
              "      <td>NONE</td>\n",
              "      <td>None</td>\n",
              "      <td>None</td>\n",
              "      <td>None</td>\n",
              "      <td>None</td>\n",
              "    </tr>\n",
              "    <tr>\n",
              "      <th>3</th>\n",
              "      <td>4</td>\n",
              "      <td>100423</td>\n",
              "      <td>NOW BEING DEBITTED ON GW\\r\\nNO CLAIMS\\r\\nON CO...</td>\n",
              "      <td>CPO</td>\n",
              "      <td>No</td>\n",
              "      <td>0</td>\n",
              "      <td>[]</td>\n",
              "      <td>0</td>\n",
              "      <td>[]</td>\n",
              "      <td>0</td>\n",
              "      <td>NOW BEING DEBITTED ON GW NO CLAIMS ON COVE SIN...</td>\n",
              "      <td>None</td>\n",
              "      <td>None</td>\n",
              "      <td>None</td>\n",
              "      <td>None</td>\n",
              "    </tr>\n",
              "    <tr>\n",
              "      <th>4</th>\n",
              "      <td>5</td>\n",
              "      <td>100449</td>\n",
              "      <td>Set null on Primary Named Policyholder to 'No ...</td>\n",
              "      <td>CPO</td>\n",
              "      <td>No</td>\n",
              "      <td>0</td>\n",
              "      <td>[]</td>\n",
              "      <td>0</td>\n",
              "      <td>[]</td>\n",
              "      <td>0</td>\n",
              "      <td>Set null on Primary Named Policyholder to No P...</td>\n",
              "      <td>None</td>\n",
              "      <td>None</td>\n",
              "      <td>None</td>\n",
              "      <td>None</td>\n",
              "    </tr>\n",
              "  </tbody>\n",
              "</table>\n",
              "</div>"
            ],
            "text/plain": [
              "   Unnamed: 0  POLICYID  ... nouns entities\n",
              "0           1    100218  ...  None     None\n",
              "1           2    100235  ...  None     None\n",
              "2           3    100288  ...  None     None\n",
              "3           4    100423  ...  None     None\n",
              "4           5    100449  ...  None     None\n",
              "\n",
              "[5 rows x 15 columns]"
            ]
          },
          "metadata": {
            "tags": []
          },
          "execution_count": 25
        }
      ]
    },
    {
      "cell_type": "code",
      "metadata": {
        "id": "P0s9X9iryiaT",
        "colab": {
          "base_uri": "https://localhost:8080/"
        },
        "outputId": "f8c0e5b5-4e44-4357-9dbb-c96386324503"
      },
      "source": [
        "batch_size = 50\n",
        "batches = math.ceil(len(df_preproc) / batch_size)\n",
        "docs = []\n",
        "\n",
        "for i in tqdm(range(0, len(df), batch_size), total=batches):\n",
        "    docs = nlp.pipe(df_preproc['clean'][i:i+batch_size])"
      ],
      "execution_count": null,
      "outputs": [
        {
          "output_type": "stream",
          "text": [
            "100%|██████████| 3040/3040 [00:00<00:00, 31738.49it/s]\n"
          ],
          "name": "stderr"
        }
      ]
    },
    {
      "cell_type": "code",
      "metadata": {
        "colab": {
          "base_uri": "https://localhost:8080/"
        },
        "id": "K0vJSb2gJ10D",
        "outputId": "fd8d1abb-42ba-45f7-e8f8-13afed02c3ae"
      },
      "source": [
        "batch_size = 50\n",
        "batches = math.ceil(len(df_preproc) / batch_size)\n",
        "\n",
        "for i in tqdm(range(0, len(df), batch_size), total=batches):\n",
        "    docs = nlp.pipe(df_preproc['clean'][i:i+batch_size])\n",
        "    \n",
        "    for j, doc in enumerate(docs):\n",
        "        for col, values in extract_nlp(doc).items():\n",
        "            df_preproc[col].iloc[i+j] = values"
      ],
      "execution_count": null,
      "outputs": [
        {
          "output_type": "stream",
          "text": [
            "  0%|          | 0/3040 [00:00<?, ?it/s]/usr/local/lib/python3.7/dist-packages/pandas/core/indexing.py:670: SettingWithCopyWarning: \n",
            "A value is trying to be set on a copy of a slice from a DataFrame\n",
            "\n",
            "See the caveats in the documentation: https://pandas.pydata.org/pandas-docs/stable/user_guide/indexing.html#returning-a-view-versus-a-copy\n",
            "  iloc._setitem_with_indexer(indexer, value)\n",
            "100%|██████████| 3040/3040 [1:43:59<00:00,  2.05s/it]\n"
          ],
          "name": "stderr"
        }
      ]
    },
    {
      "cell_type": "code",
      "metadata": {
        "colab": {
          "base_uri": "https://localhost:8080/",
          "height": 289
        },
        "id": "I7wikXlElxjN",
        "outputId": "0043367b-d818-4549-ad7a-ed1e1d5f42e9"
      },
      "source": [
        "df_preproc.head()"
      ],
      "execution_count": null,
      "outputs": [
        {
          "output_type": "execute_result",
          "data": {
            "text/html": [
              "<div>\n",
              "<style scoped>\n",
              "    .dataframe tbody tr th:only-of-type {\n",
              "        vertical-align: middle;\n",
              "    }\n",
              "\n",
              "    .dataframe tbody tr th {\n",
              "        vertical-align: top;\n",
              "    }\n",
              "\n",
              "    .dataframe thead th {\n",
              "        text-align: right;\n",
              "    }\n",
              "</style>\n",
              "<table border=\"1\" class=\"dataframe\">\n",
              "  <thead>\n",
              "    <tr style=\"text-align: right;\">\n",
              "      <th></th>\n",
              "      <th>Unnamed: 0</th>\n",
              "      <th>POLICYID</th>\n",
              "      <th>Text</th>\n",
              "      <th>Product_Code</th>\n",
              "      <th>Claim</th>\n",
              "      <th>Number_of_Claims</th>\n",
              "      <th>emails</th>\n",
              "      <th>emails_count</th>\n",
              "      <th>urls</th>\n",
              "      <th>url_flags</th>\n",
              "      <th>clean</th>\n",
              "      <th>lemmas</th>\n",
              "      <th>adjs_verbs</th>\n",
              "      <th>nouns</th>\n",
              "      <th>entities</th>\n",
              "    </tr>\n",
              "  </thead>\n",
              "  <tbody>\n",
              "    <tr>\n",
              "      <th>0</th>\n",
              "      <td>1</td>\n",
              "      <td>100218</td>\n",
              "      <td>Set null on Primary Named Policyholder to 'No ...</td>\n",
              "      <td>CPO</td>\n",
              "      <td>No</td>\n",
              "      <td>0</td>\n",
              "      <td>[]</td>\n",
              "      <td>0</td>\n",
              "      <td>[]</td>\n",
              "      <td>0</td>\n",
              "      <td>Set null on Primary Named Policyholder to No P...</td>\n",
              "      <td>[set, null, on, Primary, Named, Policyholder, ...</td>\n",
              "      <td>[true]</td>\n",
              "      <td>[set, null, Primary, Named, Policyholder, PAYE...</td>\n",
              "      <td>[]</td>\n",
              "    </tr>\n",
              "    <tr>\n",
              "      <th>1</th>\n",
              "      <td>2</td>\n",
              "      <td>100235</td>\n",
              "      <td>Set null on Primary Named Policyholder to 'No ...</td>\n",
              "      <td>CPO</td>\n",
              "      <td>No</td>\n",
              "      <td>0</td>\n",
              "      <td>[]</td>\n",
              "      <td>0</td>\n",
              "      <td>[]</td>\n",
              "      <td>0</td>\n",
              "      <td>Set null on Primary Named Policyholder to No P...</td>\n",
              "      <td>[set, null, on, Primary, Named, Policyholder, ...</td>\n",
              "      <td>[true]</td>\n",
              "      <td>[set, null, Primary, Named, Policyholder, PAYE...</td>\n",
              "      <td>[]</td>\n",
              "    </tr>\n",
              "    <tr>\n",
              "      <th>2</th>\n",
              "      <td>3</td>\n",
              "      <td>100288</td>\n",
              "      <td>NONE</td>\n",
              "      <td>CPO</td>\n",
              "      <td>No</td>\n",
              "      <td>0</td>\n",
              "      <td>[]</td>\n",
              "      <td>0</td>\n",
              "      <td>[]</td>\n",
              "      <td>0</td>\n",
              "      <td>NONE</td>\n",
              "      <td>[none]</td>\n",
              "      <td>[]</td>\n",
              "      <td>[]</td>\n",
              "      <td>[]</td>\n",
              "    </tr>\n",
              "    <tr>\n",
              "      <th>3</th>\n",
              "      <td>4</td>\n",
              "      <td>100423</td>\n",
              "      <td>NOW BEING DEBITTED ON GW\\r\\nNO CLAIMS\\r\\nON CO...</td>\n",
              "      <td>CPO</td>\n",
              "      <td>No</td>\n",
              "      <td>0</td>\n",
              "      <td>[]</td>\n",
              "      <td>0</td>\n",
              "      <td>[]</td>\n",
              "      <td>0</td>\n",
              "      <td>NOW BEING DEBITTED ON GW NO CLAIMS ON COVE SIN...</td>\n",
              "      <td>[now, be, debitte, ON, GW, CLAIMS, on, COVE, s...</td>\n",
              "      <td>[debitte]</td>\n",
              "      <td>[GW, CLAIMS, COVE, CHANGES, APPLIED, INC]</td>\n",
              "      <td>[]</td>\n",
              "    </tr>\n",
              "    <tr>\n",
              "      <th>4</th>\n",
              "      <td>5</td>\n",
              "      <td>100449</td>\n",
              "      <td>Set null on Primary Named Policyholder to 'No ...</td>\n",
              "      <td>CPO</td>\n",
              "      <td>No</td>\n",
              "      <td>0</td>\n",
              "      <td>[]</td>\n",
              "      <td>0</td>\n",
              "      <td>[]</td>\n",
              "      <td>0</td>\n",
              "      <td>Set null on Primary Named Policyholder to No P...</td>\n",
              "      <td>[set, null, on, Primary, Named, Policyholder, ...</td>\n",
              "      <td>[true]</td>\n",
              "      <td>[set, null, Primary, Named, Policyholder, PAYE...</td>\n",
              "      <td>[]</td>\n",
              "    </tr>\n",
              "  </tbody>\n",
              "</table>\n",
              "</div>"
            ],
            "text/plain": [
              "   Unnamed: 0  ...  entities\n",
              "0           1  ...        []\n",
              "1           2  ...        []\n",
              "2           3  ...        []\n",
              "3           4  ...        []\n",
              "4           5  ...        []\n",
              "\n",
              "[5 rows x 15 columns]"
            ]
          },
          "metadata": {
            "tags": []
          },
          "execution_count": 29
        }
      ]
    },
    {
      "cell_type": "code",
      "metadata": {
        "id": "lqsX_newVFRF"
      },
      "source": [
        "def lemmatize_pipe(doc):\n",
        "    lemma_list = [str(tok.lemma_).lower() for tok in doc\n",
        "                  if tok.is_alpha and tok.text.lower() not in stopwords] \n",
        "    return lemma_list\n",
        "\n",
        "def preprocess_pipe(texts):\n",
        "    preproc_pipe = []\n",
        "    for doc in nlp.pipe(texts, batch_size=2000):\n",
        "        preproc_pipe.append(lemmatize_pipe(doc))\n",
        "    return preproc_pipe"
      ],
      "execution_count": null,
      "outputs": []
    },
    {
      "cell_type": "code",
      "metadata": {
        "id": "vwEtNZEgVvDX"
      },
      "source": [
        "from joblib import Parallel, delayed\n",
        "\n",
        "def chunker(iterable, total_length, chunksize):\n",
        "    return (iterable[pos: pos + chunksize] for pos in range(0, total_length, chunksize))\n",
        "\n",
        "def flatten(list_of_lists):\n",
        "    \"Flatten a list of lists to a combined list\"\n",
        "    return [item for sublist in list_of_lists for item in sublist]\n",
        "\n",
        "def process_chunk(texts):\n",
        "    preproc_pipe = []\n",
        "    for doc in nlp.pipe(texts, batch_size=2000):\n",
        "        preproc_pipe.append(lemmatize_pipe(doc))\n",
        "    return preproc_pipe\n",
        "\n",
        "def preprocess_parallel(texts, chunksize=100):\n",
        "    executor = Parallel(n_jobs=7, backend='multiprocessing', prefer=\"processes\")\n",
        "    do = delayed(process_chunk)\n",
        "    tasks = (do(chunk) for chunk in chunker(texts, len(df_preproc), chunksize=chunksize))\n",
        "    result = executor(tasks)\n",
        "    return flatten(result)"
      ],
      "execution_count": null,
      "outputs": []
    },
    {
      "cell_type": "code",
      "metadata": {
        "id": "zRvkXpcIU466"
      },
      "source": [
        "%%time\n",
        "df_preproc['tokens'] = preprocess_parallel(df_preproc['clean'], chunksize=1000)"
      ],
      "execution_count": null,
      "outputs": []
    },
    {
      "cell_type": "code",
      "metadata": {
        "id": "Qe2sfqB0V4rw"
      },
      "source": [
        "df_preproc.head()"
      ],
      "execution_count": null,
      "outputs": []
    },
    {
      "cell_type": "code",
      "metadata": {
        "id": "cJvaw2-hUvMV"
      },
      "source": [
        "df_preproc.to_pickle(\"text_cleaned.pkl\")"
      ],
      "execution_count": null,
      "outputs": []
    }
  ]
}